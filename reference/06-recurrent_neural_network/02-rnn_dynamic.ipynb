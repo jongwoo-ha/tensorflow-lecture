{
 "cells": [
  {
   "cell_type": "code",
   "execution_count": 1,
   "metadata": {
    "collapsed": true
   },
   "outputs": [],
   "source": [
    "import tensorflow as tf\n",
    "import numpy as np"
   ]
  },
  {
   "cell_type": "raw",
   "metadata": {},
   "source": [
    "https://www.tensorflow.org/api_docs/python/tf/nn/dynamic_rnn\n",
    "tf.nn.dynamic_rnn.dynamic_rnn(\n",
    "    cell,\n",
    "    inputs,\n",
    "    sequence_length=None,\n",
    "    initial_state=None,\n",
    "    dtype=None,\n",
    "    parallel_iterations=None,\n",
    "    swap_memory=False,\n",
    "    time_major=False,\n",
    "    scope=None\n",
    ")"
   ]
  },
  {
   "cell_type": "code",
   "execution_count": 2,
   "metadata": {},
   "outputs": [
    {
     "name": "stdout",
     "output_type": "stream",
     "text": [
      "(1, 1, 2)\n"
     ]
    }
   ],
   "source": [
    "tf.reset_default_graph()\n",
    "sess = tf.InteractiveSession()\n",
    "\n",
    "num_units = 2\n",
    "x_data = tf.ones([1, 1, 6], tf.float32) # [batch_size, seq_length, input_dim]\n",
    "\n",
    "cell = tf.contrib.rnn.BasicRNNCell(num_units)\n",
    "outputs, _states = tf.nn.dynamic_rnn(cell, x_data, dtype=tf.float32)\n",
    "\n",
    "sess.run(tf.global_variables_initializer())\n",
    "\n",
    "print(outputs.eval().shape)"
   ]
  },
  {
   "cell_type": "code",
   "execution_count": 3,
   "metadata": {},
   "outputs": [
    {
     "name": "stdout",
     "output_type": "stream",
     "text": [
      "(1, 1, 2)\n"
     ]
    }
   ],
   "source": [
    "tf.reset_default_graph()\n",
    "sess = tf.InteractiveSession()\n",
    "\n",
    "num_units = 2\n",
    "x_data = tf.ones([1, 1, 100], tf.float32) # [batch_size, seq_length, input_dim]\n",
    "\n",
    "cell = tf.contrib.rnn.BasicRNNCell(num_units)\n",
    "outputs, _states = tf.nn.dynamic_rnn(cell, x_data, dtype=tf.float32)\n",
    "\n",
    "sess.run(tf.global_variables_initializer())\n",
    "\n",
    "print(outputs.eval().shape)"
   ]
  },
  {
   "cell_type": "code",
   "execution_count": 4,
   "metadata": {},
   "outputs": [
    {
     "name": "stdout",
     "output_type": "stream",
     "text": [
      "(1, 30, 6)\n"
     ]
    }
   ],
   "source": [
    "tf.reset_default_graph()\n",
    "sess = tf.InteractiveSession()\n",
    "\n",
    "num_units = 6\n",
    "x_data = tf.ones([1, 30, 6], tf.float32) # [batch_size, seq_length, input_dim]\n",
    "\n",
    "cell = tf.contrib.rnn.BasicRNNCell(num_units)\n",
    "outputs, _states = tf.nn.dynamic_rnn(cell, x_data, dtype=tf.float32)\n",
    "\n",
    "sess.run(tf.global_variables_initializer())\n",
    "\n",
    "print(outputs.eval().shape)"
   ]
  },
  {
   "cell_type": "code",
   "execution_count": 5,
   "metadata": {},
   "outputs": [
    {
     "name": "stdout",
     "output_type": "stream",
     "text": [
      "(100, 30, 2)\n"
     ]
    }
   ],
   "source": [
    "tf.reset_default_graph()\n",
    "sess = tf.InteractiveSession()\n",
    "\n",
    "num_units = 2\n",
    "x_data = tf.ones([100, 30, 100], tf.float32) # [batch_size, seq_length, input_dim]\n",
    "\n",
    "cell = tf.contrib.rnn.BasicRNNCell(num_units)\n",
    "outputs, _states = tf.nn.dynamic_rnn(cell, x_data, dtype=tf.float32)\n",
    "\n",
    "sess.run(tf.global_variables_initializer())\n",
    "\n",
    "print(outputs.eval().shape)"
   ]
  },
  {
   "cell_type": "code",
   "execution_count": 6,
   "metadata": {},
   "outputs": [
    {
     "name": "stdout",
     "output_type": "stream",
     "text": [
      "[[4 1 3 4 5 0 0]]\n",
      "[[1 3 4 5 0 0 2]]\n",
      "hi hell\n",
      "i hello\n"
     ]
    }
   ],
   "source": [
    "sample = 'hi hello'\n",
    "idx2char = list(set(sample))\n",
    "char2idx = {c: i for i, c in enumerate(idx2char)}\n",
    "\n",
    "def encode(string, shape=[1, -1]):\n",
    "    return np.array([char2idx[c] for c in string if c in idx2char]).reshape(shape)\n",
    "\n",
    "def decode(array):\n",
    "    return ''.join([idx2char[i] for i in np.reshape(array, [-1])])\n",
    "\n",
    "x_data = encode(sample[:-1])\n",
    "y_data = encode(sample[1:])\n",
    "\n",
    "print(x_data)\n",
    "print(y_data)\n",
    "\n",
    "print(decode(x_data))\n",
    "print(decode(y_data))"
   ]
  }
 ],
 "metadata": {
  "kernelspec": {
   "display_name": "Python 3",
   "language": "python",
   "name": "python3"
  },
  "language_info": {
   "codemirror_mode": {
    "name": "ipython",
    "version": 3
   },
   "file_extension": ".py",
   "mimetype": "text/x-python",
   "name": "python",
   "nbconvert_exporter": "python",
   "pygments_lexer": "ipython3",
   "version": "3.6.1"
  }
 },
 "nbformat": 4,
 "nbformat_minor": 2
}
