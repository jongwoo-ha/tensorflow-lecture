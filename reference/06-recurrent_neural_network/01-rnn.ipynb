{
 "cells": [
  {
   "cell_type": "code",
   "execution_count": 1,
   "metadata": {
    "collapsed": true
   },
   "outputs": [],
   "source": [
    "import tensorflow as tf\n",
    "import numpy as np"
   ]
  },
  {
   "cell_type": "code",
   "execution_count": 2,
   "metadata": {
    "collapsed": true
   },
   "outputs": [],
   "source": [
    "sample = 'hi hello'\n",
    "idx2char = list(set(sample))\n",
    "char2idx = {c: i for i, c in enumerate(idx2char)}\n",
    "num_classes = len(idx2char)\n",
    "num_units = num_classes\n",
    "\n",
    "def encode(string, shape=[-1, 1]):\n",
    "    return np.array([char2idx[c] for c in string if c in idx2char]).reshape(shape)\n",
    "\n",
    "def decode(array):\n",
    "    return ''.join([idx2char[i] for i in np.reshape(array, [-1])])"
   ]
  },
  {
   "cell_type": "code",
   "execution_count": 3,
   "metadata": {},
   "outputs": [
    {
     "name": "stdout",
     "output_type": "stream",
     "text": [
      "['e', ' ', 'h', 'o', 'l', 'i']\n",
      "[[2]\n",
      " [5]\n",
      " [1]\n",
      " [2]\n",
      " [0]\n",
      " [4]\n",
      " [4]\n",
      " [3]]\n",
      "hi hello\n"
     ]
    }
   ],
   "source": [
    "seq = encode(sample)\n",
    "\n",
    "print(idx2char)\n",
    "print(seq)\n",
    "print(decode(seq))"
   ]
  }
 ],
 "metadata": {
  "kernelspec": {
   "display_name": "Python 3",
   "language": "python",
   "name": "python3"
  },
  "language_info": {
   "codemirror_mode": {
    "name": "ipython",
    "version": 3
   },
   "file_extension": ".py",
   "mimetype": "text/x-python",
   "name": "python",
   "nbconvert_exporter": "python",
   "pygments_lexer": "ipython3",
   "version": "3.6.1"
  }
 },
 "nbformat": 4,
 "nbformat_minor": 2
}
