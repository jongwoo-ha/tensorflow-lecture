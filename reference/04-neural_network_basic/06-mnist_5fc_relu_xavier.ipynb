{
 "cells": [
  {
   "cell_type": "raw",
   "metadata": {},
   "source": [
    "https://www.tensorflow.org/api_docs/python/tf/contrib/layers/xavier_initializer"
   ]
  },
  {
   "cell_type": "code",
   "execution_count": 1,
   "metadata": {
    "collapsed": true
   },
   "outputs": [],
   "source": [
    "import tensorflow as tf\n",
    "import numpy as np\n",
    "\n",
    "tf.set_random_seed(0)\n",
    "\n",
    "sess = tf.InteractiveSession()"
   ]
  },
  {
   "cell_type": "code",
   "execution_count": 2,
   "metadata": {},
   "outputs": [],
   "source": [
    "# https://www.tensorflow.org/api_docs/python/tf/contrib/layers/xavier_initializer\n",
    "# tf.xavier_initializer(\n",
    "#     uniform=True,\n",
    "#     seed=None,\n",
    "#     dtype=tf.float32\n",
    "# )\n",
    "\n",
    "xavier = tf.contrib.layers.xavier_initializer()\n",
    "normal = tf.random_normal_initializer()\n",
    "\n",
    "WX = tf.get_variable('WX', [784, 512], initializer=xavier)\n",
    "WN = tf.get_variable('WN', [784, 512], initializer=normal)\n",
    "\n",
    "sess.run(tf.global_variables_initializer())\n",
    "\n",
    "wx, wn = WX.eval(), WN.eval()"
   ]
  },
  {
   "cell_type": "code",
   "execution_count": 3,
   "metadata": {},
   "outputs": [
    {
     "name": "stdout",
     "output_type": "stream",
     "text": [
      "min: -5.08101\n",
      "max: 4.61915\n",
      "mean: 0.00128859\n",
      "std: 1.00122\n"
     ]
    }
   ],
   "source": [
    "print('min:', np.min(wn))\n",
    "print('max:', np.max(wn))\n",
    "print('mean:', np.mean(wn))\n",
    "print('std:', np.std(wn))"
   ]
  },
  {
   "cell_type": "code",
   "execution_count": 5,
   "metadata": {},
   "outputs": [
    {
     "name": "stdout",
     "output_type": "stream",
     "text": [
      "min: -0.0680414\n",
      "max: 0.0680403\n",
      "mean: 3.43443e-05\n",
      "std: 0.0392475\n"
     ]
    }
   ],
   "source": [
    "print('min:', np.min(wx))\n",
    "print('max:', np.max(wx))\n",
    "print('mean:', np.mean(wx))\n",
    "print('std:', np.std(wx))"
   ]
  },
  {
   "cell_type": "code",
   "execution_count": 4,
   "metadata": {},
   "outputs": [
    {
     "name": "stdout",
     "output_type": "stream",
     "text": [
      "0.068041381744\n",
      "0.0392837100659\n"
     ]
    }
   ],
   "source": [
    "# uniform distribution: x = sqrt(6. / (in + out)); [-x, x]\n",
    "# normal distribution: sqrt(2. / (in + out))\n",
    "\n",
    "print(np.sqrt(6./(784+512)))\n",
    "print(np.sqrt(2./(784+512)))"
   ]
  }
 ],
 "metadata": {
  "kernelspec": {
   "display_name": "Python 3",
   "language": "python",
   "name": "python3"
  },
  "language_info": {
   "codemirror_mode": {
    "name": "ipython",
    "version": 3
   },
   "file_extension": ".py",
   "mimetype": "text/x-python",
   "name": "python",
   "nbconvert_exporter": "python",
   "pygments_lexer": "ipython3",
   "version": "3.6.1"
  }
 },
 "nbformat": 4,
 "nbformat_minor": 2
}
