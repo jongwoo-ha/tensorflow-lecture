{
 "cells": [
  {
   "cell_type": "code",
   "execution_count": 1,
   "metadata": {
    "collapsed": true
   },
   "outputs": [],
   "source": [
    "import tensorflow as tf\n",
    "import numpy as np\n",
    "\n",
    "sess = tf.InteractiveSession()\n",
    "np.set_printoptions(precision=3)\n",
    "np.set_printoptions(suppress=True)"
   ]
  },
  {
   "cell_type": "code",
   "execution_count": 2,
   "metadata": {},
   "outputs": [
    {
     "name": "stdout",
     "output_type": "stream",
     "text": [
      "[[  0.      0.    -12.      0.      0.   ]\n",
      " [  0.      1.     -4.      0.018   0.   ]\n",
      " [  1.      0.     -4.      0.018   0.   ]\n",
      " [  1.      1.      4.      0.982   1.   ]]\n"
     ]
    }
   ],
   "source": [
    "# AND\n",
    "\n",
    "x_data = [[0,0],[0,1],[1,0],[1,1]]\n",
    "\n",
    "X = tf.placeholder(tf.float32, shape=[None, 2])\n",
    "\n",
    "W = tf.Variable([[8.],[8.]], tf.float32)\n",
    "b = tf.Variable([-12.], tf.float32)\n",
    "\n",
    "logits = tf.matmul(X, W) + b\n",
    "H = tf.nn.sigmoid(logits)\n",
    "prediction = tf.cast(H > 0.5, tf.float32)\n",
    "\n",
    "sess.run(tf.global_variables_initializer())\n",
    "\n",
    "print(tf.concat([X, logits, H, prediction], 1).eval({X: x_data}))"
   ]
  },
  {
   "cell_type": "code",
   "execution_count": 3,
   "metadata": {},
   "outputs": [
    {
     "name": "stdout",
     "output_type": "stream",
     "text": [
      "[[  0.      0.     -5.      0.007   0.   ]\n",
      " [  0.      1.      3.      0.953   1.   ]\n",
      " [  1.      0.      3.      0.953   1.   ]\n",
      " [  1.      1.     11.      1.      1.   ]]\n"
     ]
    }
   ],
   "source": [
    "# OR\n",
    "\n",
    "x_data = [[0,0],[0,1],[1,0],[1,1]]\n",
    "\n",
    "X = tf.placeholder(tf.float32, shape=[None, 2])\n",
    "\n",
    "W = tf.Variable([[8.],[8.]], tf.float32)\n",
    "b = tf.Variable([-5.], tf.float32)\n",
    "\n",
    "logits = tf.matmul(X, W) + b\n",
    "H = tf.nn.sigmoid(logits)\n",
    "prediction = tf.cast(H > 0.5, tf.float32)\n",
    "\n",
    "sess.run(tf.global_variables_initializer())\n",
    "\n",
    "print(tf.concat([X, logits, H, prediction], 1).eval({X: x_data}))"
   ]
  }
 ],
 "metadata": {
  "kernelspec": {
   "display_name": "Python 3",
   "language": "python",
   "name": "python3"
  },
  "language_info": {
   "codemirror_mode": {
    "name": "ipython",
    "version": 3
   },
   "file_extension": ".py",
   "mimetype": "text/x-python",
   "name": "python",
   "nbconvert_exporter": "python",
   "pygments_lexer": "ipython3",
   "version": "3.6.1"
  }
 },
 "nbformat": 4,
 "nbformat_minor": 2
}
