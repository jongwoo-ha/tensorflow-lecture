{
 "cells": [
  {
   "cell_type": "code",
   "execution_count": 1,
   "metadata": {
    "collapsed": true
   },
   "outputs": [],
   "source": [
    "import tensorflow as tf\n",
    "import numpy as np\n",
    "\n",
    "sess = tf.InteractiveSession()\n",
    "np.set_printoptions(precision=3)\n",
    "np.set_printoptions(suppress=True)"
   ]
  },
  {
   "cell_type": "code",
   "execution_count": 2,
   "metadata": {},
   "outputs": [
    {
     "name": "stdout",
     "output_type": "stream",
     "text": [
      "[[ 0.     0.     0.     0.953  0.     1.     0.01   0.   ]\n",
      " [ 0.     1.     0.018  0.007  0.     0.     0.943  1.   ]\n",
      " [ 1.     0.     0.018  0.007  0.     0.     0.943  1.   ]\n",
      " [ 1.     1.     0.982  0.     1.     0.     0.008  0.   ]]\n"
     ]
    }
   ],
   "source": [
    "x_data = [[0,0],[0,1],[1,0],[1,1]]\n",
    "\n",
    "X = tf.placeholder(tf.float32, shape=[None, 2])\n",
    "\n",
    "W1 = tf.Variable([[8., -8.],\n",
    "                  [8., -8.]], tf.float32)\n",
    "b1 = tf.Variable([-12., 3.], tf.float32)\n",
    "L1 = tf.nn.sigmoid(tf.matmul(X, W1) + b1) # AND, NOT(OR)\n",
    "\n",
    "W2 = tf.Variable([[-8.],\n",
    "                  [-8.]], tf.float32)\n",
    "b2 = tf.Variable([3.], tf.float32)\n",
    "H = tf.nn.sigmoid(tf.matmul(L1, W2) + b2) # NOT(OR)\n",
    "\n",
    "P1 = tf.cast(L1 > 0.5, tf.float32)\n",
    "P2 = tf.cast(H > 0.5, tf.float32)\n",
    "\n",
    "sess.run(tf.global_variables_initializer())\n",
    "\n",
    "print(tf.concat([X, L1, P1, H, P2], 1).eval({X: x_data}))"
   ]
  }
 ],
 "metadata": {
  "kernelspec": {
   "display_name": "Python 3",
   "language": "python",
   "name": "python3"
  },
  "language_info": {
   "codemirror_mode": {
    "name": "ipython",
    "version": 3
   },
   "file_extension": ".py",
   "mimetype": "text/x-python",
   "name": "python",
   "nbconvert_exporter": "python",
   "pygments_lexer": "ipython3",
   "version": "3.6.1"
  }
 },
 "nbformat": 4,
 "nbformat_minor": 2
}
