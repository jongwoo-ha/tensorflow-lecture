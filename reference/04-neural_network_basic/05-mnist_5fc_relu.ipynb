{
 "cells": [
  {
   "cell_type": "raw",
   "metadata": {},
   "source": [
    "https://www.tensorflow.org/api_guides/python/nn#Activation_Functions\n",
    "tf.nn.relu()"
   ]
  },
  {
   "cell_type": "code",
   "execution_count": 1,
   "metadata": {
    "collapsed": true
   },
   "outputs": [],
   "source": [
    "import tensorflow as tf\n",
    "\n",
    "tf.set_random_seed(0)\n",
    "\n",
    "sess = tf.InteractiveSession()"
   ]
  },
  {
   "cell_type": "code",
   "execution_count": 2,
   "metadata": {},
   "outputs": [
    {
     "name": "stdout",
     "output_type": "stream",
     "text": [
      "[[ 0.99995458  0.88079703  0.95257413]\n",
      " [ 0.88079703  0.98201376  0.11920292]\n",
      " [ 0.11920292  0.95257413  0.99966466]]\n"
     ]
    }
   ],
   "source": [
    "logits = tf.constant([[10, 2, 3],\n",
    "                      [2, 4, -2],\n",
    "                      [-2, 3, 8]], tf.float32)\n",
    "\n",
    "H = tf.nn.sigmoid(logits)\n",
    "\n",
    "print(H.eval())"
   ]
  },
  {
   "cell_type": "code",
   "execution_count": 3,
   "metadata": {},
   "outputs": [
    {
     "name": "stdout",
     "output_type": "stream",
     "text": [
      "[[ 10.   2.   3.]\n",
      " [  2.   4.   0.]\n",
      " [  0.   3.   8.]]\n"
     ]
    }
   ],
   "source": [
    "# https://www.tensorflow.org/api_docs/python/tf/nn/relu\n",
    "# tf.relu(\n",
    "#     features,\n",
    "#     name=None\n",
    "# )\n",
    "logits = tf.constant([[10, 2, 3],\n",
    "                      [2, 4, -2],\n",
    "                      [-2, 3, 8]], tf.float32)\n",
    "\n",
    "H = tf.nn.relu(logits)\n",
    "\n",
    "print(H.eval())"
   ]
  },
  {
   "cell_type": "code",
   "execution_count": 4,
   "metadata": {},
   "outputs": [
    {
     "name": "stdout",
     "output_type": "stream",
     "text": [
      "[[ 10.   2.   3.]\n",
      " [  2.   4.   0.]\n",
      " [  0.   3.   8.]]\n"
     ]
    }
   ],
   "source": [
    "logits = tf.constant([[10, 2, 3],\n",
    "                      [2, 4, -2],\n",
    "                      [-2, 3, 8]], tf.float32)\n",
    "print(tf.maximum(logits, 0).eval())"
   ]
  },
  {
   "cell_type": "code",
   "execution_count": 5,
   "metadata": {},
   "outputs": [
    {
     "name": "stdout",
     "output_type": "stream",
     "text": [
      "[[-1.26291096 -0.46090817  1.4274621  -2.73798013]\n",
      " [-1.47733939 -0.36946404  1.31702483 -2.81154442]\n",
      " [-1.55446351 -0.31293929  1.25203395 -2.81277347]]\n",
      "[[-1.26291096 -0.46090817  1.4274621  -2.73798013]\n",
      " [-1.47733939 -0.36946404  1.31702483 -2.81154442]\n",
      " [-1.59847391 -0.27683979  1.21143734 -2.80545568]]\n"
     ]
    }
   ],
   "source": [
    "X = tf.placeholder(tf.float32, [None, 2])\n",
    "\n",
    "W1 = tf.Variable(tf.random_normal([2, 16]))\n",
    "W2 = tf.Variable(tf.random_normal([16, 16]))\n",
    "W3 = tf.Variable(tf.random_normal([16, 16]))\n",
    "W4 = tf.Variable(tf.random_normal([16, 16]))\n",
    "W5 = tf.Variable(tf.random_normal([16, 4]))\n",
    "\n",
    "b1 = tf.Variable(tf.zeros([16]))\n",
    "b2 = tf.Variable(tf.zeros([16]))\n",
    "b3 = tf.Variable(tf.zeros([16]))\n",
    "b4 = tf.Variable(tf.zeros([16]))\n",
    "b5 = tf.Variable(tf.zeros([4]))\n",
    "\n",
    "L1 = tf.nn.sigmoid(tf.matmul(X, W1) + b1)\n",
    "L2 = tf.nn.sigmoid(tf.matmul(L1, W2) + b2)\n",
    "L3 = tf.nn.sigmoid(tf.matmul(L2, W3) + b3)\n",
    "L4 = tf.nn.sigmoid(tf.matmul(L3, W4) + b4)\n",
    "\n",
    "logits = tf.matmul(L4, W5) + b5\n",
    "\n",
    "sess.run(tf.global_variables_initializer())\n",
    "\n",
    "print(logits.eval({X: [[1, 2],\n",
    "                       [3, 4],\n",
    "                       [5, 6]]}))\n",
    "\n",
    "print(logits.eval({X: [[1, 2],\n",
    "                       [3, 4],\n",
    "                       [50, 60]]}))"
   ]
  },
  {
   "cell_type": "code",
   "execution_count": 6,
   "metadata": {},
   "outputs": [
    {
     "name": "stdout",
     "output_type": "stream",
     "text": [
      "[[ 189.10604858  123.17449951   96.80147552  144.17573547]\n",
      " [ 553.32946777  252.91471863  217.99275208  376.28585815]\n",
      " [ 917.88757324  389.08676147  330.90988159  622.58703613]]\n",
      "[[  189.10604858   123.17449951    96.80147552   144.17573547]\n",
      " [  553.32946777   252.91471863   217.99275208   376.28585815]\n",
      " [ 9178.87597656  3890.86791992  3309.10058594  6225.87255859]]\n"
     ]
    }
   ],
   "source": [
    "X = tf.placeholder(tf.float32, [None, 2])\n",
    "\n",
    "W1 = tf.Variable(tf.random_normal([2, 16]))\n",
    "W2 = tf.Variable(tf.random_normal([16, 16]))\n",
    "W3 = tf.Variable(tf.random_normal([16, 16]))\n",
    "W4 = tf.Variable(tf.random_normal([16, 16]))\n",
    "W5 = tf.Variable(tf.random_normal([16, 4]))\n",
    "\n",
    "b1 = tf.Variable(tf.zeros([16]))\n",
    "b2 = tf.Variable(tf.zeros([16]))\n",
    "b3 = tf.Variable(tf.zeros([16]))\n",
    "b4 = tf.Variable(tf.zeros([16]))\n",
    "b5 = tf.Variable(tf.zeros([4]))\n",
    "\n",
    "L1 = tf.nn.relu(tf.matmul(X, W1) + b1)\n",
    "L2 = tf.nn.relu(tf.matmul(L1, W2) + b2)\n",
    "L3 = tf.nn.relu(tf.matmul(L2, W3) + b3)\n",
    "L4 = tf.nn.relu(tf.matmul(L3, W4) + b4)\n",
    "\n",
    "logits = tf.matmul(L4, W5) + b5\n",
    "\n",
    "sess.run(tf.global_variables_initializer())\n",
    "\n",
    "print(logits.eval({X: [[1, 2],\n",
    "                       [3, 4],\n",
    "                       [5, 6]]}))\n",
    "\n",
    "print(logits.eval({X: [[1, 2],\n",
    "                       [3, 4],\n",
    "                       [50, 60]]}))"
   ]
  }
 ],
 "metadata": {
  "kernelspec": {
   "display_name": "Python 3",
   "language": "python",
   "name": "python3"
  },
  "language_info": {
   "codemirror_mode": {
    "name": "ipython",
    "version": 3
   },
   "file_extension": ".py",
   "mimetype": "text/x-python",
   "name": "python",
   "nbconvert_exporter": "python",
   "pygments_lexer": "ipython3",
   "version": "3.6.1"
  }
 },
 "nbformat": 4,
 "nbformat_minor": 2
}
