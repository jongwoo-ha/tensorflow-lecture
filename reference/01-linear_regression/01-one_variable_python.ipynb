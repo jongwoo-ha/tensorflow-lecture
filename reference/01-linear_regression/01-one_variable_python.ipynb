{
 "cells": [
  {
   "attachments": {
    "image.png": {
     "image/png": "[encoded data removed]"
    }
   },
   "cell_type": "markdown",
   "metadata": {},
   "source": [
    "<h2>Hypothesis</h2>\n",
    "<div style=\"float:left;\">\n",
    "![image.png](attachment:image.png)\n",
    "</div>"
   ]
  },
  {
   "cell_type": "code",
   "execution_count": 1,
   "metadata": {},
   "outputs": [
    {
     "name": "stdout",
     "output_type": "stream",
     "text": [
      "7\n"
     ]
    }
   ],
   "source": [
    "def h(x, w, b):\n",
    "    return w * x + b\n",
    "\n",
    "w, b = 1, 1\n",
    "print(h(6, w, b)) # 7"
   ]
  },
  {
   "cell_type": "code",
   "execution_count": 2,
   "metadata": {},
   "outputs": [
    {
     "name": "stdout",
     "output_type": "stream",
     "text": [
      "1\n",
      "2\n",
      "3\n",
      "4\n",
      "5\n",
      "6\n"
     ]
    }
   ],
   "source": [
    "# for\n",
    "x_train = [0, 1, 2, 3, 4, 5]\n",
    "for x in x_train:\n",
    "    print(h(x, w, b))"
   ]
  },
  {
   "attachments": {
    "image.png": {
     "image/png": "[encoded data removed]"
    }
   },
   "cell_type": "markdown",
   "metadata": {},
   "source": [
    "<h2>Cost</h2>\n",
    "<div style=\"float:left;\">\n",
    "![image.png](attachment:image.png)\n",
    "</div>"
   ]
  },
  {
   "cell_type": "code",
   "execution_count": 3,
   "metadata": {},
   "outputs": [
    {
     "name": "stdout",
     "output_type": "stream",
     "text": [
      "30.333333333333332\n",
      "0.0\n"
     ]
    }
   ],
   "source": [
    "def cost(xs, w, b, ys):\n",
    "    m = len(xs)\n",
    "    sum = 0.\n",
    "    for x, y in zip(xs, ys):\n",
    "        hx = h(x, w, b)\n",
    "        sum += (hx - y)**2\n",
    "    return sum / (2*m)\n",
    "\n",
    "x_train = [0, 1, 2, 3, 4, 5]\n",
    "y_train = [1, 2, 3, 4, 5, 6]\n",
    "\n",
    "w, b = -1, -1\n",
    "print(cost(x_train, w, b, y_train)) # 30.333333333333332\n",
    "\n",
    "w, b = 1, 1\n",
    "print(cost(x_train, w, b, y_train)) # 0.0"
   ]
  },
  {
   "attachments": {
    "image.png": {
     "image/png": "[encoded data removed]"
    }
   },
   "cell_type": "markdown",
   "metadata": {},
   "source": [
    "<h2>Partial derivatives of cost</h2>\n",
    "<div style=\"float:left;\">\n",
    "![image.png](attachment:image.png)\n",
    "</div>"
   ]
  },
  {
   "cell_type": "code",
   "execution_count": 4,
   "metadata": {},
   "outputs": [
    {
     "name": "stdout",
     "output_type": "stream",
     "text": [
      "(-23.333333333333332, -7.0)\n",
      "(0.0, 0.0)\n"
     ]
    }
   ],
   "source": [
    "def derivative_j(xs, w, b, ys):\n",
    "    m = len(xs)\n",
    "    sum_w, sum_b = 0., 0.\n",
    "    for x, y in zip(xs, ys):\n",
    "        hx = h(x, w, b)\n",
    "        sum_w += (hx - y)*x\n",
    "        sum_b += hx - y\n",
    "    return sum_w/m, sum_b/m\n",
    "\n",
    "x_train = [0, 1, 2, 3, 4, 5]\n",
    "y_train = [1, 2, 3, 4, 5, 6]\n",
    "\n",
    "w, b = -1, -1\n",
    "print(derivative_j(x_train, w, b, y_train)) # (-23.333333333333332, -7.0)\n",
    "\n",
    "w, b = 1, 1\n",
    "print(derivative_j(x_train, w, b, y_train)) # (0.0, 0.0)"
   ]
  },
  {
   "attachments": {
    "image.png": {
     "image/png": "[encoded data removed]"
    }
   },
   "cell_type": "markdown",
   "metadata": {},
   "source": [
    "<h2>Gradient descent</h2>\n",
    "<div style=\"float:left;\">\n",
    "![image.png](attachment:image.png)\n",
    "</div>"
   ]
  },
  {
   "cell_type": "code",
   "execution_count": 5,
   "metadata": {},
   "outputs": [
    {
     "name": "stdout",
     "output_type": "stream",
     "text": [
      "0.16666666666666674 -0.6499999999999999\n",
      "1.0 1.0\n"
     ]
    }
   ],
   "source": [
    "def gradient_descent(xs, w, b, ys, alpha):\n",
    "    djw, djb = derivative_j(xs, w, b, ys)\n",
    "    w = w - alpha * djw\n",
    "    b = b - alpha * djb\n",
    "    return w, b\n",
    "\n",
    "alpha = 0.05\n",
    "x_train = [0, 1, 2, 3, 4, 5]\n",
    "y_train = [1, 2, 3, 4, 5, 6]\n",
    "\n",
    "w, b = -1, -1\n",
    "w, b = gradient_descent(x_train, w, b, y_train, alpha)\n",
    "print(w, b)\n",
    "\n",
    "w, b = 1, 1\n",
    "w, b = gradient_descent(x_train, w, b, y_train, alpha)\n",
    "print(w, b)"
   ]
  },
  {
   "cell_type": "code",
   "execution_count": 6,
   "metadata": {},
   "outputs": [
    {
     "name": "stdout",
     "output_type": "stream",
     "text": [
      "w: 1.00000, b: 1.00000\n",
      "x: 6.00000, h(x): 7.00000\n"
     ]
    }
   ],
   "source": [
    "alpha = 0.05\n",
    "x_train = [0, 1, 2, 3, 4, 5]\n",
    "y_train = [1, 2, 3, 4, 5, 6]\n",
    "\n",
    "w, b = -1, -1\n",
    "\n",
    "for step in range(2000):\n",
    "    w, b = gradient_descent(x_train, w, b, y_train, alpha)\n",
    "\n",
    "print('w: %.5f, b: %.5f' % (w, b))\n",
    "print('x: %.5f, h(x): %.5f' % (6, h(6, w, b)))"
   ]
  }
 ],
 "metadata": {
  "kernelspec": {
   "display_name": "Python 3",
   "language": "python",
   "name": "python3"
  },
  "language_info": {
   "codemirror_mode": {
    "name": "ipython",
    "version": 3
   },
   "file_extension": ".py",
   "mimetype": "text/x-python",
   "name": "python",
   "nbconvert_exporter": "python",
   "pygments_lexer": "ipython3",
   "version": "3.6.1"
  }
 },
 "nbformat": 4,
 "nbformat_minor": 2
}
