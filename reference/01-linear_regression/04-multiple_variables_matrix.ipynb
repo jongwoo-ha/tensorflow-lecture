{
 "cells": [
  {
   "cell_type": "raw",
   "metadata": {},
   "source": [
    "tf.random_normal()\n",
    "tf.set_random_seed()"
   ]
  },
  {
   "cell_type": "code",
   "execution_count": 1,
   "metadata": {},
   "outputs": [
    {
     "name": "stdout",
     "output_type": "stream",
     "text": [
      "[[ 1.  2.]\n",
      " [ 3.  4.]]\n",
      "[[ 1.  2.]\n",
      " [ 3.  4.]]\n"
     ]
    }
   ],
   "source": [
    "import tensorflow as tf\n",
    "\n",
    "sess = tf.InteractiveSession()\n",
    "\n",
    "a = tf.constant([[1, 2],\n",
    "                 [3, 4]], tf.float32)\n",
    "\n",
    "print(sess.run(a))\n",
    "print(a.eval())"
   ]
  },
  {
   "cell_type": "code",
   "execution_count": 2,
   "metadata": {},
   "outputs": [
    {
     "name": "stdout",
     "output_type": "stream",
     "text": [
      "[[  75.]\n",
      " [  93.]\n",
      " [  90.]\n",
      " [ 100.]\n",
      " [  70.]]\n"
     ]
    }
   ],
   "source": [
    "X = tf.constant([[73, 80, 75],\n",
    "                 [93, 88, 93],\n",
    "                 [89, 91, 90],\n",
    "                 [96, 98, 100],\n",
    "                 [73, 66, 70]], tf.float32)\n",
    "\n",
    "W = tf.constant([[.0],\n",
    "                 [.0],\n",
    "                 [1.]], tf.float32)\n",
    "\n",
    "XW = tf.matmul(X, W)\n",
    "\n",
    "print(XW.eval()) # print(sess.run(XW))"
   ]
  },
  {
   "cell_type": "code",
   "execution_count": 3,
   "metadata": {},
   "outputs": [
    {
     "name": "stdout",
     "output_type": "stream",
     "text": [
      "X: Tensor(\"Const_1:0\", shape=(5, 3), dtype=float32)\n",
      "W: Tensor(\"Const_2:0\", shape=(3, 1), dtype=float32)\n",
      "XW: Tensor(\"MatMul:0\", shape=(5, 1), dtype=float32)\n"
     ]
    }
   ],
   "source": [
    "print('X:', X)\n",
    "print('W:', W)\n",
    "print('XW:', XW)"
   ]
  },
  {
   "cell_type": "code",
   "execution_count": 4,
   "metadata": {},
   "outputs": [
    {
     "name": "stdout",
     "output_type": "stream",
     "text": [
      "[[  85.]\n",
      " [ 103.]\n",
      " [ 100.]\n",
      " [ 110.]\n",
      " [  80.]]\n"
     ]
    }
   ],
   "source": [
    "XW = tf.constant([[75],\n",
    "                  [93],\n",
    "                  [90],\n",
    "                  [100],\n",
    "                  [70]], tf.float32)\n",
    "\n",
    "b = tf.constant([10], tf.float32)\n",
    "\n",
    "H = XW + b\n",
    "\n",
    "print(H.eval()) # print(sess.run(H))"
   ]
  },
  {
   "cell_type": "code",
   "execution_count": 5,
   "metadata": {},
   "outputs": [
    {
     "name": "stdout",
     "output_type": "stream",
     "text": [
      "[[  85.]\n",
      " [ 103.]\n",
      " [ 100.]\n",
      " [ 110.]\n",
      " [  80.]]\n"
     ]
    }
   ],
   "source": [
    "X = tf.constant([[73, 80, 75],\n",
    "                 [93, 88, 93],\n",
    "                 [89, 91, 90],\n",
    "                 [96, 98, 100],\n",
    "                 [73, 66, 70]], tf.float32)\n",
    "\n",
    "W = tf.constant([[.0],\n",
    "                 [.0],\n",
    "                 [1.]], tf.float32)\n",
    "\n",
    "b = tf.constant([10], tf.float32)\n",
    "\n",
    "H = tf.matmul(X, W) + b\n",
    "\n",
    "print(H.eval())"
   ]
  },
  {
   "cell_type": "code",
   "execution_count": 6,
   "metadata": {},
   "outputs": [
    {
     "name": "stdout",
     "output_type": "stream",
     "text": [
      "X: Tensor(\"Placeholder:0\", shape=(?, 3), dtype=float32)\n",
      "Y: Tensor(\"Placeholder_1:0\", shape=(?, 1), dtype=float32)\n",
      "W: <tf.Variable 'Variable:0' shape=(3, 1) dtype=float32_ref>\n",
      "b: <tf.Variable 'Variable_1:0' shape=(1,) dtype=float32_ref>\n",
      "H: Tensor(\"add_2:0\", shape=(?, 1), dtype=float32)\n",
      "cost: Tensor(\"Mean:0\", shape=(), dtype=float32)\n"
     ]
    }
   ],
   "source": [
    "# num_inputs: 3, num_outputs: 1\n",
    "\n",
    "X = tf.placeholder(tf.float32, shape=[None, 3]) # [None x num_inputs]\n",
    "Y = tf.placeholder(tf.float32, shape=[None, 1]) # [None x num_outputs]\n",
    "\n",
    "W = tf.Variable(tf.ones([3, 1]), tf.float32) # [num_inputs x num_outputs]\n",
    "b = tf.Variable(tf.zeros([1]), tf.float32) # [num_outputs]\n",
    "\n",
    "H = tf.matmul(X, W) + b\n",
    "\n",
    "cost = tf.reduce_mean(tf.square(H - Y))\n",
    "\n",
    "print('X:', X)\n",
    "print('Y:', Y)\n",
    "print('W:', W)\n",
    "print('b:', b)\n",
    "print('H:', H)\n",
    "print('cost:', cost)"
   ]
  },
  {
   "attachments": {
    "image.png": {
     "image/png": "[encoded data removed]"
    }
   },
   "cell_type": "markdown",
   "metadata": {},
   "source": [
    "<div style=\"float:left\">\n",
    "![image.png](attachment:image.png)\n",
    "</div>"
   ]
  },
  {
   "cell_type": "code",
   "execution_count": 7,
   "metadata": {},
   "outputs": [
    {
     "name": "stdout",
     "output_type": "stream",
     "text": [
      "[[ 228.]\n",
      " [ 274.]\n",
      " [ 270.]\n",
      " [ 294.]\n",
      " [ 209.]]\n"
     ]
    }
   ],
   "source": [
    "x_data = [[73, 80, 75],\n",
    "          [93, 88, 93],\n",
    "          [89, 91, 90],\n",
    "          [96, 98, 100],\n",
    "          [73, 66, 70]]\n",
    "y_data = [[152],\n",
    "          [185],\n",
    "          [180],\n",
    "          [196],\n",
    "          [142]]\n",
    "\n",
    "sess.run(tf.global_variables_initializer())\n",
    "\n",
    "print(H.eval({X: x_data})) # print(sess.run(H, {X: x_data}))"
   ]
  },
  {
   "cell_type": "code",
   "execution_count": 8,
   "metadata": {},
   "outputs": [
    {
     "name": "stdout",
     "output_type": "stream",
     "text": [
      "7178.0\n",
      "7178.0\n"
     ]
    }
   ],
   "source": [
    "print(sess.run(cost, {X: x_data, Y: y_data}))\n",
    "\n",
    "print(cost.eval({X: x_data, Y: y_data}))"
   ]
  },
  {
   "cell_type": "code",
   "execution_count": 9,
   "metadata": {},
   "outputs": [
    {
     "name": "stdout",
     "output_type": "stream",
     "text": [
      "2.5111\n"
     ]
    }
   ],
   "source": [
    "sess.run(W.assign(tf.ones([3, 1]) * 2/3))\n",
    "\n",
    "print(cost.eval({X: x_data, Y: y_data}))"
   ]
  },
  {
   "cell_type": "code",
   "execution_count": 10,
   "metadata": {},
   "outputs": [
    {
     "name": "stdout",
     "output_type": "stream",
     "text": [
      "[[-0.17107289  1.48887289 -0.74259531 -1.96590328  0.45612082]\n",
      " [-0.14557733 -0.39804575 -0.17310977  1.38473117  0.4948518 ]]\n",
      "[[  6.00842381  31.04439163  11.71072197  15.46518135 -14.23402786]\n",
      " [ 14.22554016  12.89437866   4.95695877   0.39310932   3.48901844]]\n",
      "9.8742\n"
     ]
    }
   ],
   "source": [
    "# https://www.tensorflow.org/api_docs/python/tf/random_normal\n",
    "# tf.random_normal(\n",
    "#     shape,\n",
    "#     mean=0.0,\n",
    "#     stddev=1.0,\n",
    "#     dtype=tf.float32,\n",
    "#     seed=None,\n",
    "#     name=None\n",
    "# )\n",
    "\n",
    "print(tf.random_normal([2, 5]).eval())\n",
    "print(tf.random_normal([2, 5], mean=10, stddev=10, seed=0).eval())\n",
    "print(tf.reduce_mean(tf.random_normal([100, 100], mean=10, stddev=20, seed=0)).eval())"
   ]
  },
  {
   "cell_type": "code",
   "execution_count": 11,
   "metadata": {
    "collapsed": true
   },
   "outputs": [],
   "source": [
    "# https://www.tensorflow.org/api_docs/python/tf/set_random_seed\n",
    "# tf.set_random_seed(seed)\n",
    "\n",
    "tf.set_random_seed(0)"
   ]
  }
 ],
 "metadata": {
  "kernelspec": {
   "display_name": "Python 3",
   "language": "python",
   "name": "python3"
  },
  "language_info": {
   "codemirror_mode": {
    "name": "ipython",
    "version": 3
   },
   "file_extension": ".py",
   "mimetype": "text/x-python",
   "name": "python",
   "nbconvert_exporter": "python",
   "pygments_lexer": "ipython3",
   "version": "3.6.1"
  }
 },
 "nbformat": 4,
 "nbformat_minor": 2
}
