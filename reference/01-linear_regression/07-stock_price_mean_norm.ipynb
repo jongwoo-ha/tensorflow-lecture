{
 "cells": [
  {
   "cell_type": "raw",
   "metadata": {},
   "source": [
    "numpy.mean()\n",
    "tf.reduce_mean()\n",
    "numpy.std()\n",
    "numpy.hstack"
   ]
  },
  {
   "cell_type": "code",
   "execution_count": 15,
   "metadata": {
    "collapsed": true
   },
   "outputs": [],
   "source": [
    "import tensorflow as tf\n",
    "import numpy as np\n",
    "\n",
    "sess = tf.InteractiveSession()"
   ]
  },
  {
   "cell_type": "code",
   "execution_count": 16,
   "metadata": {},
   "outputs": [
    {
     "name": "stdout",
     "output_type": "stream",
     "text": [
      "3425.33333333\n",
      "()\n"
     ]
    }
   ],
   "source": [
    "# https://docs.scipy.org/doc/numpy/reference/generated/numpy.mean.html\n",
    "# numpy.mean(a,\n",
    "#            axis=None,\n",
    "#            dtype=None,\n",
    "#            out=None,\n",
    "#            keepdims=<class numpy._globals._NoValue>\n",
    "# )\n",
    "\n",
    "train_data = np.array([[100, 105, 95, 20000, 101, 102],\n",
    "                       [101, 106, 95, 20010, 102, 103],\n",
    "                       [102, 107, 95, 20020, 103, 104],\n",
    "                       [103, 108, 95, 20030, 104, 105],\n",
    "                       [104, 109, 95, 20040, 105, 106],\n",
    "                       [105, 110, 95, 20050, 106, 107],\n",
    "                       [106, 111, 95, 20060, 107, 108],\n",
    "                       [107, 112, 95, 20070, 108, 109]])\n",
    "\n",
    "print(np.mean(train_data))\n",
    "print(np.mean(train_data).shape)"
   ]
  },
  {
   "cell_type": "code",
   "execution_count": 17,
   "metadata": {},
   "outputs": [
    {
     "name": "stdout",
     "output_type": "stream",
     "text": [
      "[   103.5    108.5     95.   20035.     104.5    105.5]\n",
      "(6,)\n"
     ]
    }
   ],
   "source": [
    "train_data = np.array([[100, 105, 95, 20000, 101, 102],\n",
    "                       [101, 106, 95, 20010, 102, 103],\n",
    "                       [102, 107, 95, 20020, 103, 104],\n",
    "                       [103, 108, 95, 20030, 104, 105],\n",
    "                       [104, 109, 95, 20040, 105, 106],\n",
    "                       [105, 110, 95, 20050, 106, 107],\n",
    "                       [106, 111, 95, 20060, 107, 108],\n",
    "                       [107, 112, 95, 20070, 108, 109]])\n",
    "\n",
    "print(np.mean(train_data, 0))\n",
    "print(np.mean(train_data, 0).shape)"
   ]
  },
  {
   "cell_type": "code",
   "execution_count": 18,
   "metadata": {},
   "outputs": [
    {
     "name": "stdout",
     "output_type": "stream",
     "text": [
      "[ 3417.16666667  3419.5         3421.83333333  3424.16666667  3426.5\n",
      "  3428.83333333  3431.16666667  3433.5       ]\n",
      "(8,)\n"
     ]
    }
   ],
   "source": [
    "train_data = np.array([[100, 105, 95, 20000, 101, 102],\n",
    "                       [101, 106, 95, 20010, 102, 103],\n",
    "                       [102, 107, 95, 20020, 103, 104],\n",
    "                       [103, 108, 95, 20030, 104, 105],\n",
    "                       [104, 109, 95, 20040, 105, 106],\n",
    "                       [105, 110, 95, 20050, 106, 107],\n",
    "                       [106, 111, 95, 20060, 107, 108],\n",
    "                       [107, 112, 95, 20070, 108, 109]])\n",
    "\n",
    "print(np.mean(train_data, 1))\n",
    "print(np.mean(train_data, 1).shape)"
   ]
  },
  {
   "cell_type": "code",
   "execution_count": 19,
   "metadata": {},
   "outputs": [
    {
     "name": "stdout",
     "output_type": "stream",
     "text": [
      "3425\n",
      "[  103   108    95 20035   104   105]\n",
      "[3417 3419 3421 3424 3426 3428 3431 3433]\n"
     ]
    }
   ],
   "source": [
    "train_data = np.array([[100, 105, 95, 20000, 101, 102],\n",
    "                       [101, 106, 95, 20010, 102, 103],\n",
    "                       [102, 107, 95, 20020, 103, 104],\n",
    "                       [103, 108, 95, 20030, 104, 105],\n",
    "                       [104, 109, 95, 20040, 105, 106],\n",
    "                       [105, 110, 95, 20050, 106, 107],\n",
    "                       [106, 111, 95, 20060, 107, 108],\n",
    "                       [107, 112, 95, 20070, 108, 109]])\n",
    "\n",
    "print(tf.reduce_mean(train_data).eval())\n",
    "print(tf.reduce_mean(train_data, 0).eval())\n",
    "print(tf.reduce_mean(train_data, 1).eval())"
   ]
  },
  {
   "cell_type": "code",
   "execution_count": 20,
   "metadata": {},
   "outputs": [
    {
     "name": "stdout",
     "output_type": "stream",
     "text": [
      "7428.07602202\n"
     ]
    }
   ],
   "source": [
    "# https://docs.scipy.org/doc/numpy/reference/generated/numpy.std.html\n",
    "# numpy.std(a, axis=None, dtype=None, out=None, ddof=0, keepdims=<class numpy._globals._NoValue>)\n",
    "\n",
    "train_data = np.array([[100, 105, 95, 20000, 101, 102],\n",
    "                       [101, 106, 95, 20010, 102, 103],\n",
    "                       [102, 107, 95, 20020, 103, 104],\n",
    "                       [103, 108, 95, 20030, 104, 105],\n",
    "                       [104, 109, 95, 20040, 105, 106],\n",
    "                       [105, 110, 95, 20050, 106, 107],\n",
    "                       [106, 111, 95, 20060, 107, 108],\n",
    "                       [107, 112, 95, 20070, 108, 109]])\n",
    "\n",
    "print(np.std(train_data))"
   ]
  },
  {
   "cell_type": "code",
   "execution_count": 21,
   "metadata": {},
   "outputs": [
    {
     "name": "stdout",
     "output_type": "stream",
     "text": [
      "[  2.29128785   2.29128785   0.          22.91287847   2.29128785\n",
      "   2.29128785]\n",
      "(6,)\n",
      "[ 7416.06911638  7419.49788845  7422.92667835  7426.35548607  7429.78431158\n",
      "  7433.21315486  7436.64201587  7440.0708946 ]\n",
      "(8,)\n"
     ]
    }
   ],
   "source": [
    "train_data = np.array([[100, 105, 95, 20000, 101, 102],\n",
    "                       [101, 106, 95, 20010, 102, 103],\n",
    "                       [102, 107, 95, 20020, 103, 104],\n",
    "                       [103, 108, 95, 20030, 104, 105],\n",
    "                       [104, 109, 95, 20040, 105, 106],\n",
    "                       [105, 110, 95, 20050, 106, 107],\n",
    "                       [106, 111, 95, 20060, 107, 108],\n",
    "                       [107, 112, 95, 20070, 108, 109]])\n",
    "\n",
    "print(np.std(train_data, 0))\n",
    "print(np.std(train_data, 0).shape)\n",
    "print(np.std(train_data, 1))\n",
    "print(np.std(train_data, 1).shape)"
   ]
  },
  {
   "cell_type": "code",
   "execution_count": 22,
   "metadata": {},
   "outputs": [
    {
     "name": "stdout",
     "output_type": "stream",
     "text": [
      "[[-1.52752523 -1.52752523         nan -1.52752523 -1.52752523 -1.52752523]\n",
      " [-1.09108945 -1.09108945         nan -1.09108945 -1.09108945 -1.09108945]\n",
      " [-0.65465367 -0.65465367         nan -0.65465367 -0.65465367 -0.65465367]\n",
      " [-0.21821789 -0.21821789         nan -0.21821789 -0.21821789 -0.21821789]\n",
      " [ 0.21821789  0.21821789         nan  0.21821789  0.21821789  0.21821789]\n",
      " [ 0.65465367  0.65465367         nan  0.65465367  0.65465367  0.65465367]\n",
      " [ 1.09108945  1.09108945         nan  1.09108945  1.09108945  1.09108945]\n",
      " [ 1.52752523  1.52752523         nan  1.52752523  1.52752523  1.52752523]]\n"
     ]
    },
    {
     "name": "stderr",
     "output_type": "stream",
     "text": [
      "C:\\ProgramData\\Anaconda3\\lib\\site-packages\\ipykernel_launcher.py:13: RuntimeWarning: invalid value encountered in true_divide\n",
      "  del sys.path[0]\n"
     ]
    }
   ],
   "source": [
    "train_data = np.array([[100, 105, 95, 20000, 101, 102],\n",
    "                       [101, 106, 95, 20010, 102, 103],\n",
    "                       [102, 107, 95, 20020, 103, 104],\n",
    "                       [103, 108, 95, 20030, 104, 105],\n",
    "                       [104, 109, 95, 20040, 105, 106],\n",
    "                       [105, 110, 95, 20050, 106, 107],\n",
    "                       [106, 111, 95, 20060, 107, 108],\n",
    "                       [107, 112, 95, 20070, 108, 109]])\n",
    "\n",
    "mean = np.mean(train_data, 0)\n",
    "std = np.std(train_data, 0)\n",
    "\n",
    "norm = (train_data - mean) / std\n",
    "\n",
    "print(norm)"
   ]
  },
  {
   "cell_type": "code",
   "execution_count": 23,
   "metadata": {},
   "outputs": [
    {
     "name": "stdout",
     "output_type": "stream",
     "text": [
      "[[-1.52752523 -1.52752523  0.         -1.52752523 -1.52752523 -1.52752523]\n",
      " [-1.09108945 -1.09108945  0.         -1.09108945 -1.09108945 -1.09108945]\n",
      " [-0.65465367 -0.65465367  0.         -0.65465367 -0.65465367 -0.65465367]\n",
      " [-0.21821789 -0.21821789  0.         -0.21821789 -0.21821789 -0.21821789]\n",
      " [ 0.21821789  0.21821789  0.          0.21821789  0.21821789  0.21821789]\n",
      " [ 0.65465367  0.65465367  0.          0.65465367  0.65465367  0.65465367]\n",
      " [ 1.09108945  1.09108945  0.          1.09108945  1.09108945  1.09108945]\n",
      " [ 1.52752523  1.52752523  0.          1.52752523  1.52752523  1.52752523]]\n"
     ]
    }
   ],
   "source": [
    "train_data = np.array([[100, 105, 95, 20000, 101, 102],\n",
    "                      [101, 106, 95, 20010, 102, 103],\n",
    "                      [102, 107, 95, 20020, 103, 104],\n",
    "                      [103, 108, 95, 20030, 104, 105],\n",
    "                      [104, 109, 95, 20040, 105, 106],\n",
    "                      [105, 110, 95, 20050, 106, 107],\n",
    "                      [106, 111, 95, 20060, 107, 108],\n",
    "                      [107, 112, 95, 20070, 108, 109]])\n",
    "\n",
    "epsilon = 1e-12\n",
    "mean = np.mean(train_data, 0)\n",
    "std = np.std(train_data, 0)\n",
    "\n",
    "norm = (train_data - mean) / (std + epsilon)\n",
    "\n",
    "print(norm)"
   ]
  },
  {
   "cell_type": "code",
   "execution_count": 24,
   "metadata": {},
   "outputs": [
    {
     "name": "stdout",
     "output_type": "stream",
     "text": [
      "[[ 1  2  3  4]\n",
      " [ 5  6  7  8]\n",
      " [ 9 10 11 12]\n",
      " [13 14 15 16]]\n"
     ]
    }
   ],
   "source": [
    "a = np.array([[1, 2, 3],\n",
    "              [5, 6, 7],\n",
    "              [9, 10, 11],\n",
    "              [13, 14, 15]])\n",
    "b = np.array([[4],\n",
    "              [8],\n",
    "              [12],\n",
    "              [16]])\n",
    "print(np.hstack((a, b)))"
   ]
  },
  {
   "cell_type": "code",
   "execution_count": 25,
   "metadata": {},
   "outputs": [
    {
     "name": "stdout",
     "output_type": "stream",
     "text": [
      "[[-28801.92382812]\n",
      " [-28816.41015625]\n",
      " [-28830.8984375 ]\n",
      " [-28845.3828125 ]\n",
      " [-28859.86914062]\n",
      " [-28874.35742188]\n",
      " [-28888.84375   ]\n",
      " [-28903.33007812]]\n"
     ]
    }
   ],
   "source": [
    "train_data = np.array([[100, 105, 95, 20000, 101, 102],\n",
    "                       [101, 106, 95, 20010, 102, 103],\n",
    "                       [102, 107, 95, 20020, 103, 104],\n",
    "                       [103, 108, 95, 20030, 104, 105],\n",
    "                       [104, 109, 95, 20040, 105, 106],\n",
    "                       [105, 110, 95, 20050, 106, 107],\n",
    "                       [106, 111, 95, 20060, 107, 108],\n",
    "                       [107, 112, 95, 20070, 108, 109]])\n",
    "\n",
    "num_features = 5\n",
    "x_train = train_data[:, :-1]\n",
    "\n",
    "X = tf.placeholder(tf.float32, [None, num_features])\n",
    "\n",
    "W = tf.Variable(tf.random_normal([num_features, 1]))\n",
    "b = tf.Variable(tf.random_normal([1]))\n",
    "\n",
    "H = tf.matmul(X, W) + b\n",
    "\n",
    "sess.run(tf.global_variables_initializer())\n",
    "\n",
    "print(H.eval({X: x_train}))"
   ]
  },
  {
   "cell_type": "code",
   "execution_count": 34,
   "metadata": {},
   "outputs": [
    {
     "name": "stdout",
     "output_type": "stream",
     "text": [
      "[[ 3.72428846]\n",
      " [ 3.08144522]\n",
      " [ 2.43860173]\n",
      " [ 1.79575825]\n",
      " [ 1.152915  ]\n",
      " [ 0.51007146]\n",
      " [-0.13277197]\n",
      " [-0.77561522]]\n",
      "8.2891\n",
      "[[ 114.03341675]\n",
      " [ 112.56047821]\n",
      " [ 111.08753967]\n",
      " [ 109.61460114]\n",
      " [ 108.1416626 ]\n",
      " [ 106.66872406]\n",
      " [ 105.19577789]\n",
      " [ 103.72283936]]\n",
      "[5.4812946, 0.33127594, 12.033417]\n"
     ]
    }
   ],
   "source": [
    "train_data = np.array([[100, 105, 95, 20000, 101, 102],\n",
    "                       [101, 106, 95, 20010, 102, 103],\n",
    "                       [102, 107, 95, 20020, 103, 104],\n",
    "                       [103, 108, 95, 20030, 104, 105],\n",
    "                       [104, 109, 95, 20040, 105, 106],\n",
    "                       [105, 110, 95, 20050, 106, 107],\n",
    "                       [106, 111, 95, 20060, 107, 108],\n",
    "                       [107, 112, 95, 20070, 108, 109]])\n",
    "\n",
    "learning_rate = 0.1\n",
    "num_features = 5\n",
    "epsilon = 1e-12\n",
    "x_train = train_data[:, :-1]\n",
    "y_train = train_data[:, [-1]]\n",
    "\n",
    "train_data = np.hstack((x_train, y_train))\n",
    "mean = np.mean(train_data, axis=0)\n",
    "std = np.std(train_data, axis=0)\n",
    "\n",
    "X = tf.placeholder(tf.float32, [None, num_features])\n",
    "Y = tf.placeholder(tf.float32, [None, 1])\n",
    "M = tf.placeholder(tf.float32, [num_features+1])\n",
    "S = tf.placeholder(tf.float32, [num_features+1])\n",
    "\n",
    "W = tf.Variable(tf.random_normal([num_features, 1]))\n",
    "b = tf.Variable(tf.random_normal([1]))\n",
    "\n",
    "X_mean, Y_mean = M[:num_features], M[num_features:]\n",
    "X_std, Y_std = S[:num_features], S[num_features:]\n",
    "\n",
    "X_norm = (X - X_mean) / (X_std + epsilon)\n",
    "Y_norm = (Y - Y_mean) / (Y_std + epsilon)\n",
    "\n",
    "H_norm = tf.matmul(X_norm, W) + b\n",
    "\n",
    "cost = tf.reduce_mean(tf.square(H_norm - Y_norm))\n",
    "\n",
    "train = tf.train.GradientDescentOptimizer(learning_rate).minimize(cost)\n",
    "\n",
    "prediction = H_norm * (Y_std + epsilon) + Y_mean\n",
    "\n",
    "abs_diff = tf.abs(prediction - Y)\n",
    "mae, min_diff, max_diff =  tf.reduce_mean(abs_diff), tf.reduce_min(abs_diff), tf.reduce_max(abs_diff)\n",
    "\n",
    "sess.run(tf.global_variables_initializer())\n",
    "\n",
    "print(H_norm.eval({X: x_train, M: mean, S: std}))\n",
    "print(cost.eval({X: x_train, Y: y_train, M: mean, S: std}))\n",
    "print(prediction.eval({X: x_train, Y: y_train, M: mean, S: std}))\n",
    "print(sess.run([mae, min_diff, max_diff], {X: x_train, Y: y_train, M: mean, S: std}))"
   ]
  },
  {
   "cell_type": "code",
   "execution_count": 30,
   "metadata": {},
   "outputs": [
    {
     "name": "stdout",
     "output_type": "stream",
     "text": [
      "[[ 0.87648225]\n",
      " [ 0.20914376]\n",
      " [-0.45819497]\n",
      " [-1.12553346]\n",
      " [-1.79287207]\n",
      " [-2.46021056]\n",
      " [-3.12754917]\n",
      " [-3.79488778]]\n",
      "8.52544\n",
      "[[ 107.50827026]\n",
      " [ 105.9792099 ]\n",
      " [ 104.45014191]\n",
      " [ 102.92108154]\n",
      " [ 101.39201355]\n",
      " [  99.86294556]\n",
      " [  98.33388519]\n",
      " [  96.8048172 ]]\n",
      "[5.5778599, 0.45014191, 12.195183]\n"
     ]
    }
   ],
   "source": [
    "train_data = np.array([[100, 105, 95, 20000, 101, 102],\n",
    "                       [101, 106, 95, 20010, 102, 103],\n",
    "                       [102, 107, 95, 20020, 103, 104],\n",
    "                       [103, 108, 95, 20030, 104, 105],\n",
    "                       [104, 109, 95, 20040, 105, 106],\n",
    "                       [105, 110, 95, 20050, 106, 107],\n",
    "                       [106, 111, 95, 20060, 107, 108],\n",
    "                       [107, 112, 95, 20070, 108, 109]])\n",
    "\n",
    "num_features = 5\n",
    "epsilon = 1e-12\n",
    "x_train = train_data[:, :-1]\n",
    "y_train = train_data[:, [-1]]\n",
    "\n",
    "x_mean = np.mean(x_train, 0)\n",
    "x_std = np.std(x_train, 0)\n",
    "y_mean = np.mean(y_train, 0)\n",
    "y_std = np.std(y_train, 0)\n",
    "\n",
    "X = tf.placeholder(tf.float32, [None, num_features])\n",
    "Y = tf.placeholder(tf.float32, [None, 1])\n",
    "\n",
    "W = tf.Variable(tf.random_normal([num_features, 1]))\n",
    "b = tf.Variable(tf.random_normal([1]))\n",
    "\n",
    "X_mean = tf.placeholder(tf.float32, [num_features])\n",
    "X_std = tf.placeholder(tf.float32, [num_features])\n",
    "Y_mean = tf.placeholder(tf.float32, [1])\n",
    "Y_std = tf.placeholder(tf.float32, [1])\n",
    "\n",
    "X_norm = (X - X_mean) / (X_std + epsilon)\n",
    "Y_norm = (Y - Y_mean) / (Y_std + epsilon)\n",
    "\n",
    "H_norm = tf.matmul(X_norm, W) + b\n",
    "\n",
    "cost = tf.reduce_mean(tf.square(H_norm - Y_norm)) # Y\n",
    "\n",
    "train = tf.train.GradientDescentOptimizer(learning_rate).minimize(cost)\n",
    "\n",
    "prediction = H_norm * (Y_std + epsilon) + Y_mean\n",
    "\n",
    "abs_diff = tf.abs(prediction - Y)\n",
    "mae, min_diff, max_diff =  tf.reduce_mean(abs_diff), tf.reduce_min(abs_diff), tf.reduce_max(abs_diff)\n",
    "\n",
    "sess.run(tf.global_variables_initializer())\n",
    "\n",
    "print(H_norm.eval({X: x_train, X_mean: x_mean, X_std: x_std}))\n",
    "print(cost.eval({X: x_train, Y: y_train, X_mean: x_mean, X_std: x_std, Y_mean: y_mean, Y_std: y_std}))\n",
    "print(prediction.eval({X: x_train, Y: y_train, X_mean: x_mean, X_std: x_std, Y_mean: y_mean, Y_std: y_std}))\n",
    "print(sess.run([mae, min_diff, max_diff], {X: x_train, Y: y_train, X_mean: x_mean, X_std: x_std, Y_mean: y_mean, Y_std: y_std}))"
   ]
  }
 ],
 "metadata": {
  "kernelspec": {
   "display_name": "Python 3",
   "language": "python",
   "name": "python3"
  },
  "language_info": {
   "codemirror_mode": {
    "name": "ipython",
    "version": 3
   },
   "file_extension": ".py",
   "mimetype": "text/x-python",
   "name": "python",
   "nbconvert_exporter": "python",
   "pygments_lexer": "ipython3",
   "version": "3.6.1"
  }
 },
 "nbformat": 4,
 "nbformat_minor": 2
}
