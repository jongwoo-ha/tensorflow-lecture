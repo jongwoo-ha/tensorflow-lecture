{
 "cells": [
  {
   "cell_type": "raw",
   "metadata": {},
   "source": [
    "tf.contrib.layers.conv2d()\n",
    "tf.contrib.layers.max_pool2d()\n",
    "tf.contrib.layers.dropout()\n",
    "tf.contrib.layers.fully_connected()"
   ]
  },
  {
   "cell_type": "code",
   "execution_count": 1,
   "metadata": {},
   "outputs": [
    {
     "name": "stdout",
     "output_type": "stream",
     "text": [
      "Extracting ../../dataset/MNIST_data/train-images-idx3-ubyte.gz\n",
      "Extracting ../../dataset/MNIST_data/train-labels-idx1-ubyte.gz\n",
      "Extracting ../../dataset/MNIST_data/t10k-images-idx3-ubyte.gz\n",
      "Extracting ../../dataset/MNIST_data/t10k-labels-idx1-ubyte.gz\n"
     ]
    }
   ],
   "source": [
    "import tensorflow as tf\n",
    "from tensorflow.contrib.layers import conv2d, max_pool2d, dropout, fully_connected\n",
    "from tensorflow.examples.tutorials.mnist import input_data\n",
    "import numpy as np\n",
    "import matplotlib.pyplot as plt\n",
    "import matplotlib.gridspec as gridspec\n",
    "\n",
    "tf.set_random_seed(0)\n",
    "sess = tf.InteractiveSession()\n",
    "mnist = input_data.read_data_sets('../../dataset/MNIST_data/', one_hot=True)\n",
    "\n",
    "np.set_printoptions(precision=3)\n",
    "np.set_printoptions(suppress=True)"
   ]
  },
  {
   "cell_type": "code",
   "execution_count": 2,
   "metadata": {},
   "outputs": [
    {
     "name": "stdout",
     "output_type": "stream",
     "text": [
      "L1: Tensor(\"Conv/Relu:0\", shape=(?, 28, 28, 32), dtype=float32)\n"
     ]
    }
   ],
   "source": [
    "# https://www.tensorflow.org/api_docs/python/tf/contrib/layers/conv2d\n",
    "# tf.contrib.layers.conv2d(\n",
    "#     inputs,\n",
    "#     num_outputs,\n",
    "#     kernel_size,\n",
    "#     stride=1,\n",
    "#     padding='SAME',\n",
    "#     data_format=None,\n",
    "#     rate=1,\n",
    "#     activation_fn=tf.nn.relu,\n",
    "#     normalizer_fn=None,\n",
    "#     normalizer_params=None,\n",
    "#     weights_initializer=initializers.xavier_initializer(),\n",
    "#     weights_regularizer=None,\n",
    "#     biases_initializer=tf.zeros_initializer(),\n",
    "#     biases_regularizer=None,\n",
    "#     reuse=None,\n",
    "#     variables_collections=None,\n",
    "#     outputs_collections=None,\n",
    "#     trainable=True,\n",
    "#     scope=None\n",
    "# )\n",
    "\n",
    "X = tf.placeholder(tf.float32, [None, 784])\n",
    "\n",
    "X_img = tf.reshape(X, [-1, 28, 28, 1])\n",
    "\n",
    "L1 = conv2d(X_img, 32, [3, 3])\n",
    "\n",
    "print('L1:', L1)"
   ]
  },
  {
   "cell_type": "code",
   "execution_count": 3,
   "metadata": {},
   "outputs": [
    {
     "name": "stdout",
     "output_type": "stream",
     "text": [
      "L1: Tensor(\"Conv_1/Relu:0\", shape=(?, 28, 28, 32), dtype=float32)\n",
      "L1: Tensor(\"MaxPool2D/MaxPool:0\", shape=(?, 14, 14, 32), dtype=float32)\n"
     ]
    }
   ],
   "source": [
    "# https://www.tensorflow.org/api_docs/python/tf/contrib/layers/max_pool2d\n",
    "# tf.contrib.layers.max_pool2d(\n",
    "#     inputs,\n",
    "#     kernel_size,\n",
    "#     stride=2,\n",
    "#     padding='VALID',\n",
    "#     data_format=DATA_FORMAT_NHWC,\n",
    "#     outputs_collections=None,\n",
    "#     scope=None\n",
    "# )\n",
    "\n",
    "X = tf.placeholder(tf.float32, [None, 784])\n",
    "\n",
    "X_img = tf.reshape(X, [-1, 28, 28, 1])\n",
    "\n",
    "L1 = conv2d(X_img, 32, [3, 3])\n",
    "print('L1:', L1)\n",
    "\n",
    "L1 = max_pool2d(L1, [2, 2], padding='SAME')\n",
    "print('L1:', L1)"
   ]
  },
  {
   "cell_type": "code",
   "execution_count": 4,
   "metadata": {},
   "outputs": [
    {
     "name": "stdout",
     "output_type": "stream",
     "text": [
      "L1: Tensor(\"Conv_2/Relu:0\", shape=(?, 28, 28, 32), dtype=float32)\n",
      "L1: Tensor(\"MaxPool2D_1/MaxPool:0\", shape=(?, 14, 14, 32), dtype=float32)\n",
      "L1: Tensor(\"Dropout/cond/Merge:0\", shape=(?, 14, 14, 32), dtype=float32)\n"
     ]
    }
   ],
   "source": [
    "# https://www.tensorflow.org/api_docs/python/tf/contrib/layers/dropout\n",
    "# tf.contrib.layers.dropout(\n",
    "#     inputs,\n",
    "#     keep_prob=0.5,\n",
    "#     noise_shape=None,\n",
    "#     is_training=True,\n",
    "#     outputs_collections=None,\n",
    "#     scope=None\n",
    "# )\n",
    "\n",
    "keep = 0.75\n",
    "\n",
    "X = tf.placeholder(tf.float32, [None, 784])\n",
    "is_training = tf.placeholder_with_default(False, [])\n",
    "\n",
    "X_img = tf.reshape(X, [-1, 28, 28, 1])\n",
    "\n",
    "L1 = conv2d(X_img, 32, [3, 3])\n",
    "print('L1:', L1)\n",
    "\n",
    "L1 = max_pool2d(L1, [2, 2], padding='SAME')\n",
    "print('L1:', L1)\n",
    "\n",
    "L1 = dropout(L1, keep, is_training=is_training)\n",
    "print('L1:', L1)"
   ]
  },
  {
   "cell_type": "code",
   "execution_count": 5,
   "metadata": {},
   "outputs": [
    {
     "name": "stdout",
     "output_type": "stream",
     "text": [
      "L1: Tensor(\"Dropout_1/cond/Merge:0\", shape=(?, 14, 14, 32), dtype=float32)\n"
     ]
    }
   ],
   "source": [
    "keep = 0.75\n",
    "\n",
    "X = tf.placeholder(tf.float32, [None, 784])\n",
    "is_training = tf.placeholder_with_default(False, [])\n",
    "\n",
    "X_img = tf.reshape(X, [-1, 28, 28, 1])\n",
    "\n",
    "L1 = dropout(max_pool2d(conv2d(X_img, 32, [3, 3]), [2, 2], padding='SAME'), keep, is_training=is_training)\n",
    "print('L1:', L1)"
   ]
  },
  {
   "cell_type": "code",
   "execution_count": 6,
   "metadata": {},
   "outputs": [
    {
     "name": "stdout",
     "output_type": "stream",
     "text": [
      "L1: Tensor(\"Dropout_2/cond/Merge:0\", shape=(?, 14, 14, 32), dtype=float32)\n",
      "L2: Tensor(\"Dropout_3/cond/Merge:0\", shape=(?, 7, 7, 64), dtype=float32)\n",
      "L3: Tensor(\"Dropout_4/cond/Merge:0\", shape=(?, 4, 4, 128), dtype=float32)\n"
     ]
    }
   ],
   "source": [
    "keep = 0.75\n",
    "\n",
    "X = tf.placeholder(tf.float32, [None, 784])\n",
    "is_training = tf.placeholder_with_default(False, [])\n",
    "\n",
    "X_img = tf.reshape(X, [-1, 28, 28, 1])\n",
    "\n",
    "L1 = dropout(max_pool2d(conv2d(X_img, 32, [3, 3]), [2, 2], padding='SAME'), keep, is_training=is_training)\n",
    "print('L1:', L1)\n",
    "\n",
    "L2 = dropout(max_pool2d(conv2d(L1, 64, [3, 3]), [2, 2], padding='SAME'), keep, is_training=is_training)\n",
    "print('L2:', L2)\n",
    "\n",
    "L3 = dropout(max_pool2d(conv2d(L2, 128, [3, 3]), [2, 2], padding='SAME'), keep, is_training=is_training)\n",
    "print('L3:', L3)"
   ]
  },
  {
   "cell_type": "code",
   "execution_count": 7,
   "metadata": {},
   "outputs": [
    {
     "name": "stdout",
     "output_type": "stream",
     "text": [
      "L1: Tensor(\"Dropout_5/cond/Merge:0\", shape=(?, 14, 14, 32), dtype=float32)\n",
      "L2: Tensor(\"Dropout_6/cond/Merge:0\", shape=(?, 7, 7, 64), dtype=float32)\n",
      "L3: Tensor(\"Dropout_7/cond/Merge:0\", shape=(?, 4, 4, 128), dtype=float32)\n",
      "L3: Tensor(\"Reshape_6:0\", shape=(?, 2048), dtype=float32)\n"
     ]
    }
   ],
   "source": [
    "keep = 0.75\n",
    "\n",
    "X = tf.placeholder(tf.float32, [None, 784])\n",
    "is_training = tf.placeholder_with_default(False, [])\n",
    "\n",
    "X_img = tf.reshape(X, [-1, 28, 28, 1])\n",
    "\n",
    "L1 = dropout(max_pool2d(conv2d(X_img, 32, [3, 3]), [2, 2], padding='SAME'), keep, is_training=is_training)\n",
    "print('L1:', L1)\n",
    "\n",
    "L2 = dropout(max_pool2d(conv2d(L1, 64, [3, 3]), [2, 2], padding='SAME'), keep, is_training=is_training)\n",
    "print('L2:', L2)\n",
    "\n",
    "L3 = dropout(max_pool2d(conv2d(L2, 128, [3, 3]), [2, 2], padding='SAME'), keep, is_training=is_training)\n",
    "print('L3:', L3)\n",
    "\n",
    "L3 = tf.reshape(L3, [-1, 4*4*128])\n",
    "print('L3:', L3)"
   ]
  },
  {
   "cell_type": "code",
   "execution_count": 8,
   "metadata": {},
   "outputs": [
    {
     "name": "stdout",
     "output_type": "stream",
     "text": [
      "L1: Tensor(\"Dropout_8/cond/Merge:0\", shape=(?, 14, 14, 32), dtype=float32)\n",
      "L2: Tensor(\"Dropout_9/cond/Merge:0\", shape=(?, 7, 7, 64), dtype=float32)\n",
      "L3: Tensor(\"Dropout_10/cond/Merge:0\", shape=(?, 4, 4, 128), dtype=float32)\n",
      "L3: Tensor(\"Reshape_8:0\", shape=(?, 2048), dtype=float32)\n",
      "L4: Tensor(\"Dropout_11/cond/Merge:0\", shape=(?, 512), dtype=float32)\n",
      "L5: Tensor(\"fully_connected_1/BiasAdd:0\", shape=(?, 10), dtype=float32)\n"
     ]
    }
   ],
   "source": [
    "# https://www.tensorflow.org/api_docs/python/tf/contrib/layers/fully_connected\n",
    "# tf.contrib.layers.fully_connected(\n",
    "#     inputs,\n",
    "#     num_outputs,\n",
    "#     activation_fn=tf.nn.relu,\n",
    "#     normalizer_fn=None,\n",
    "#     normalizer_params=None,\n",
    "#     weights_initializer=initializers.xavier_initializer(),\n",
    "#     weights_regularizer=None,\n",
    "#     biases_initializer=tf.zeros_initializer(),\n",
    "#     biases_regularizer=None,\n",
    "#     reuse=None,\n",
    "#     variables_collections=None,\n",
    "#     outputs_collections=None,\n",
    "#     trainable=True,\n",
    "#     scope=None\n",
    "# )\n",
    "\n",
    "keep = 0.75\n",
    "\n",
    "X = tf.placeholder(tf.float32, [None, 784])\n",
    "is_training = tf.placeholder_with_default(False, [])\n",
    "\n",
    "X_img = tf.reshape(X, [-1, 28, 28, 1])\n",
    "\n",
    "L1 = dropout(max_pool2d(conv2d(X_img, 32, [3, 3]), [2, 2], padding='SAME'), keep, is_training=is_training)\n",
    "print('L1:', L1)\n",
    "\n",
    "L2 = dropout(max_pool2d(conv2d(L1, 64, [3, 3]), [2, 2], padding='SAME'), keep, is_training=is_training)\n",
    "print('L2:', L2)\n",
    "\n",
    "L3 = dropout(max_pool2d(conv2d(L2, 128, [3, 3]), [2, 2], padding='SAME'), keep, is_training=is_training)\n",
    "print('L3:', L3)\n",
    "\n",
    "L3 = tf.reshape(L3, [-1, 4*4*128])\n",
    "print('L3:', L3)\n",
    "\n",
    "L4 = dropout(fully_connected(L3, 512), keep, is_training=is_training)\n",
    "print('L4:', L4)\n",
    "\n",
    "logits = fully_connected(L4, 10, activation_fn=None)\n",
    "print('L5:', logits)"
   ]
  },
  {
   "cell_type": "code",
   "execution_count": 9,
   "metadata": {},
   "outputs": [],
   "source": [
    "keep = 0.75\n",
    "\n",
    "X = tf.placeholder(tf.float32, [None, 784])\n",
    "Y = tf.placeholder(tf.float32, [None, 10])\n",
    "is_training = tf.placeholder_with_default(False, [])\n",
    "\n",
    "X_img = tf.reshape(X, [-1, 28, 28, 1])\n",
    "\n",
    "L1 = dropout(max_pool2d(conv2d(X_img, 32, [3, 3]), [2, 2], padding='SAME'), keep, is_training=is_training)\n",
    "\n",
    "L2 = dropout(max_pool2d(conv2d(L1, 64, [3, 3]), [2, 2], padding='SAME'), keep, is_training=is_training)\n",
    "\n",
    "L3 = dropout(max_pool2d(conv2d(L2, 128, [3, 3]), [2, 2], padding='SAME'), keep, is_training=is_training)\n",
    "L3 = tf.reshape(L3, [-1, 4*4*128])\n",
    "\n",
    "L4 = dropout(fully_connected(L3, 512), keep, is_training=is_training)\n",
    "\n",
    "logits = fully_connected(L4, 10, activation_fn=None)\n",
    "\n",
    "prediction = tf.argmax(logits, 1)\n",
    "accuracy = tf.reduce_mean(tf.cast(tf.equal(prediction, tf.argmax(Y, 1)), tf.float32))"
   ]
  },
  {
   "cell_type": "code",
   "execution_count": 10,
   "metadata": {},
   "outputs": [
    {
     "name": "stdout",
     "output_type": "stream",
     "text": [
      "[[ 0.045  0.11   0.029 -0.042 -0.095 -0.038 -0.015  0.138 -0.096 -0.009]\n",
      " [ 0.07   0.085  0.02   0.02  -0.091 -0.107 -0.024  0.169 -0.097  0.007]\n",
      " [ 0.043  0.083 -0.001 -0.014 -0.073 -0.05   0.012  0.114 -0.051 -0.007]\n",
      " [ 0.014  0.084  0.033  0.025 -0.022 -0.065 -0.01   0.138 -0.066  0.013]\n",
      " [ 0.016  0.027  0.04   0.015 -0.031 -0.043  0.02   0.106 -0.062  0.008]\n",
      " [ 0.06   0.069  0.033  0.016 -0.063 -0.073 -0.012  0.172 -0.115 -0.   ]\n",
      " [ 0.037  0.031  0.045  0.018 -0.053 -0.04   0.023  0.115 -0.062 -0.009]\n",
      " [ 0.072  0.111  0.012 -0.026 -0.066 -0.063 -0.017  0.158 -0.097 -0.047]\n",
      " [ 0.036  0.058 -0.006 -0.015 -0.059 -0.076  0.013  0.13  -0.051 -0.01 ]\n",
      " [ 0.064  0.088  0.012  0.018 -0.048 -0.062 -0.025  0.177 -0.105  0.016]]\n",
      "[7 7 7 7 7 7 7 7 7 7]\n",
      "0.1\n"
     ]
    }
   ],
   "source": [
    "sess.run(tf.global_variables_initializer())\n",
    "\n",
    "x_batch = mnist.train.images[:10]\n",
    "y_batch = mnist.train.labels[:10]\n",
    "\n",
    "print(logits.eval({X: x_batch}))\n",
    "print(prediction.eval({X: x_batch}))\n",
    "print(accuracy.eval({X: x_batch, Y: y_batch}))"
   ]
  }
 ],
 "metadata": {
  "kernelspec": {
   "display_name": "Python 3",
   "language": "python",
   "name": "python3"
  },
  "language_info": {
   "codemirror_mode": {
    "name": "ipython",
    "version": 3
   },
   "file_extension": ".py",
   "mimetype": "text/x-python",
   "name": "python",
   "nbconvert_exporter": "python",
   "pygments_lexer": "ipython3",
   "version": "3.6.1"
  }
 },
 "nbformat": 4,
 "nbformat_minor": 2
}
