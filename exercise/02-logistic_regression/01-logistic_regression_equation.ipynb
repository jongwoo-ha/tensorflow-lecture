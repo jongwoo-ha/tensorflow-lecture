{
 "cells": [
  {
   "cell_type": "raw",
   "metadata": {},
   "source": [
    "tf.exxp()\n",
    "tf.log()\n",
    "tf.cast()\n",
    "tf.equal()"
   ]
  },
  {
   "cell_type": "code",
   "execution_count": 1,
   "metadata": {
    "collapsed": true
   },
   "outputs": [],
   "source": [
    "import tensorflow as tf\n",
    "\n",
    "sess = tf.InteractiveSession()"
   ]
  },
  {
   "cell_type": "code",
   "execution_count": 2,
   "metadata": {},
   "outputs": [
    {
     "name": "stdout",
     "output_type": "stream",
     "text": [
      "[[ 0.7310586 ]\n",
      " [ 0.11920292]\n",
      " [ 0.95257413]\n",
      " [ 0.11920292]\n",
      " [ 0.98201376]]\n"
     ]
    }
   ],
   "source": [
    "logits = tf.constant([[1],\n",
    "                      [-2],\n",
    "                      [3],\n",
    "                      [-2],\n",
    "                      [4]], tf.float32)\n",
    "H = 1 / (1 + tf.exp(-logits))\n",
    "print(H.eval())"
   ]
  },
  {
   "cell_type": "code",
   "execution_count": 3,
   "metadata": {},
   "outputs": [
    {
     "name": "stdout",
     "output_type": "stream",
     "text": [
      "[[ True]\n",
      " [False]\n",
      " [ True]\n",
      " [False]\n",
      " [ True]]\n"
     ]
    }
   ],
   "source": [
    "logits = tf.constant([[1],\n",
    "                      [-2],\n",
    "                      [3],\n",
    "                      [-2],\n",
    "                      [4]], tf.float32)\n",
    "H = 1 / (1 + tf.exp(-logits))\n",
    "\n",
    "is_positive = H > 0.5\n",
    "print(is_positive.eval())"
   ]
  },
  {
   "cell_type": "code",
   "execution_count": 4,
   "metadata": {},
   "outputs": [
    {
     "name": "stdout",
     "output_type": "stream",
     "text": [
      "[[ 1.]\n",
      " [ 0.]\n",
      " [ 1.]\n",
      " [ 0.]\n",
      " [ 1.]]\n"
     ]
    }
   ],
   "source": [
    "logits = tf.constant([[1],\n",
    "                      [-2],\n",
    "                      [3],\n",
    "                      [-2],\n",
    "                      [4]], tf.float32)\n",
    "H = 1 / (1 + tf.exp(-logits))\n",
    "\n",
    "prediction = tf.cast(H > 0.5, tf.float32)\n",
    "print(prediction.eval())"
   ]
  },
  {
   "cell_type": "code",
   "execution_count": 5,
   "metadata": {},
   "outputs": [
    {
     "name": "stdout",
     "output_type": "stream",
     "text": [
      "[[ True]\n",
      " [False]\n",
      " [ True]\n",
      " [ True]\n",
      " [False]] \n",
      "\n",
      "[[ 1.]\n",
      " [ 0.]\n",
      " [ 1.]\n",
      " [ 1.]\n",
      " [ 0.]] \n",
      "\n"
     ]
    }
   ],
   "source": [
    "logits = tf.constant([[1],\n",
    "                      [-2],\n",
    "                      [3],\n",
    "                      [-2],\n",
    "                      [4]], tf.float32)\n",
    "H = 1 / (1 + tf.exp(-logits))\n",
    "prediction = tf.cast(H > 0.5, tf.float32)\n",
    "Y = tf.constant([[1],\n",
    "                 [1],\n",
    "                 [1],\n",
    "                 [0],\n",
    "                 [0]], tf.float32)\n",
    "\n",
    "print(tf.equal(prediction, Y).eval(), '\\n')\n",
    "print(tf.cast(tf.equal(prediction, Y), tf.float32).eval(), '\\n')"
   ]
  },
  {
   "cell_type": "code",
   "execution_count": 6,
   "metadata": {},
   "outputs": [
    {
     "name": "stdout",
     "output_type": "stream",
     "text": [
      "[[ 1.]\n",
      " [ 0.]\n",
      " [ 1.]\n",
      " [ 0.]\n",
      " [ 1.]] \n",
      "\n",
      "0.6\n"
     ]
    }
   ],
   "source": [
    "logits = tf.constant([[1],\n",
    "                      [-2],\n",
    "                      [3],\n",
    "                      [-2],\n",
    "                      [4]], tf.float32)\n",
    "H = 1 / (1 + tf.exp(-logits))\n",
    "prediction = tf.cast(H > 0.5, tf.float32)\n",
    "\n",
    "Y = tf.constant([[1],\n",
    "                 [1],\n",
    "                 [1],\n",
    "                 [0],\n",
    "                 [0]], tf.float32)\n",
    "\n",
    "accuracy = tf.reduce_mean(tf.cast(tf.equal(prediction, Y), tf.float32))\n",
    "print(prediction.eval(), '\\n')\n",
    "print(accuracy.eval())"
   ]
  },
  {
   "cell_type": "code",
   "execution_count": 7,
   "metadata": {},
   "outputs": [
    {
     "name": "stdout",
     "output_type": "stream",
     "text": [
      "[[ 0.7310586 ]\n",
      " [ 0.11920292]\n",
      " [ 0.95257413]\n",
      " [ 0.11920292]\n",
      " [ 0.98201376]] \n",
      "\n",
      "[[ 0.31326166]\n",
      " [ 2.12692809]\n",
      " [ 0.04858734]\n",
      " [ 2.12692809]\n",
      " [ 0.01814996]] \n",
      "\n",
      "[[ 0.31326166]\n",
      " [ 2.12692809]\n",
      " [ 0.04858734]\n",
      " [ 0.        ]\n",
      " [ 0.        ]]\n"
     ]
    }
   ],
   "source": [
    "logits = tf.constant([[1],\n",
    "                      [-2],\n",
    "                      [3],\n",
    "                      [-2],\n",
    "                      [4]], tf.float32)\n",
    "H = 1 / (1 + tf.exp(-logits))\n",
    "Y = tf.constant([[1],\n",
    "                 [1],\n",
    "                 [1],\n",
    "                 [0],\n",
    "                 [0]], tf.float32)\n",
    "print(H.eval(), '\\n')\n",
    "\n",
    "c = Y * -tf.log(H)\n",
    "print(-tf.log(H).eval(), '\\n')\n",
    "print(c.eval())"
   ]
  },
  {
   "cell_type": "code",
   "execution_count": 8,
   "metadata": {},
   "outputs": [
    {
     "name": "stdout",
     "output_type": "stream",
     "text": [
      "[[ 0.7310586 ]\n",
      " [ 0.11920292]\n",
      " [ 0.95257413]\n",
      " [ 0.11920292]\n",
      " [ 0.98201376]] \n",
      "\n",
      "[[ 1.31326175]\n",
      " [ 0.126928  ]\n",
      " [ 3.04858756]\n",
      " [ 0.126928  ]\n",
      " [ 4.01814842]] \n",
      "\n",
      "[[ 0.        ]\n",
      " [ 0.        ]\n",
      " [ 0.        ]\n",
      " [ 0.126928  ]\n",
      " [ 4.01814842]]\n"
     ]
    }
   ],
   "source": [
    "logits = tf.constant([[1],\n",
    "                      [-2],\n",
    "                      [3],\n",
    "                      [-2],\n",
    "                      [4]], tf.float32)\n",
    "H = 1 / (1 + tf.exp(-logits))\n",
    "Y = tf.constant([[1],\n",
    "                 [1],\n",
    "                 [1],\n",
    "                 [0],\n",
    "                 [0]], tf.float32)\n",
    "print(H.eval(), '\\n')\n",
    "\n",
    "c = (1 - Y) * -tf.log(1 - H)\n",
    "print((-tf.log(1-H)).eval(), '\\n')\n",
    "print(c.eval())"
   ]
  },
  {
   "cell_type": "code",
   "execution_count": 9,
   "metadata": {},
   "outputs": [
    {
     "name": "stdout",
     "output_type": "stream",
     "text": [
      "[[ 0.7310586 ]\n",
      " [ 0.11920292]\n",
      " [ 0.95257413]\n",
      " [ 0.11920292]\n",
      " [ 0.98201376]] \n",
      "\n",
      "[[ 0.31326166]\n",
      " [ 2.12692809]\n",
      " [ 0.04858734]\n",
      " [ 0.126928  ]\n",
      " [ 4.01814842]]\n"
     ]
    }
   ],
   "source": [
    "logits = tf.constant([[1],\n",
    "                      [-2],\n",
    "                      [3],\n",
    "                      [-2],\n",
    "                      [4]], tf.float32)\n",
    "H = 1 / (1 + tf.exp(-logits))\n",
    "Y = tf.constant([[1],\n",
    "                 [1],\n",
    "                 [1],\n",
    "                 [0],\n",
    "                 [0]], tf.float32)\n",
    "print(H.eval(), '\\n')\n",
    "\n",
    "c = -(Y*tf.log(H) + (1-Y)*tf.log(1-H))\n",
    "print(c.eval())"
   ]
  },
  {
   "cell_type": "code",
   "execution_count": 10,
   "metadata": {},
   "outputs": [
    {
     "name": "stdout",
     "output_type": "stream",
     "text": [
      "[[ 0.7310586 ]\n",
      " [ 0.11920292]\n",
      " [ 0.95257413]\n",
      " [ 0.11920292]\n",
      " [ 0.98201376]] \n",
      "\n",
      "1.32677\n"
     ]
    }
   ],
   "source": [
    "logits = tf.constant([[1],\n",
    "                      [-2],\n",
    "                      [3],\n",
    "                      [-2],\n",
    "                      [4]], tf.float32)\n",
    "H = 1 / (1 + tf.exp(-logits))\n",
    "Y = tf.constant([[1],\n",
    "                 [1],\n",
    "                 [1],\n",
    "                 [0],\n",
    "                 [0]], tf.float32)\n",
    "print(H.eval(), '\\n')\n",
    "\n",
    "cost = -tf.reduce_mean(Y*tf.log(H) + (1-Y)*tf.log(1-H))\n",
    "print(cost.eval())"
   ]
  },
  {
   "cell_type": "code",
   "execution_count": 11,
   "metadata": {},
   "outputs": [
    {
     "name": "stdout",
     "output_type": "stream",
     "text": [
      "[[  9.99954581e-01]\n",
      " [  9.99954581e-01]\n",
      " [  9.99954581e-01]\n",
      " [  4.53978719e-05]\n",
      " [  4.53978719e-05]] \n",
      "\n",
      "4.54198e-05\n"
     ]
    }
   ],
   "source": [
    "logits = tf.constant([[10],\n",
    "                      [10],\n",
    "                      [10],\n",
    "                      [-10],\n",
    "                      [-10]], tf.float32)\n",
    "H = 1 / (1 + tf.exp(-logits))\n",
    "Y = tf.constant([[1],\n",
    "                 [1],\n",
    "                 [1],\n",
    "                 [0],\n",
    "                 [0]], tf.float32)\n",
    "\n",
    "cost = -tf.reduce_mean(Y*tf.log(H) + (1-Y)*tf.log(1-H))\n",
    "print(H.eval(), '\\n')\n",
    "print(cost.eval())"
   ]
  }
 ],
 "metadata": {
  "kernelspec": {
   "display_name": "Python 3",
   "language": "python",
   "name": "python3"
  },
  "language_info": {
   "codemirror_mode": {
    "name": "ipython",
    "version": 3
   },
   "file_extension": ".py",
   "mimetype": "text/x-python",
   "name": "python",
   "nbconvert_exporter": "python",
   "pygments_lexer": "ipython3",
   "version": "3.6.1"
  }
 },
 "nbformat": 4,
 "nbformat_minor": 2
}
