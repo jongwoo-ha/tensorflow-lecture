{
 "cells": [
  {
   "cell_type": "code",
   "execution_count": 32,
   "metadata": {
    "collapsed": true
   },
   "outputs": [],
   "source": [
    "import tensorflow as tf\n",
    "\n",
    "sess = tf.InteractiveSession()"
   ]
  },
  {
   "cell_type": "code",
   "execution_count": 33,
   "metadata": {
    "scrolled": true
   },
   "outputs": [
    {
     "name": "stdout",
     "output_type": "stream",
     "text": [
      "[[  9.99954581e-01]\n",
      " [  0.00000000e+00]\n",
      " [  9.99954581e-01]\n",
      " [  9.99664664e-01]\n",
      " [  2.06115369e-09]]\n"
     ]
    }
   ],
   "source": [
    "logits = tf.constant(([[10],\n",
    "                       [-1000],\n",
    "                       [10],\n",
    "                       [8],\n",
    "                       [-20]]), tf.float32)\n",
    "Y = tf.constant(([[1],\n",
    "                  [1],\n",
    "                  [1],\n",
    "                  [1],\n",
    "                  [1]]), tf.float32)\n",
    "H = 1 / (1 + tf.exp(-logits))\n",
    "print(H.eval())"
   ]
  },
  {
   "cell_type": "code",
   "execution_count": 34,
   "metadata": {
    "scrolled": true
   },
   "outputs": [
    {
     "name": "stdout",
     "output_type": "stream",
     "text": [
      "[[  9.99954581e-01]\n",
      " [  0.00000000e+00]\n",
      " [  9.99954581e-01]\n",
      " [  9.99664664e-01]\n",
      " [  2.06115369e-09]]\n"
     ]
    }
   ],
   "source": [
    "H = tf.sigmoid(logits)\n",
    "print(H.eval())"
   ]
  },
  {
   "cell_type": "code",
   "execution_count": 35,
   "metadata": {},
   "outputs": [
    {
     "name": "stdout",
     "output_type": "stream",
     "text": [
      "[[  4.54197725e-05]\n",
      " [             inf]\n",
      " [  4.54197725e-05]\n",
      " [  3.35391960e-04]\n",
      " [  2.00000000e+01]] \n",
      "\n",
      "inf\n"
     ]
    }
   ],
   "source": [
    "logits = tf.constant(([[10],\n",
    "                       [-1000],\n",
    "                       [10],\n",
    "                       [8],\n",
    "                       [-20]]), tf.float32)\n",
    "Y = tf.constant(([[1],\n",
    "                  [1],\n",
    "                  [1],\n",
    "                  [1],\n",
    "                  [1]]), tf.float32)\n",
    "H = 1 / (1 + tf.exp(-logits))\n",
    "\n",
    "cost_unit = -(Y * tf.log(H) + (1-Y) * tf.log(1-H))\n",
    "cost = -tf.reduce_mean(Y * tf.log(H) + (1-Y) * tf.log(1-H))\n",
    "print(cost_unit.eval(), '\\n')\n",
    "print(cost.eval())"
   ]
  },
  {
   "cell_type": "code",
   "execution_count": 25,
   "metadata": {
    "scrolled": true
   },
   "outputs": [
    {
     "name": "stdout",
     "output_type": "stream",
     "text": [
      "[[  4.53988978e-05]\n",
      " [  1.00000000e+03]\n",
      " [  4.53988978e-05]\n",
      " [  3.35406367e-04]\n",
      " [  2.00000000e+01]]\n"
     ]
    }
   ],
   "source": [
    "cost_unit = tf.nn.sigmoid_cross_entropy_with_logits(labels=Y, logits=logits)\n",
    "print(cost_unit.eval())"
   ]
  },
  {
   "cell_type": "code",
   "execution_count": 26,
   "metadata": {},
   "outputs": [
    {
     "name": "stdout",
     "output_type": "stream",
     "text": [
      "204.0\n"
     ]
    }
   ],
   "source": [
    "cost = tf.reduce_mean(tf.nn.sigmoid_cross_entropy_with_logits(labels=Y, logits=logits))\n",
    "print(cost.eval())"
   ]
  }
 ],
 "metadata": {
  "kernelspec": {
   "display_name": "Python 3",
   "language": "python",
   "name": "python3"
  },
  "language_info": {
   "codemirror_mode": {
    "name": "ipython",
    "version": 3
   },
   "file_extension": ".py",
   "mimetype": "text/x-python",
   "name": "python",
   "nbconvert_exporter": "python",
   "pygments_lexer": "ipython3",
   "version": "3.6.1"
  }
 },
 "nbformat": 4,
 "nbformat_minor": 2
}
