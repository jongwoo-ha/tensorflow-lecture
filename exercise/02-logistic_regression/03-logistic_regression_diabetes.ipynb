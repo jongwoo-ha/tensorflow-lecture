{
 "cells": [
  {
   "cell_type": "raw",
   "metadata": {},
   "source": [
    "[Why accuracy alone is a bad measure for classification tasks, and what we can do about it]\n",
    "https://tryolabs.com/blog/2013/03/25/why-accuracy-alone-bad-measure-classification-tasks-and-what-we-can-do-about-it/\n",
    "\n",
    "[When is precision more important over recall?]\n",
    "https://www.quora.com/When-is-precision-more-important-over-recall\n",
    "\n",
    "Precision is more important than recall when you would like to have less False Positives in trade off to have more False Negatives. Meaning, getting a False Positive is very costly, and a False Negative is not as much.\n",
    "\n",
    "In a zombie apocalypse, of course you would try to accept as many as healthy people you can into your safe zone, but you really dont want to mistakenly pass a zombie into the safe zone. So if your method causes some of the healthy people mistakenly not to get into the safe zone, then so be it.\n",
    "\n",
    "In words (keep an eye on the illustration):\n",
    "\n",
    "Precision is to measure the quality of our predictions only based on what our predictor claims to be positive (regardless of all it might miss):\n",
    "\n",
    "All we predicted correctlyAll we predicted, correctly or wronglyAll we predicted correctlyAll we predicted, correctly or wrongly\n",
    "\n",
    "However, Recall is to measure such quality with respect to the mistakes we did (what should have been predicted as positive but we flagged as negative ):\n",
    "\n",
    "All we predicted correctlyAll we should have predictedAll we predicted correctlyAll we should have predicted\n",
    "\n",
    "Example. (Why Recall is important) Suppose we have a weather forecasting device; to predict rainy days. If this device has a high precision, it means when it says “it is going to rain”, we can trust it. But this doesn’t give us any information about all the times it says “it is not going to rain”! If the false claims is going to be costly for our business, then we might want to ask about the number of times this device misses a rainy day.\n",
    "\n",
    "Why precision is important then? Imagine our device is so stupid that it ALWAYS claims that “tomorrow is going to rain”! Then, surprisingly, it is not going to mis-predict one single rainy day! That means: Recall = 100%! Should I conclude that this is a perfect device? No, I should ask for precision now."
   ]
  },
  {
   "cell_type": "raw",
   "metadata": {},
   "source": [
    "tf.placeholder_with_default()\n",
    "tf.count_nonzero()\n",
    "tf.concat()"
   ]
  },
  {
   "cell_type": "code",
   "execution_count": 1,
   "metadata": {
    "collapsed": true
   },
   "outputs": [],
   "source": [
    "import tensorflow as tf\n",
    "\n",
    "sess = tf.InteractiveSession()"
   ]
  },
  {
   "cell_type": "code",
   "execution_count": 2,
   "metadata": {},
   "outputs": [
    {
     "name": "stdout",
     "output_type": "stream",
     "text": [
      "3.0\n"
     ]
    }
   ],
   "source": [
    "a = tf.placeholder(tf.float32, [])\n",
    "b = tf.placeholder(tf.float32, [])\n",
    "add = a + b\n",
    "print(add.eval({a: 1, b: 2}))"
   ]
  },
  {
   "cell_type": "code",
   "execution_count": 3,
   "metadata": {},
   "outputs": [
    {
     "name": "stdout",
     "output_type": "stream",
     "text": [
      "3.0\n",
      "30.0\n"
     ]
    }
   ],
   "source": [
    "# https://www.tensorflow.org/api_docs/python/tf/placeholder_with_default\n",
    "# tf.placeholder_with_default(\n",
    "#     input,\n",
    "#     shape,\n",
    "#     name=None\n",
    "# )\n",
    "\n",
    "a = tf.placeholder_with_default(1., [])\n",
    "b = tf.placeholder_with_default(2., [])\n",
    "add = a + b\n",
    "\n",
    "print(add.eval())\n",
    "print(add.eval({a: 10, b: 20}))"
   ]
  },
  {
   "cell_type": "code",
   "execution_count": 4,
   "metadata": {
    "scrolled": true
   },
   "outputs": [
    {
     "name": "stdout",
     "output_type": "stream",
     "text": [
      "Tensor(\"PlaceholderWithDefault:0\", shape=(), dtype=float32)\n",
      "Tensor(\"PlaceholderWithDefault_2:0\", shape=(), dtype=float64)\n"
     ]
    }
   ],
   "source": [
    "print(a)\n",
    "\n",
    "a = tf.placeholder_with_default(tf.constant(1., tf.float64), [])\n",
    "\n",
    "print(a)"
   ]
  },
  {
   "cell_type": "code",
   "execution_count": 5,
   "metadata": {
    "scrolled": true
   },
   "outputs": [
    {
     "name": "stdout",
     "output_type": "stream",
     "text": [
      "[[0]\n",
      " [0]\n",
      " [1]\n",
      " [1]\n",
      " [1]\n",
      " [1]\n",
      " [0]\n",
      " [0]\n",
      " [0]\n",
      " [0]]\n"
     ]
    }
   ],
   "source": [
    "P = tf.constant([[0],[0],[1],[1],[1],[1],[0],[0],[0],[0]])\n",
    "Y = tf.constant([[1],[1],[1],[1],[1],[0],[0],[0],[0],[0]])\n",
    "\n",
    "print(P.eval())"
   ]
  },
  {
   "cell_type": "code",
   "execution_count": 6,
   "metadata": {},
   "outputs": [
    {
     "name": "stdout",
     "output_type": "stream",
     "text": [
      "[[0 1]\n",
      " [0 1]\n",
      " [1 1]\n",
      " [1 1]\n",
      " [1 1]\n",
      " [1 0]\n",
      " [0 0]\n",
      " [0 0]\n",
      " [0 0]\n",
      " [0 0]]\n"
     ]
    }
   ],
   "source": [
    "P = tf.constant([[0],[0],[1],[1],[1],[1],[0],[0],[0],[0]])\n",
    "Y = tf.constant([[1],[1],[1],[1],[1],[0],[0],[0],[0],[0]])\n",
    "\n",
    "print(tf.concat([P, Y], 1).eval())"
   ]
  },
  {
   "cell_type": "code",
   "execution_count": 7,
   "metadata": {},
   "outputs": [
    {
     "name": "stdout",
     "output_type": "stream",
     "text": [
      "[[0 1 0]\n",
      " [0 1 0]\n",
      " [1 1 1]\n",
      " [1 1 1]\n",
      " [1 1 1]\n",
      " [1 0 0]\n",
      " [0 0 0]\n",
      " [0 0 0]\n",
      " [0 0 0]\n",
      " [0 0 0]]\n",
      "true positive: 3\n"
     ]
    }
   ],
   "source": [
    "# true positive\n",
    "P = tf.constant([[0],[0],[1],[1],[1],[1],[0],[0],[0],[0]])\n",
    "Y = tf.constant([[1],[1],[1],[1],[1],[0],[0],[0],[0],[0]])\n",
    "\n",
    "print(tf.concat([P, Y, P*Y], 1).eval())\n",
    "\n",
    "tp = tf.count_nonzero(P * Y)\n",
    "print('true positive:', tp.eval())"
   ]
  },
  {
   "cell_type": "code",
   "execution_count": 8,
   "metadata": {},
   "outputs": [
    {
     "name": "stdout",
     "output_type": "stream",
     "text": [
      "[[ 0  1 -1  0  0]\n",
      " [ 0  1 -1  0  0]\n",
      " [ 1  1  0  0  0]\n",
      " [ 1  1  0  0  0]\n",
      " [ 1  1  0  0  0]\n",
      " [ 1  0  0 -1  0]\n",
      " [ 0  0 -1 -1  1]\n",
      " [ 0  0 -1 -1  1]\n",
      " [ 0  0 -1 -1  1]\n",
      " [ 0  0 -1 -1  1]]\n",
      "true negative: 4\n"
     ]
    }
   ],
   "source": [
    "# true negative\n",
    "P = tf.constant([[0],[0],[1],[1],[1],[1],[0],[0],[0],[0]])\n",
    "Y = tf.constant([[1],[1],[1],[1],[1],[0],[0],[0],[0],[0]])\n",
    "\n",
    "print(tf.concat([P, Y, P-1, Y-1, (P-1)*(Y-1)], 1).eval())\n",
    "\n",
    "tn = tf.count_nonzero((P - 1) * (Y - 1))\n",
    "print('true negative:', tn.eval())"
   ]
  },
  {
   "cell_type": "code",
   "execution_count": 9,
   "metadata": {},
   "outputs": [
    {
     "name": "stdout",
     "output_type": "stream",
     "text": [
      "[[ 0  1  0  0  0]\n",
      " [ 0  1  0  0  0]\n",
      " [ 1  1  1  0  0]\n",
      " [ 1  1  1  0  0]\n",
      " [ 1  1  1  0  0]\n",
      " [ 1  0  1 -1 -1]\n",
      " [ 0  0  0 -1  0]\n",
      " [ 0  0  0 -1  0]\n",
      " [ 0  0  0 -1  0]\n",
      " [ 0  0  0 -1  0]]\n",
      "false positive: 1\n"
     ]
    }
   ],
   "source": [
    "# false positive\n",
    "P = tf.constant([[0],[0],[1],[1],[1],[1],[0],[0],[0],[0]])\n",
    "Y = tf.constant([[1],[1],[1],[1],[1],[0],[0],[0],[0],[0]])\n",
    "\n",
    "print(tf.concat([P, Y, P, Y-1, P*(Y-1)], 1).eval())\n",
    "\n",
    "fp = tf.count_nonzero(P * (Y-1))\n",
    "print('false positive:', fp.eval())"
   ]
  },
  {
   "cell_type": "code",
   "execution_count": 10,
   "metadata": {
    "scrolled": true
   },
   "outputs": [
    {
     "name": "stdout",
     "output_type": "stream",
     "text": [
      "[[ 0  1 -1  1 -1]\n",
      " [ 0  1 -1  1 -1]\n",
      " [ 1  1  0  1  0]\n",
      " [ 1  1  0  1  0]\n",
      " [ 1  1  0  1  0]\n",
      " [ 1  0  0  0  0]\n",
      " [ 0  0 -1  0  0]\n",
      " [ 0  0 -1  0  0]\n",
      " [ 0  0 -1  0  0]\n",
      " [ 0  0 -1  0  0]]\n",
      "false negative: 2\n"
     ]
    }
   ],
   "source": [
    "# false negative\n",
    "P = tf.constant([[0],[0],[1],[1],[1],[1],[0],[0],[0],[0]])\n",
    "Y = tf.constant([[1],[1],[1],[1],[1],[0],[0],[0],[0],[0]])\n",
    "\n",
    "print(tf.concat([P, Y, P-1, Y, (P-1)*Y], 1).eval())\n",
    "\n",
    "fn = tf.count_nonzero((P - 1) * Y)\n",
    "print('false negative:', fn.eval())"
   ]
  },
  {
   "cell_type": "code",
   "execution_count": 11,
   "metadata": {},
   "outputs": [
    {
     "name": "stdout",
     "output_type": "stream",
     "text": [
      "true positive: 3\n",
      "true negative: 4\n",
      "false positive: 1\n",
      "false negative: 2\n"
     ]
    }
   ],
   "source": [
    "P = tf.constant([[0],[0],[1],[1],[1],[1],[0],[0],[0],[0]])\n",
    "Y = tf.constant([[1],[1],[1],[1],[1],[0],[0],[0],[0],[0]])\n",
    "\n",
    "tp = tf.count_nonzero(P * Y)\n",
    "tn = tf.count_nonzero((P - 1) * (Y - 1))\n",
    "fp = tf.count_nonzero(P * (Y-1))\n",
    "fn = tf.count_nonzero((P - 1) * Y)\n",
    "\n",
    "print('true positive:', tp.eval())\n",
    "print('true negative:', tn.eval())\n",
    "print('false positive:', fp.eval())\n",
    "print('false negative:', fn.eval())"
   ]
  },
  {
   "cell_type": "code",
   "execution_count": 12,
   "metadata": {},
   "outputs": [
    {
     "name": "stdout",
     "output_type": "stream",
     "text": [
      "true positive: 3\n",
      "true negative: 4\n",
      "false positive: 1\n",
      "false negative: 2\n",
      "accuracy: 0.7\n",
      "accuracy: 0.7\n"
     ]
    }
   ],
   "source": [
    "P = tf.constant([[0],[0],[1],[1],[1],[1],[0],[0],[0],[0]])\n",
    "Y = tf.constant([[1],[1],[1],[1],[1],[0],[0],[0],[0],[0]])\n",
    "\n",
    "print('true positive:', tp.eval())\n",
    "print('true negative:', tn.eval())\n",
    "print('false positive:', fp.eval())\n",
    "print('false negative:', fn.eval())\n",
    "\n",
    "accuracy = tf.reduce_mean(tf.cast(tf.equal(P, Y), tf.float32))\n",
    "print('accuracy:', accuracy.eval())\n",
    "\n",
    "accuracy = (tp + tn) / (tp + tn + fp + fn)\n",
    "print('accuracy:', accuracy.eval())"
   ]
  },
  {
   "cell_type": "code",
   "execution_count": 13,
   "metadata": {},
   "outputs": [
    {
     "name": "stdout",
     "output_type": "stream",
     "text": [
      "true positive: 3\n",
      "true negative: 4\n",
      "false positive: 1\n",
      "false negative: 2\n",
      "precision: 0.75\n"
     ]
    }
   ],
   "source": [
    "P = tf.constant([[0],[0],[1],[1],[1],[1],[0],[0],[0],[0]])\n",
    "Y = tf.constant([[1],[1],[1],[1],[1],[0],[0],[0],[0],[0]])\n",
    "\n",
    "print('true positive:', tp.eval())\n",
    "print('true negative:', tn.eval())\n",
    "print('false positive:', fp.eval())\n",
    "print('false negative:', fn.eval())\n",
    "\n",
    "precision = tp / (tp + fp)\n",
    "print('precision:', precision.eval())"
   ]
  },
  {
   "cell_type": "code",
   "execution_count": 14,
   "metadata": {},
   "outputs": [
    {
     "name": "stdout",
     "output_type": "stream",
     "text": [
      "true positive: 3\n",
      "true negative: 4\n",
      "false positive: 1\n",
      "false negative: 2\n",
      "recall: 0.6\n"
     ]
    }
   ],
   "source": [
    "P = tf.constant([[0],[0],[1],[1],[1],[1],[0],[0],[0],[0]])\n",
    "Y = tf.constant([[1],[1],[1],[1],[1],[0],[0],[0],[0],[0]])\n",
    "\n",
    "print('true positive:', tp.eval())\n",
    "print('true negative:', tn.eval())\n",
    "print('false positive:', fp.eval())\n",
    "print('false negative:', fn.eval())\n",
    "\n",
    "recall = tp / (tp + fn)\n",
    "print('recall:', recall.eval())"
   ]
  },
  {
   "cell_type": "code",
   "execution_count": 15,
   "metadata": {},
   "outputs": [
    {
     "name": "stdout",
     "output_type": "stream",
     "text": [
      "true positive: 3\n",
      "true negative: 4\n",
      "false positive: 1\n",
      "false negative: 2\n",
      "f1: 0.666666666667\n"
     ]
    }
   ],
   "source": [
    "P = tf.constant([[0],[0],[1],[1],[1],[1],[0],[0],[0],[0]])\n",
    "Y = tf.constant([[1],[1],[1],[1],[1],[0],[0],[0],[0],[0]])\n",
    "\n",
    "print('true positive:', tp.eval())\n",
    "print('true negative:', tn.eval())\n",
    "print('false positive:', fp.eval())\n",
    "print('false negative:', fn.eval())\n",
    "\n",
    "f1 = 2 * precision * recall / (precision + recall)\n",
    "print('f1:', f1.eval())"
   ]
  },
  {
   "cell_type": "code",
   "execution_count": 16,
   "metadata": {},
   "outputs": [
    {
     "name": "stdout",
     "output_type": "stream",
     "text": [
      "accuracy: 0.7\n",
      "precision: 0.75\n",
      "recall: 0.6\n",
      "f1: 0.666666666667\n"
     ]
    }
   ],
   "source": [
    "P = tf.constant([[0],[0],[1],[1],[1],[1],[0],[0],[0],[0]])\n",
    "Y = tf.constant([[1],[1],[1],[1],[1],[0],[0],[0],[0],[0]])\n",
    "\n",
    "tp = tf.count_nonzero(P * Y)\n",
    "tn = tf.count_nonzero((P - 1) * (Y - 1))\n",
    "fp = tf.count_nonzero(P * (Y-1))\n",
    "fn = tf.count_nonzero((P - 1) * Y)\n",
    "\n",
    "accuracy = (tp + tn) / (tp + tn + fp + fn)\n",
    "precision = tp / (tp + fp)\n",
    "recall = tp / (tp + fn)\n",
    "f1 = 2 * precision * recall / (precision + recall)\n",
    "\n",
    "print('accuracy:', accuracy.eval())\n",
    "print('precision:', precision.eval())\n",
    "print('recall:', recall.eval())\n",
    "print('f1:', f1.eval())"
   ]
  },
  {
   "cell_type": "code",
   "execution_count": 17,
   "metadata": {},
   "outputs": [
    {
     "name": "stdout",
     "output_type": "stream",
     "text": [
      "accuracy: 0.6\n",
      "precision: 1.0\n",
      "recall: 0.2\n",
      "mean: 0.6\n",
      "f1: 0.333333333333\n"
     ]
    }
   ],
   "source": [
    "P = tf.constant([[1],[0],[0],[0],[0],[0],[0],[0],[0],[0]])\n",
    "Y = tf.constant([[1],[1],[1],[1],[1],[0],[0],[0],[0],[0]])\n",
    "\n",
    "tp = tf.count_nonzero(P * Y)\n",
    "tn = tf.count_nonzero((P - 1) * (Y - 1))\n",
    "fp = tf.count_nonzero(P * (Y-1))\n",
    "fn = tf.count_nonzero((P - 1) * Y)\n",
    "\n",
    "accuracy = (tp + tn) / (tp + tn + fp + fn)\n",
    "precision = tp / (tp + fp)\n",
    "recall = tp / (tp + fn)\n",
    "mean = (precision + recall) / 2\n",
    "f1 = 2 * precision * recall / (precision + recall)\n",
    "\n",
    "print('accuracy:', accuracy.eval())\n",
    "print('precision:', precision.eval())\n",
    "print('recall:', recall.eval())\n",
    "print('mean:', mean.eval())\n",
    "print('f1:', f1.eval())"
   ]
  },
  {
   "cell_type": "code",
   "execution_count": 18,
   "metadata": {},
   "outputs": [
    {
     "name": "stdout",
     "output_type": "stream",
     "text": [
      "accuracy: 0.4\n",
      "precision: 0.4\n",
      "recall: 1.0\n",
      "mean: 0.7\n",
      "f1: 0.571428571429\n"
     ]
    }
   ],
   "source": [
    "P = tf.constant([[1],[1],[1],[1],[1],[1],[1],[1],[1],[1]])\n",
    "Y = tf.constant([[1],[1],[1],[1],[0],[0],[0],[0],[0],[0]])\n",
    "\n",
    "tp = tf.count_nonzero(P * Y)\n",
    "tn = tf.count_nonzero((P - 1) * (Y - 1))\n",
    "fp = tf.count_nonzero(P * (Y-1))\n",
    "fn = tf.count_nonzero((P - 1) * Y)\n",
    "\n",
    "accuracy = (tp + tn) / (tp + tn + fp + fn)\n",
    "precision = tp / (tp + fp)\n",
    "recall = tp / (tp + fn)\n",
    "mean = (precision + recall) / 2\n",
    "f1 = 2 * precision * recall / (precision + recall)\n",
    "\n",
    "print('accuracy:', accuracy.eval())\n",
    "print('precision:', precision.eval())\n",
    "print('recall:', recall.eval())\n",
    "print('mean:', mean.eval())\n",
    "print('f1:', f1.eval())"
   ]
  }
 ],
 "metadata": {
  "kernelspec": {
   "display_name": "Python 3",
   "language": "python",
   "name": "python3"
  },
  "language_info": {
   "codemirror_mode": {
    "name": "ipython",
    "version": 3
   },
   "file_extension": ".py",
   "mimetype": "text/x-python",
   "name": "python",
   "nbconvert_exporter": "python",
   "pygments_lexer": "ipython3",
   "version": "3.6.1"
  }
 },
 "nbformat": 4,
 "nbformat_minor": 2
}
