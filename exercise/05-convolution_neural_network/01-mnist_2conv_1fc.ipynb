{
 "cells": [
  {
   "cell_type": "raw",
   "metadata": {},
   "source": [
    "tf.nn.conv2d()\n",
    "tf.nn.max_pooling()"
   ]
  },
  {
   "cell_type": "code",
   "execution_count": 1,
   "metadata": {},
   "outputs": [
    {
     "name": "stdout",
     "output_type": "stream",
     "text": [
      "Extracting ../../dataset/MNIST_data/train-images-idx3-ubyte.gz\n",
      "Extracting ../../dataset/MNIST_data/train-labels-idx1-ubyte.gz\n",
      "Extracting ../../dataset/MNIST_data/t10k-images-idx3-ubyte.gz\n",
      "Extracting ../../dataset/MNIST_data/t10k-labels-idx1-ubyte.gz\n"
     ]
    }
   ],
   "source": [
    "import tensorflow as tf\n",
    "import numpy as np\n",
    "import matplotlib.pyplot as plt\n",
    "import matplotlib.gridspec as gridspec\n",
    "from tensorflow.examples.tutorials.mnist import input_data\n",
    "\n",
    "tf.set_random_seed(0)\n",
    "sess = tf.InteractiveSession()\n",
    "mnist = input_data.read_data_sets('../../dataset/MNIST_data/', one_hot=True)\n",
    "\n",
    "np.set_printoptions(precision=3)\n",
    "np.set_printoptions(suppress=True)"
   ]
  },
  {
   "cell_type": "code",
   "execution_count": 2,
   "metadata": {},
   "outputs": [
    {
     "name": "stdout",
     "output_type": "stream",
     "text": [
      "[[ 0.111  0.111  0.111]\n",
      " [ 0.111  0.111  0.111]\n",
      " [ 0.111  0.111  0.111]]\n"
     ]
    }
   ],
   "source": [
    "# https://en.wikipedia.org/wiki/Kernel_(image_processing)\n",
    "\n",
    "k0 = np.ones([3, 3], np.float32) / 9\n",
    "print(k0)"
   ]
  },
  {
   "cell_type": "code",
   "execution_count": 3,
   "metadata": {
    "scrolled": true
   },
   "outputs": [
    {
     "data": {
      "image/png": "[encoded data removed]",
      "text/plain": [
       "<matplotlib.figure.Figure at 0xfd71f98>"
      ]
     },
     "metadata": {},
     "output_type": "display_data"
    }
   ],
   "source": [
    "image = np.zeros([28, 28], np.float32)\n",
    "image[13:15], image[:, 13:15] = 1.0, 1.0\n",
    "\n",
    "plt.imshow(image, cmap='Greys')\n",
    "plt.show()"
   ]
  },
  {
   "cell_type": "code",
   "execution_count": 4,
   "metadata": {},
   "outputs": [
    {
     "name": "stdout",
     "output_type": "stream",
     "text": [
      "(1, 26, 26, 1)\n"
     ]
    }
   ],
   "source": [
    "# https://www.tensorflow.org/api_docs/python/tf/nn/conv2d\n",
    "# tf.nn.conv2d(\n",
    "#     input,\n",
    "#     filter,\n",
    "#     strides,\n",
    "#     padding,\n",
    "#     use_cudnn_on_gpu=None,\n",
    "#     data_format=None,\n",
    "#     name=None\n",
    "# )\n",
    "\n",
    "image = np.zeros([28, 28], np.float32)\n",
    "image[13:15], image[:, 13:15] = 1.0, 1.0\n",
    "k0 = np.ones([3, 3], np.float32) / 9\n",
    "\n",
    "image = image.reshape(1, 28, 28, 1) # image = np.reshape(image, [1, 28, 28, 1])\n",
    "k0 = k0.reshape(3, 3, 1, 1)\n",
    "\n",
    "conv = tf.nn.conv2d(image, k0, [1, 1, 1, 1], 'VALID').eval()\n",
    "print(conv.shape)\n",
    "\n",
    "# plt.imshow(conv.reshape(26, 26), cmap='Greys')\n",
    "# plt.show()"
   ]
  },
  {
   "cell_type": "code",
   "execution_count": 5,
   "metadata": {},
   "outputs": [
    {
     "name": "stdout",
     "output_type": "stream",
     "text": [
      "(1, 28, 28, 1)\n"
     ]
    }
   ],
   "source": [
    "image = np.zeros([28, 28], np.float32)\n",
    "image[13:15], image[:, 13:15] = 1.0, 1.0\n",
    "k0 = np.ones([3, 3], np.float32) / 9\n",
    "\n",
    "image = image.reshape(1, 28, 28, 1)\n",
    "k0 = k0.reshape(3, 3, 1, 1)\n",
    "\n",
    "conv = tf.nn.conv2d(image, k0, [1, 1, 1, 1], 'SAME').eval()\n",
    "print(conv.shape)\n",
    "\n",
    "# plt.imshow(conv.reshape(28, 28), cmap='Greys')\n",
    "# plt.show()"
   ]
  },
  {
   "cell_type": "code",
   "execution_count": 6,
   "metadata": {},
   "outputs": [
    {
     "name": "stdout",
     "output_type": "stream",
     "text": [
      "(1, 14, 14, 1)\n"
     ]
    }
   ],
   "source": [
    "image = np.zeros([28, 28], np.float32)\n",
    "image[13:15], image[:, 13:15] = 1.0, 1.0\n",
    "k0 = np.ones([3, 3], np.float32) / 9\n",
    "\n",
    "image = image.reshape(1, 28, 28, 1)\n",
    "k0 = k0.reshape(3, 3, 1, 1)\n",
    "\n",
    "conv = tf.nn.conv2d(image, k0, [1, 2, 2, 1], 'SAME').eval()\n",
    "print(conv.shape)\n",
    "\n",
    "# plt.imshow(conv.reshape(14, 14), cmap='Greys')\n",
    "# plt.show()"
   ]
  },
  {
   "cell_type": "code",
   "execution_count": 7,
   "metadata": {},
   "outputs": [
    {
     "name": "stdout",
     "output_type": "stream",
     "text": [
      "(1, 28, 28, 1)\n"
     ]
    }
   ],
   "source": [
    "# https://en.wikipedia.org/wiki/Sobel_operator\n",
    "\n",
    "image = np.zeros([28, 28], np.float32)\n",
    "image[13:15], image[:, 13:15] = 1.0, 1.0\n",
    "k1 = np.array([[1, 0, -1],\n",
    "               [2, 0, -2],\n",
    "               [1, 0, -1]], np.float32)\n",
    "\n",
    "image = image.reshape(1, 28, 28, 1)\n",
    "k1 = k1.reshape(3, 3, 1, 1)\n",
    "\n",
    "conv = tf.nn.conv2d(image, k1, [1, 1, 1, 1], 'SAME').eval()\n",
    "print(conv.shape)\n",
    "\n",
    "# plt.imshow(conv.reshape(28, 28), cmap='Greys')\n",
    "# plt.show()"
   ]
  },
  {
   "cell_type": "code",
   "execution_count": 8,
   "metadata": {},
   "outputs": [
    {
     "name": "stdout",
     "output_type": "stream",
     "text": [
      "(1, 28, 28, 1)\n"
     ]
    }
   ],
   "source": [
    "# https://en.wikipedia.org/wiki/Sobel_operator\n",
    "\n",
    "image = np.zeros([28, 28], np.float32)\n",
    "image[13:15], image[:, 13:15] = 1.0, 1.0\n",
    "k2 = np.array([[1, 2, 1],\n",
    "               [0, 0, 0],\n",
    "               [-1, -2, -1]], np.float32)\n",
    "\n",
    "image = image.reshape(1, 28, 28, 1)\n",
    "k2 = k2.reshape(3, 3, 1, 1)\n",
    "\n",
    "conv = tf.nn.conv2d(image, k2, [1, 1, 1, 1], 'SAME').eval()\n",
    "print(conv.shape)\n",
    "\n",
    "# plt.imshow(conv.reshape(28, 28), cmap='Greys')\n",
    "# plt.show()"
   ]
  },
  {
   "cell_type": "code",
   "execution_count": 9,
   "metadata": {},
   "outputs": [
    {
     "name": "stdout",
     "output_type": "stream",
     "text": [
      "[[[ 0.111  1.     1.   ]\n",
      "  [ 0.111  0.     2.   ]\n",
      "  [ 0.111 -1.     1.   ]]\n",
      "\n",
      " [[ 0.111  2.     0.   ]\n",
      "  [ 0.111  0.     0.   ]\n",
      "  [ 0.111 -2.     0.   ]]\n",
      "\n",
      " [[ 0.111  1.    -1.   ]\n",
      "  [ 0.111  0.    -2.   ]\n",
      "  [ 0.111 -1.    -1.   ]]]\n",
      "(3, 3, 3)\n"
     ]
    }
   ],
   "source": [
    "k0 = np.ones([3, 3], np.float32) / 9\n",
    "k1 = np.array([[1, 0, -1],\n",
    "               [2, 0, -2],\n",
    "               [1, 0, -1]], np.float32)\n",
    "k2 = np.array([[1, 2, 1],\n",
    "               [0, 0, 0],\n",
    "               [-1, -2, -1]], np.float32)\n",
    "\n",
    "kernels = np.dstack((k0, k1, k2))\n",
    "print(kernels)\n",
    "print(kernels.shape)"
   ]
  },
  {
   "cell_type": "code",
   "execution_count": 10,
   "metadata": {},
   "outputs": [
    {
     "name": "stdout",
     "output_type": "stream",
     "text": [
      "(1, 28, 28, 3)\n"
     ]
    }
   ],
   "source": [
    "image = np.zeros([28, 28], np.float32)\n",
    "image[13:15], image[:, 13:15] = 1.0, 1.0\n",
    "\n",
    "k0 = np.ones([3, 3], np.float32) / 9\n",
    "k1 = np.array([[1, 0, -1],\n",
    "               [2, 0, -2],\n",
    "               [1, 0, -1]], np.float32)\n",
    "k2 = np.array([[1, 2, 1],\n",
    "               [0, 0, 0],\n",
    "               [-1, -2, -1]], np.float32)\n",
    "kernels = np.dstack((k0, k1, k2))\n",
    "\n",
    "image = image.reshape(1, 28, 28, 1)\n",
    "kernels = kernels.reshape(3, 3, 1, 3)\n",
    "\n",
    "conv = tf.nn.conv2d(image, kernels, [1, 1, 1, 1], 'SAME').eval()\n",
    "print(conv.shape)\n",
    "\n",
    "# for i in range(3):\n",
    "#     plt.imshow(conv[..., [i]].reshape(28, 28), cmap='Greys')\n",
    "#     plt.show()"
   ]
  },
  {
   "cell_type": "code",
   "execution_count": 11,
   "metadata": {},
   "outputs": [
    {
     "name": "stdout",
     "output_type": "stream",
     "text": [
      "(1, 28, 28, 3)\n"
     ]
    },
    {
     "data": {
      "image/png": "[encoded data removed]",
      "text/plain": [
       "<matplotlib.figure.Figure at 0x103f0b38>"
      ]
     },
     "metadata": {},
     "output_type": "display_data"
    },
    {
     "data": {
      "image/png": "[encoded data removed]",
      "text/plain": [
       "<matplotlib.figure.Figure at 0x10435438>"
      ]
     },
     "metadata": {},
     "output_type": "display_data"
    },
    {
     "data": {
      "image/png": "[encoded data removed]",
      "text/plain": [
       "<matplotlib.figure.Figure at 0x1072a3c8>"
      ]
     },
     "metadata": {},
     "output_type": "display_data"
    },
    {
     "data": {
      "image/png": "[encoded data removed]",
      "text/plain": [
       "<matplotlib.figure.Figure at 0x107c8e48>"
      ]
     },
     "metadata": {},
     "output_type": "display_data"
    }
   ],
   "source": [
    "image = mnist.train.images[0]\n",
    "\n",
    "k0 = np.ones([3, 3], np.float32) / 9\n",
    "k1 = np.array([[1, 0, -1],\n",
    "               [2, 0, -2],\n",
    "               [1, 0, -1]], np.float32)\n",
    "k2 = np.array([[1, 2, 1],\n",
    "               [0, 0, 0],\n",
    "               [-1, -2, -1]], np.float32)\n",
    "kernels = np.dstack((k0, k1, k2))\n",
    "\n",
    "image = image.reshape(1, 28, 28, 1)\n",
    "kernels = kernels.reshape(3, 3, 1, 3)\n",
    "\n",
    "conv = tf.nn.conv2d(image, kernels, [1, 1, 1, 1], 'SAME').eval()\n",
    "print(conv.shape)\n",
    "\n",
    "plt.imshow(image.reshape(28, 28), cmap='Greys')\n",
    "plt.show()\n",
    "for i in range(3):\n",
    "    plt.imshow(conv[..., [i]].reshape(28, 28), cmap='Greys')\n",
    "    plt.show()"
   ]
  },
  {
   "cell_type": "code",
   "execution_count": 12,
   "metadata": {},
   "outputs": [
    {
     "data": {
      "image/png": "[encoded data removed]",
      "text/plain": [
       "<matplotlib.figure.Figure at 0x103b4940>"
      ]
     },
     "metadata": {},
     "output_type": "display_data"
    },
    {
     "name": "stdout",
     "output_type": "stream",
     "text": [
      "(1, 14, 14, 1)\n"
     ]
    },
    {
     "data": {
      "image/png": "[encoded data removed]",
      "text/plain": [
       "<matplotlib.figure.Figure at 0x103aba90>"
      ]
     },
     "metadata": {},
     "output_type": "display_data"
    }
   ],
   "source": [
    "# https://www.tensorflow.org/api_docs/python/tf/nn/max_pool\n",
    "# tf.nn.max_pool(\n",
    "#     value,\n",
    "#     ksize,\n",
    "#     strides,\n",
    "#     padding,\n",
    "#     data_format='NHWC',\n",
    "#     name=None\n",
    "# )\n",
    "# [batch, height, width, channels]\n",
    "\n",
    "image = mnist.train.images[0]\n",
    "plt.imshow(image.reshape(28, 28), cmap='Greys')\n",
    "plt.show()\n",
    "\n",
    "image = image.reshape(1, 28, 28, 1)\n",
    "\n",
    "pool = tf.nn.max_pool(image, [1, 2, 2, 1], [1, 2, 2, 1], 'SAME').eval()\n",
    "print(pool.shape)\n",
    "\n",
    "plt.imshow(pool.reshape(14, 14), cmap='Greys')\n",
    "plt.show()"
   ]
  },
  {
   "cell_type": "code",
   "execution_count": 13,
   "metadata": {},
   "outputs": [
    {
     "name": "stdout",
     "output_type": "stream",
     "text": [
      "(1, 14, 14, 3)\n"
     ]
    },
    {
     "data": {
      "image/png": "[encoded data removed]",
      "text/plain": [
       "<matplotlib.figure.Figure at 0x10ae8f28>"
      ]
     },
     "metadata": {},
     "output_type": "display_data"
    },
    {
     "data": {
      "image/png": "[encoded data removed]",
      "text/plain": [
       "<matplotlib.figure.Figure at 0x10af5f28>"
      ]
     },
     "metadata": {},
     "output_type": "display_data"
    },
    {
     "data": {
      "image/png": "[encoded data removed]",
      "text/plain": [
       "<matplotlib.figure.Figure at 0x10b13470>"
      ]
     },
     "metadata": {},
     "output_type": "display_data"
    },
    {
     "data": {
      "image/png": "[encoded data removed]",
      "text/plain": [
       "<matplotlib.figure.Figure at 0x10e4cb00>"
      ]
     },
     "metadata": {},
     "output_type": "display_data"
    }
   ],
   "source": [
    "image = mnist.train.images[0]\n",
    "\n",
    "k0 = np.ones([3, 3], np.float32) / 9\n",
    "k1 = np.array([[1, 0, -1],\n",
    "               [2, 0, -2],\n",
    "               [1, 0, -1]], np.float32)\n",
    "k2 = np.array([[1, 2, 1],\n",
    "               [0, 0, 0],\n",
    "               [-1, -2, -1]], np.float32)\n",
    "kernels = np.dstack((k0, k1, k2))\n",
    "\n",
    "image = image.reshape(1, 28, 28, 1)\n",
    "kernels = kernels.reshape(3, 3, 1, 3)\n",
    "\n",
    "L1 = tf.nn.conv2d(image, kernels, [1, 1, 1, 1], 'SAME')\n",
    "L1 = tf.nn.relu(L1)\n",
    "L1 = tf.nn.max_pool(L1, [1, 2, 2, 1], [1, 2, 2, 1], 'SAME')\n",
    "L1 = tf.nn.dropout(L1, keep_prob=1.)\n",
    "\n",
    "conv = L1.eval()\n",
    "print(conv.shape)\n",
    "\n",
    "plt.imshow(image.reshape(28, 28), cmap='Greys')\n",
    "plt.show()\n",
    "for i in range(3):\n",
    "    plt.imshow(conv[..., [i]].reshape(14, 14), cmap='Greys')\n",
    "    plt.show()"
   ]
  },
  {
   "cell_type": "code",
   "execution_count": 14,
   "metadata": {},
   "outputs": [],
   "source": [
    "X = tf.placeholder(tf.float32, [None, 784])\n",
    "Y = tf.placeholder(tf.float32, [None, 10])\n",
    "keep_prob = tf.placeholder_with_default(1.0, None)\n",
    "\n",
    "init_w = tf.contrib.layers.xavier_initializer()\n",
    "init_b = tf.zeros_initializer()\n",
    "\n",
    "conv_W1 = tf.get_variable('conv_W1', [3, 3, 1, 32], initializer=init_w)\n",
    "conv_W2 = tf.get_variable('conv_W2', [3, 3, 32, 64], initializer=init_w)\n",
    "\n",
    "X_img = tf.reshape(X, [-1, 28, 28, 1])\n",
    "\n",
    "L1 = tf.nn.conv2d(X_img, conv_W1, [1, 1, 1, 1], 'SAME')\n",
    "L1 = tf.nn.relu(L1)\n",
    "L1 = tf.nn.max_pool(L1, [1, 2, 2, 1], [1, 2, 2, 1], 'SAME')\n",
    "L1 = tf.nn.dropout(L1, keep_prob=keep_prob)\n",
    "\n",
    "L2 = tf.nn.conv2d(L1, conv_W2, [1, 1, 1, 1], 'SAME')\n",
    "L2 = tf.nn.relu(L2)\n",
    "L2 = tf.nn.max_pool(L2, [1, 2, 2, 1], [1, 2, 2, 1], 'SAME')\n",
    "L2 = tf.nn.dropout(L2, keep_prob=keep_prob)"
   ]
  },
  {
   "cell_type": "code",
   "execution_count": 15,
   "metadata": {},
   "outputs": [
    {
     "name": "stdout",
     "output_type": "stream",
     "text": [
      "L1: Tensor(\"dropout_1/mul:0\", shape=(?, 14, 14, 32), dtype=float32)\n",
      "L2: Tensor(\"dropout_2/mul:0\", shape=(?, 7, 7, 64), dtype=float32)\n"
     ]
    }
   ],
   "source": [
    "print('L1:', L1)\n",
    "print('L2:', L2)"
   ]
  },
  {
   "cell_type": "code",
   "execution_count": 16,
   "metadata": {},
   "outputs": [
    {
     "name": "stdout",
     "output_type": "stream",
     "text": [
      "L1: (1, 14, 14, 32)\n",
      "L2: (1, 7, 7, 64)\n"
     ]
    }
   ],
   "source": [
    "sess.run(tf.global_variables_initializer())\n",
    "\n",
    "image = mnist.train.images[[0]]\n",
    "\n",
    "l1, l2 = sess.run([L1, L2], {X: image})\n",
    "\n",
    "print('L1:', l1.shape)\n",
    "print('L2:', l2.shape)\n",
    "\n",
    "# gs = gridspec.GridSpec(4, 8)\n",
    "# ax = [plt.subplot(gs[i]) for i in range(32)]\n",
    "# for i in range(32): ax[i].imshow(l1[..., [i]].reshape(14, 14), cmap='Greys')\n",
    "# plt.show()\n",
    "# gs = gridspec.GridSpec(8, 8)\n",
    "# ax = [plt.subplot(gs[i]) for i in range(64)]\n",
    "# for i in range(64): ax[i].imshow(l2[..., [i]].reshape(7, 7), cmap='Greys')\n",
    "# plt.show()"
   ]
  },
  {
   "cell_type": "code",
   "execution_count": 17,
   "metadata": {
    "collapsed": true
   },
   "outputs": [],
   "source": [
    "L2 = tf.reshape(L2, [-1, 7*7*64])\n",
    "\n",
    "fc_W1 = tf.get_variable('fc_W1', [7*7*64, 10], initializer=init_w)\n",
    "fc_b1 = tf.get_variable('fc_b1', [10], initializer=init_b)\n",
    "\n",
    "logits = tf.matmul(L2, fc_W1) + fc_b1\n",
    "\n",
    "prediction = tf.argmax(logits, 1)\n",
    "accuracy = tf.reduce_mean(tf.cast(tf.equal(prediction, tf.argmax(Y, 1)), tf.float32))"
   ]
  },
  {
   "cell_type": "code",
   "execution_count": 18,
   "metadata": {},
   "outputs": [
    {
     "name": "stdout",
     "output_type": "stream",
     "text": [
      "[[-0.007  0.115 -0.109 -0.046 -0.166  0.052 -0.057  0.025  0.271  0.131]\n",
      " [-0.01   0.093 -0.054  0.102 -0.028 -0.085  0.029 -0.014  0.13   0.047]\n",
      " [-0.008  0.109 -0.066 -0.046  0.04  -0.013  0.022  0.031  0.118  0.058]\n",
      " [ 0.002  0.158 -0.015 -0.02  -0.002  0.037  0.035  0.087  0.102  0.038]\n",
      " [ 0.041  0.1    0.034 -0.02  -0.065  0.017  0.013  0.044  0.045 -0.069]\n",
      " [ 0.048  0.235 -0.048  0.083 -0.086 -0.089  0.002  0.08   0.11   0.075]\n",
      " [ 0.094  0.117  0.042  0.007 -0.064  0.022  0.047  0.056  0.097 -0.026]\n",
      " [-0.046  0.171 -0.094  0.098 -0.058 -0.062 -0.011  0.145  0.073  0.008]\n",
      " [-0.004  0.067 -0.077 -0.02  -0.037 -0.012 -0.     0.06   0.137  0.128]\n",
      " [-0.02   0.201 -0.082  0.074 -0.124 -0.043  0.048  0.08   0.175  0.079]]\n",
      "[8 8 8 1 1 1 1 1 8 1]\n",
      "0.2\n"
     ]
    }
   ],
   "source": [
    "sess.run(tf.global_variables_initializer())\n",
    "\n",
    "x_batch = mnist.train.images[:10]\n",
    "y_batch = mnist.train.labels[:10]\n",
    "\n",
    "print(logits.eval({X: x_batch}))\n",
    "print(prediction.eval({X: x_batch}))\n",
    "print(accuracy.eval({X: x_batch, Y: y_batch}))"
   ]
  }
 ],
 "metadata": {
  "kernelspec": {
   "display_name": "Python 3",
   "language": "python",
   "name": "python3"
  },
  "language_info": {
   "codemirror_mode": {
    "name": "ipython",
    "version": 3
   },
   "file_extension": ".py",
   "mimetype": "text/x-python",
   "name": "python",
   "nbconvert_exporter": "python",
   "pygments_lexer": "ipython3",
   "version": "3.6.1"
  }
 },
 "nbformat": 4,
 "nbformat_minor": 2
}
