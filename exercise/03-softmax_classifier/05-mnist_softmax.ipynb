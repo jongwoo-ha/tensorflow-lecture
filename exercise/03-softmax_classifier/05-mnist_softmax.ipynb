{
 "cells": [
  {
   "cell_type": "code",
   "execution_count": 1,
   "metadata": {},
   "outputs": [
    {
     "name": "stdout",
     "output_type": "stream",
     "text": [
      "Extracting ../../dataset/MNIST_data/train-images-idx3-ubyte.gz\n",
      "Extracting ../../dataset/MNIST_data/train-labels-idx1-ubyte.gz\n",
      "Extracting ../../dataset/MNIST_data/t10k-images-idx3-ubyte.gz\n",
      "Extracting ../../dataset/MNIST_data/t10k-labels-idx1-ubyte.gz\n"
     ]
    }
   ],
   "source": [
    "import tensorflow as tf\n",
    "import numpy as np\n",
    "import matplotlib.pyplot as plt\n",
    "from tensorflow.examples.tutorials.mnist import input_data\n",
    "\n",
    "sess = tf.InteractiveSession()\n",
    "mnist = input_data.read_data_sets('../../dataset/MNIST_data/', one_hot=True)"
   ]
  },
  {
   "cell_type": "code",
   "execution_count": 2,
   "metadata": {},
   "outputs": [
    {
     "name": "stdout",
     "output_type": "stream",
     "text": [
      "<class 'numpy.ndarray'>\n",
      "<class 'numpy.ndarray'>\n"
     ]
    }
   ],
   "source": [
    "print(type(mnist.train.images))\n",
    "print(type(mnist.train.labels))"
   ]
  },
  {
   "cell_type": "code",
   "execution_count": 3,
   "metadata": {},
   "outputs": [
    {
     "name": "stdout",
     "output_type": "stream",
     "text": [
      "float32\n",
      "float64\n"
     ]
    }
   ],
   "source": [
    "print(mnist.train.images.dtype)\n",
    "print(mnist.train.labels.dtype)"
   ]
  },
  {
   "cell_type": "code",
   "execution_count": 4,
   "metadata": {},
   "outputs": [
    {
     "name": "stdout",
     "output_type": "stream",
     "text": [
      "train image: (55000, 784)\n",
      "train label: (55000, 10)\n",
      "validation image: (5000, 784)\n",
      "validation label: (5000, 10)\n",
      "test image: (10000, 784)\n",
      "test label: (10000, 10)\n"
     ]
    }
   ],
   "source": [
    "print('train image:', mnist.train.images.shape)\n",
    "print('train label:', mnist.train.labels.shape)\n",
    "print('validation image:', mnist.validation.images.shape)\n",
    "print('validation label:', mnist.validation.labels.shape)\n",
    "print('test image:', mnist.test.images.shape)\n",
    "print('test label:', mnist.test.labels.shape)"
   ]
  },
  {
   "cell_type": "code",
   "execution_count": 5,
   "metadata": {},
   "outputs": [
    {
     "name": "stdout",
     "output_type": "stream",
     "text": [
      "55000\n"
     ]
    }
   ],
   "source": [
    "print(mnist.train.num_examples)"
   ]
  },
  {
   "cell_type": "code",
   "execution_count": 6,
   "metadata": {},
   "outputs": [
    {
     "name": "stdout",
     "output_type": "stream",
     "text": [
      "(1, 784)\n",
      "(28, 28)\n",
      "(28, 28)\n"
     ]
    },
    {
     "data": {
      "image/png": "[encoded data removed]",
      "text/plain": [
       "<matplotlib.figure.Figure at 0xff85128>"
      ]
     },
     "metadata": {},
     "output_type": "display_data"
    }
   ],
   "source": [
    "print(mnist.train.images[0:1].shape)\n",
    "\n",
    "x = mnist.train.images[0:1].reshape(28, 28)\n",
    "print(x.shape)\n",
    "\n",
    "x = np.reshape(mnist.train.images[0:1], [28, 28])\n",
    "print(x.shape)\n",
    "\n",
    "plt.imshow(x, cmap='Greys') # white=0.0, black=1.0\n",
    "plt.show()"
   ]
  },
  {
   "cell_type": "code",
   "execution_count": 7,
   "metadata": {},
   "outputs": [
    {
     "name": "stdout",
     "output_type": "stream",
     "text": [
      "(1, 10)\n",
      "[[ 0.  0.  0.  0.  0.  0.  0.  1.  0.  0.]]\n",
      "[7]\n"
     ]
    }
   ],
   "source": [
    "y = mnist.train.labels[0:1]\n",
    "\n",
    "print(y.shape)\n",
    "print(y)\n",
    "print(tf.argmax(y, 1).eval())"
   ]
  },
  {
   "cell_type": "code",
   "execution_count": 8,
   "metadata": {},
   "outputs": [
    {
     "data": {
      "image/png": "[encoded data removed]",
      "text/plain": [
       "<matplotlib.figure.Figure at 0xfd74710>"
      ]
     },
     "metadata": {},
     "output_type": "display_data"
    }
   ],
   "source": [
    "idx = 1\n",
    "plt.imshow(mnist.train.images[[idx]].reshape(28, 28), cmap='Greys') # white=0.0, black=1.0\n",
    "plt.show()\n",
    "\n",
    "# print(mnist.train.labels[[idx]])\n",
    "# print(tf.argmax(mnist.train.labels[[idx]], 1).eval())"
   ]
  },
  {
   "cell_type": "code",
   "execution_count": 9,
   "metadata": {},
   "outputs": [
    {
     "data": {
      "image/png": "[encoded data removed]",
      "text/plain": [
       "<matplotlib.figure.Figure at 0x10c45860>"
      ]
     },
     "metadata": {},
     "output_type": "display_data"
    }
   ],
   "source": [
    "idx = 2\n",
    "plt.imshow(mnist.train.images[[idx]].reshape(28, 28), cmap='Greys') # white=0.0, black=1.0\n",
    "plt.show()\n",
    "\n",
    "# print(mnist.train.labels[[idx]])\n",
    "# print(tf.argmax(mnist.train.labels[[idx]], 1).eval())"
   ]
  },
  {
   "cell_type": "code",
   "execution_count": 10,
   "metadata": {},
   "outputs": [
    {
     "data": {
      "image/png": "[encoded data removed]",
      "text/plain": [
       "<matplotlib.figure.Figure at 0x10d05278>"
      ]
     },
     "metadata": {},
     "output_type": "display_data"
    }
   ],
   "source": [
    "idx = 9\n",
    "plt.imshow(mnist.train.images[[idx]].reshape(28, 28), cmap='Greys') # white=0.0, black=1.0\n",
    "plt.show()\n",
    "\n",
    "# print(mnist.train.labels[[idx]])\n",
    "# print(tf.argmax(mnist.train.labels[[idx]], 1).eval())"
   ]
  },
  {
   "cell_type": "code",
   "execution_count": 11,
   "metadata": {},
   "outputs": [
    {
     "data": {
      "image/png": "[encoded data removed]",
      "text/plain": [
       "<matplotlib.figure.Figure at 0x10fa6d30>"
      ]
     },
     "metadata": {},
     "output_type": "display_data"
    }
   ],
   "source": [
    "idx = 13\n",
    "plt.imshow(mnist.train.images[[idx]].reshape(28, 28), cmap='Greys') # white=0.0, black=1.0\n",
    "plt.show()\n",
    "\n",
    "# print(mnist.train.labels[[idx]])\n",
    "# print(tf.argmax(mnist.train.labels[[idx]], 1).eval())"
   ]
  },
  {
   "cell_type": "code",
   "execution_count": 12,
   "metadata": {},
   "outputs": [
    {
     "name": "stdout",
     "output_type": "stream",
     "text": [
      "(100, 784) (100, 10)\n"
     ]
    },
    {
     "data": {
      "image/png": "[encoded data removed]",
      "text/plain": [
       "<matplotlib.figure.Figure at 0x10face10>"
      ]
     },
     "metadata": {},
     "output_type": "display_data"
    },
    {
     "name": "stdout",
     "output_type": "stream",
     "text": [
      "[[ 0.  1.  0.  0.  0.  0.  0.  0.  0.  0.]]\n",
      "[1]\n"
     ]
    }
   ],
   "source": [
    "batch_size = 100\n",
    "idx = 0\n",
    "\n",
    "x_batch, y_batch = mnist.train.next_batch(batch_size)\n",
    "\n",
    "print(x_batch.shape, y_batch.shape)\n",
    "\n",
    "plt.imshow(x_batch[[idx]].reshape(28, 28), cmap='Greys')\n",
    "plt.show()\n",
    "\n",
    "print(y_batch[[idx]])\n",
    "print(tf.argmax(y_batch[[idx]], 1).eval())"
   ]
  }
 ],
 "metadata": {
  "kernelspec": {
   "display_name": "Python 3",
   "language": "python",
   "name": "python3"
  },
  "language_info": {
   "codemirror_mode": {
    "name": "ipython",
    "version": 3
   },
   "file_extension": ".py",
   "mimetype": "text/x-python",
   "name": "python",
   "nbconvert_exporter": "python",
   "pygments_lexer": "ipython3",
   "version": "3.6.1"
  }
 },
 "nbformat": 4,
 "nbformat_minor": 2
}
