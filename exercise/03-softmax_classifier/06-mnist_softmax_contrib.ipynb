{
 "cells": [
  {
   "cell_type": "code",
   "execution_count": 1,
   "metadata": {},
   "outputs": [],
   "source": [
    "import tensorflow as tf\n",
    "import numpy as np\n",
    "\n",
    "tf.set_random_seed(0)\n",
    "sess = tf.InteractiveSession()"
   ]
  },
  {
   "cell_type": "code",
   "execution_count": 2,
   "metadata": {},
   "outputs": [
    {
     "name": "stdout",
     "output_type": "stream",
     "text": [
      "[[-2.30085135]\n",
      " [-5.23155308]\n",
      " [-8.16225433]]\n"
     ]
    }
   ],
   "source": [
    "# https://www.tensorflow.org/api_docs/python/tf/contrib/layers/fully_connected\n",
    "# tf.fully_connected(\n",
    "#     inputs,\n",
    "#     num_outputs,\n",
    "#     activation_fn=tf.nn.relu,\n",
    "#     normalizer_fn=None,\n",
    "#     normalizer_params=None,\n",
    "#     weights_initializer=initializers.xavier_initializer(),\n",
    "#     weights_regularizer=None,\n",
    "#     biases_initializer=tf.zeros_initializer(),\n",
    "#     biases_regularizer=None,\n",
    "#     reuse=None,\n",
    "#     variables_collections=None,\n",
    "#     outputs_collections=None,\n",
    "#     trainable=True,\n",
    "#     scope=None\n",
    "# )\n",
    "\n",
    "X = tf.placeholder(tf.float32, [None, 2]) # [None, None] ?\n",
    "\n",
    "H = tf.contrib.layers.fully_connected(X, 1, None)\n",
    "\n",
    "sess.run(tf.global_variables_initializer())\n",
    "\n",
    "print(H.eval({X: [[1, 2],\n",
    "                  [3, 4],\n",
    "                  [5, 6]]}))"
   ]
  },
  {
   "cell_type": "code",
   "execution_count": 3,
   "metadata": {},
   "outputs": [
    {
     "name": "stdout",
     "output_type": "stream",
     "text": [
      "[[ 0.91155583]\n",
      " [ 0.98873949]\n",
      " [ 0.99866498]]\n"
     ]
    }
   ],
   "source": [
    "X = tf.placeholder(tf.float32, [None, 2])\n",
    "\n",
    "H = tf.contrib.layers.fully_connected(X, 1, tf.nn.sigmoid)\n",
    "\n",
    "sess.run(tf.global_variables_initializer())\n",
    "\n",
    "print(H.eval({X: [[1, 2],\n",
    "                  [3, 4],\n",
    "                  [5, 6]]}))"
   ]
  },
  {
   "cell_type": "code",
   "execution_count": 4,
   "metadata": {},
   "outputs": [
    {
     "name": "stdout",
     "output_type": "stream",
     "text": [
      "[[-0.92030478  1.30180979 -1.56053352  1.32262087]\n",
      " [-2.42455912  2.20901012 -3.21592522  3.61487865]\n",
      " [-3.92881346  3.11621046 -4.87131691  5.90713644]]\n"
     ]
    }
   ],
   "source": [
    "X = tf.placeholder(tf.float32, [None, 2])\n",
    "\n",
    "H = tf.contrib.layers.fully_connected(X, 4, None)\n",
    "\n",
    "sess.run(tf.global_variables_initializer())\n",
    "\n",
    "print(H.eval({X: [[1, 2],\n",
    "                  [3, 4],\n",
    "                  [5, 6]]}))"
   ]
  },
  {
   "cell_type": "code",
   "execution_count": 5,
   "metadata": {},
   "outputs": [
    {
     "name": "stdout",
     "output_type": "stream",
     "text": [
      "[[ 0.2643609   0.07163715  0.3645592   0.29944277]\n",
      " [ 0.30613974  0.00975491  0.47735074  0.20675462]\n",
      " [ 0.31550989  0.00118217  0.55626005  0.12704787]]\n",
      "[ 1.  1.  1.]\n"
     ]
    }
   ],
   "source": [
    "X = tf.placeholder(tf.float32, [None, 2])\n",
    "\n",
    "H = tf.contrib.layers.fully_connected(X, 4, tf.nn.softmax)\n",
    "\n",
    "sess.run(tf.global_variables_initializer())\n",
    "\n",
    "print(H.eval({X: [[1, 2],\n",
    "                  [3, 4],\n",
    "                  [5, 6]]}))\n",
    "\n",
    "print(tf.reduce_sum(H, 1).eval({X: [[1, 2],\n",
    "                                    [3, 4],\n",
    "                                    [5, 6]]}))"
   ]
  },
  {
   "cell_type": "code",
   "execution_count": 6,
   "metadata": {},
   "outputs": [
    {
     "name": "stdout",
     "output_type": "stream",
     "text": [
      "[[  3.]\n",
      " [  7.]\n",
      " [ 11.]]\n"
     ]
    }
   ],
   "source": [
    "# https://www.tensorflow.org/api_docs/python/tf/contrib/layers/fully_connected\n",
    "# tf.fully_connected(\n",
    "#     inputs,\n",
    "#     num_outputs,\n",
    "#     activation_fn=tf.nn.relu,\n",
    "#     normalizer_fn=None,\n",
    "#     normalizer_params=None,\n",
    "#     weights_initializer=initializers.xavier_initializer(),\n",
    "#     weights_regularizer=None,\n",
    "#     biases_initializer=tf.zeros_initializer(),\n",
    "#     biases_regularizer=None,\n",
    "#     reuse=None,\n",
    "#     variables_collections=None,\n",
    "#     outputs_collections=None,\n",
    "#     trainable=True,\n",
    "#     scope=None\n",
    "# )\n",
    "\n",
    "X = tf.placeholder(tf.float32, [None, 2])\n",
    "\n",
    "init_w = tf.ones_initializer()\n",
    "init_b = tf.zeros_initializer()\n",
    "\n",
    "logits = tf.contrib.layers.fully_connected(X, 1, None, weights_initializer=init_w, biases_initializer=init_b)\n",
    "\n",
    "sess.run(tf.global_variables_initializer())\n",
    "\n",
    "print(logits.eval({X: [[1, 2],\n",
    "                       [3, 4],\n",
    "                       [5, 6]]}))"
   ]
  },
  {
   "cell_type": "code",
   "execution_count": 7,
   "metadata": {},
   "outputs": [
    {
     "name": "stdout",
     "output_type": "stream",
     "text": [
      "[[ -2.44866776  -2.89501238  -2.77342701   4.11356735  -1.00265539\n",
      "   -4.12412214   2.21305132  -0.59664595   2.31566763  -0.36860311]\n",
      " [ -3.98609614  -6.73234367  -6.80894089  10.71028328  -1.66190505\n",
      "  -10.35792542   5.3970623   -1.93562818   4.83213472  -2.43302846]\n",
      " [ -5.52352428 -10.56967354 -10.84445381  17.30699921  -2.32115507\n",
      "  -16.59172821   8.58107376  -3.27461052   7.34860134  -4.49745321]]\n"
     ]
    }
   ],
   "source": [
    "X = tf.placeholder(tf.float32, [None, 2])\n",
    "\n",
    "init_w = tf.random_normal_initializer()\n",
    "init_b = tf.zeros_initializer()\n",
    "\n",
    "logits = tf.contrib.layers.fully_connected(X, 10, None, weights_initializer=init_w, biases_initializer=init_b)\n",
    "\n",
    "sess.run(tf.global_variables_initializer())\n",
    "\n",
    "print(logits.eval({X: [[1, 2],\n",
    "                       [3, 4],\n",
    "                       [5, 6]]}))"
   ]
  }
 ],
 "metadata": {
  "kernelspec": {
   "display_name": "Python 3",
   "language": "python",
   "name": "python3"
  },
  "language_info": {
   "codemirror_mode": {
    "name": "ipython",
    "version": 3
   },
   "file_extension": ".py",
   "mimetype": "text/x-python",
   "name": "python",
   "nbconvert_exporter": "python",
   "pygments_lexer": "ipython3",
   "version": "3.6.1"
  }
 },
 "nbformat": 4,
 "nbformat_minor": 2
}
