{
 "cells": [
  {
   "cell_type": "raw",
   "metadata": {},
   "source": [
    "tf.one_hot()\n",
    "tf.reshape()"
   ]
  },
  {
   "cell_type": "code",
   "execution_count": 1,
   "metadata": {
    "collapsed": true
   },
   "outputs": [],
   "source": [
    "import tensorflow as tf\n",
    "\n",
    "sess = tf.InteractiveSession()"
   ]
  },
  {
   "cell_type": "code",
   "execution_count": 2,
   "metadata": {},
   "outputs": [
    {
     "name": "stdout",
     "output_type": "stream",
     "text": [
      "[[ 1  2  3  4]\n",
      " [ 5  6  7  8]\n",
      " [ 9 10 11 12]\n",
      " [13 14 15 16]]\n",
      "(4, 4)\n"
     ]
    }
   ],
   "source": [
    "a = tf.constant([[1, 2, 3, 4],\n",
    "                 [5, 6, 7, 8],\n",
    "                 [9, 10, 11, 12],\n",
    "                 [13, 14, 15, 16]])\n",
    "print(a.eval())\n",
    "print(a.shape)"
   ]
  },
  {
   "cell_type": "code",
   "execution_count": 3,
   "metadata": {},
   "outputs": [
    {
     "name": "stdout",
     "output_type": "stream",
     "text": [
      "(4, 4)\n",
      "[[ 1  2  3  4  5  6  7  8]\n",
      " [ 9 10 11 12 13 14 15 16]]\n",
      "(2, 8)\n"
     ]
    }
   ],
   "source": [
    "a = tf.constant([[1, 2, 3, 4],\n",
    "                 [5, 6, 7, 8],\n",
    "                 [9, 10, 11, 12],\n",
    "                 [13, 14, 15, 16]])\n",
    "b = tf.reshape(a, [2, 8])\n",
    "\n",
    "print(a.shape)\n",
    "print(b.eval())\n",
    "print(b.shape)"
   ]
  },
  {
   "cell_type": "code",
   "execution_count": 4,
   "metadata": {},
   "outputs": [
    {
     "name": "stdout",
     "output_type": "stream",
     "text": [
      "(4, 4)\n",
      "[[[ 1  2]\n",
      "  [ 3  4]]\n",
      "\n",
      " [[ 5  6]\n",
      "  [ 7  8]]\n",
      "\n",
      " [[ 9 10]\n",
      "  [11 12]]\n",
      "\n",
      " [[13 14]\n",
      "  [15 16]]]\n",
      "(4, 2, 2)\n"
     ]
    }
   ],
   "source": [
    "a = tf.constant([[1, 2, 3, 4],\n",
    "                 [5, 6, 7, 8],\n",
    "                 [9, 10, 11, 12],\n",
    "                 [13, 14, 15, 16]])\n",
    "b = tf.reshape(a, [4, 2, 2])\n",
    "\n",
    "print(a.shape)\n",
    "print(b.eval())\n",
    "print(b.shape)"
   ]
  },
  {
   "cell_type": "code",
   "execution_count": 5,
   "metadata": {},
   "outputs": [
    {
     "name": "stdout",
     "output_type": "stream",
     "text": [
      "(4, 4)\n",
      "[[ 1  2]\n",
      " [ 3  4]\n",
      " [ 5  6]\n",
      " [ 7  8]\n",
      " [ 9 10]\n",
      " [11 12]\n",
      " [13 14]\n",
      " [15 16]]\n",
      "(8, 2)\n"
     ]
    }
   ],
   "source": [
    "a = tf.constant([[1, 2, 3, 4],\n",
    "                 [5, 6, 7, 8],\n",
    "                 [9, 10, 11, 12],\n",
    "                 [13, 14, 15, 16]])\n",
    "b = tf.reshape(a, [-1, 2])\n",
    "\n",
    "print(a.shape)\n",
    "print(b.eval())\n",
    "print(b.shape)"
   ]
  },
  {
   "cell_type": "code",
   "execution_count": 6,
   "metadata": {},
   "outputs": [
    {
     "name": "stdout",
     "output_type": "stream",
     "text": [
      "(2, 2, 4)\n",
      "[[ 1  2  3  4]\n",
      " [ 5  6  7  8]\n",
      " [ 9 10 11 12]\n",
      " [13 14 15 16]]\n",
      "(4, 4)\n"
     ]
    }
   ],
   "source": [
    "a = tf.constant([[[1, 2, 3, 4],\n",
    "                  [5, 6, 7, 8]],\n",
    "                 [[9, 10, 11, 12],\n",
    "                  [13, 14, 15, 16]]])\n",
    "\n",
    "b = tf.reshape(a, [-1, 4])\n",
    "\n",
    "print(a.shape)\n",
    "print(b.eval())\n",
    "print(b.shape)"
   ]
  },
  {
   "cell_type": "code",
   "execution_count": 7,
   "metadata": {},
   "outputs": [
    {
     "name": "stdout",
     "output_type": "stream",
     "text": [
      "(9, 1)\n"
     ]
    }
   ],
   "source": [
    "Y = tf.constant([[0],\n",
    "                 [0],\n",
    "                 [0],\n",
    "                 [1],\n",
    "                 [1],\n",
    "                 [1],\n",
    "                 [2],\n",
    "                 [2],\n",
    "                 [2]], tf.int32)\n",
    "print(Y.shape)"
   ]
  },
  {
   "cell_type": "code",
   "execution_count": 8,
   "metadata": {},
   "outputs": [
    {
     "name": "stdout",
     "output_type": "stream",
     "text": [
      "(9, 1)\n",
      "[[[ 1.  0.  0.]]\n",
      "\n",
      " [[ 1.  0.  0.]]\n",
      "\n",
      " [[ 1.  0.  0.]]\n",
      "\n",
      " [[ 0.  1.  0.]]\n",
      "\n",
      " [[ 0.  1.  0.]]\n",
      "\n",
      " [[ 0.  1.  0.]]\n",
      "\n",
      " [[ 0.  0.  1.]]\n",
      "\n",
      " [[ 0.  0.  1.]]\n",
      "\n",
      " [[ 0.  0.  1.]]]\n",
      "(9, 1, 3)\n"
     ]
    }
   ],
   "source": [
    "Y = tf.constant([[0],\n",
    "                 [0],\n",
    "                 [0],\n",
    "                 [1],\n",
    "                 [1],\n",
    "                 [1],\n",
    "                 [2],\n",
    "                 [2],\n",
    "                 [2]], tf.int32)\n",
    "Y_one_hot = tf.one_hot(Y, 3)\n",
    "\n",
    "print(Y.shape)\n",
    "print(Y_one_hot.eval())\n",
    "print(Y_one_hot.shape)"
   ]
  },
  {
   "cell_type": "code",
   "execution_count": 9,
   "metadata": {},
   "outputs": [
    {
     "name": "stdout",
     "output_type": "stream",
     "text": [
      "(9, 1)\n",
      "[[ 1.  0.  0.]\n",
      " [ 1.  0.  0.]\n",
      " [ 1.  0.  0.]\n",
      " [ 0.  1.  0.]\n",
      " [ 0.  1.  0.]\n",
      " [ 0.  1.  0.]\n",
      " [ 0.  0.  1.]\n",
      " [ 0.  0.  1.]\n",
      " [ 0.  0.  1.]]\n",
      "(9, 3)\n"
     ]
    }
   ],
   "source": [
    "Y = tf.constant([[0],\n",
    "                 [0],\n",
    "                 [0],\n",
    "                 [1],\n",
    "                 [1],\n",
    "                 [1],\n",
    "                 [2],\n",
    "                 [2],\n",
    "                 [2]], tf.int32)\n",
    "Y_one_hot = tf.reshape(tf.one_hot(Y, 3), [-1, 3])\n",
    "\n",
    "print(Y.shape)\n",
    "print(Y_one_hot.eval())\n",
    "print(Y_one_hot.shape)"
   ]
  },
  {
   "cell_type": "code",
   "execution_count": 10,
   "metadata": {},
   "outputs": [
    {
     "name": "stdout",
     "output_type": "stream",
     "text": [
      "[[ 1.   0.5  0.2]\n",
      " [ 0.5  1.   0.2]\n",
      " [ 0.2  0.5  1. ]]\n",
      "[0 1 2]\n",
      "1.0\n"
     ]
    }
   ],
   "source": [
    "logits = tf.constant([[1., .5, .2],\n",
    "                      [.5, 1., .2],\n",
    "                      [.2, .5, 1.]], tf.float32)\n",
    "Y = tf.constant([[0],\n",
    "                 [1],\n",
    "                 [2]], tf.int32)\n",
    "Y_one_hot = tf.reshape(tf.one_hot(Y, 3), [-1, 3])\n",
    "\n",
    "prediction = tf.argmax(logits, 1)\n",
    "accuracy = tf.reduce_mean(tf.cast(tf.equal(prediction, tf.argmax(Y_one_hot, 1)), tf.float32))\n",
    "\n",
    "print(logits.eval())\n",
    "print(prediction.eval())\n",
    "print(accuracy.eval())"
   ]
  }
 ],
 "metadata": {
  "kernelspec": {
   "display_name": "Python 3",
   "language": "python",
   "name": "python3"
  },
  "language_info": {
   "codemirror_mode": {
    "name": "ipython",
    "version": 3
   },
   "file_extension": ".py",
   "mimetype": "text/x-python",
   "name": "python",
   "nbconvert_exporter": "python",
   "pygments_lexer": "ipython3",
   "version": "3.6.1"
  }
 },
 "nbformat": 4,
 "nbformat_minor": 2
}
