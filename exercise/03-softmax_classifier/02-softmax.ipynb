{
 "cells": [
  {
   "cell_type": "raw",
   "metadata": {},
   "source": [
    "tf.nn.softmax()\n",
    "tf.nn.softmax_cross_entropy_with_logits()"
   ]
  },
  {
   "cell_type": "code",
   "execution_count": 1,
   "metadata": {
    "collapsed": true
   },
   "outputs": [],
   "source": [
    "import tensorflow as tf\n",
    "\n",
    "sess = tf.InteractiveSession()"
   ]
  },
  {
   "cell_type": "code",
   "execution_count": 2,
   "metadata": {},
   "outputs": [
    {
     "name": "stdout",
     "output_type": "stream",
     "text": [
      "[[ 0.57409698  0.34820744  0.07769559]\n",
      " [ 0.57409698  0.34820744  0.07769559]\n",
      " [ 0.78559703  0.17529039  0.03911258]\n",
      " [ 0.665241    0.24472848  0.09003057]\n",
      " [ 0.8437947   0.1141952   0.04201007]]\n"
     ]
    }
   ],
   "source": [
    "logits = tf.constant([[1, 0.5, -1],\n",
    "                      [1, 0.5, -1],\n",
    "                      [2, 0.5, -1],\n",
    "                      [-1, -2, -3],\n",
    "                      [4, 2, 1]], tf.float32)\n",
    "H = tf.exp(logits) / tf.reduce_sum(tf.exp(logits), 1, keep_dims=True)\n",
    "\n",
    "print(H.eval())"
   ]
  },
  {
   "cell_type": "code",
   "execution_count": 3,
   "metadata": {
    "scrolled": true
   },
   "outputs": [
    {
     "name": "stdout",
     "output_type": "stream",
     "text": [
      "[[ 0.57409698  0.34820741  0.07769558]\n",
      " [ 0.57409698  0.34820741  0.07769558]\n",
      " [ 0.78559703  0.17529039  0.03911257]\n",
      " [ 0.66524094  0.24472848  0.09003057]\n",
      " [ 0.8437947   0.11419519  0.04201007]]\n"
     ]
    }
   ],
   "source": [
    "logits = tf.constant([[1, 0.5, -1],\n",
    "                      [1, 0.5, -1],\n",
    "                      [2, 0.5, -1],\n",
    "                      [-1, -2, -3],\n",
    "                      [4, 2, 1]], tf.float32)\n",
    "H = tf.nn.softmax(logits)\n",
    "\n",
    "print(H.eval())"
   ]
  },
  {
   "cell_type": "code",
   "execution_count": 4,
   "metadata": {},
   "outputs": [
    {
     "name": "stdout",
     "output_type": "stream",
     "text": [
      "[[ 0.57409698  0.34820741  0.07769558]\n",
      " [ 0.57409698  0.34820741  0.07769558]\n",
      " [ 0.78559703  0.17529039  0.03911257]\n",
      " [ 0.66524094  0.24472848  0.09003057]\n",
      " [ 0.8437947   0.11419519  0.04201007]]\n",
      "1.18574\n"
     ]
    }
   ],
   "source": [
    "logits = tf.constant([[1, 0.5, -1],\n",
    "                      [1, 0.5, -1],\n",
    "                      [2, 0.5, -1],\n",
    "                      [-1, -2, -3],\n",
    "                      [4, 2, 1]], tf.float32)\n",
    "Y = tf.constant([[1, 0, 0],\n",
    "                 [1, 0, 0],\n",
    "                 [1, 0, 0],\n",
    "                 [0, 1, 0],\n",
    "                 [0, 0, 1]], tf.float32)\n",
    "H = tf.nn.softmax(logits)\n",
    "cost = -tf.reduce_mean(tf.reduce_sum(Y * tf.log(H), axis=1))\n",
    "\n",
    "print(H.eval())\n",
    "print(cost.eval())"
   ]
  },
  {
   "cell_type": "code",
   "execution_count": 5,
   "metadata": {},
   "outputs": [
    {
     "name": "stdout",
     "output_type": "stream",
     "text": [
      "1.18574\n"
     ]
    }
   ],
   "source": [
    "logits = tf.constant([[1, 0.5, -1],\n",
    "                      [1, 0.5, -1],\n",
    "                      [2, 0.5, -1],\n",
    "                      [-1, -2, -3],\n",
    "                      [4, 2, 1]], tf.float32)\n",
    "Y = tf.constant([[1, 0, 0],\n",
    "                 [1, 0, 0],\n",
    "                 [1, 0, 0],\n",
    "                 [0, 1, 0],\n",
    "                 [0, 0, 1]], tf.float32)\n",
    "cost = tf.reduce_mean(tf.nn.softmax_cross_entropy_with_logits(labels=Y, logits=logits))\n",
    "\n",
    "print(cost.eval())"
   ]
  },
  {
   "cell_type": "code",
   "execution_count": 6,
   "metadata": {},
   "outputs": [
    {
     "name": "stdout",
     "output_type": "stream",
     "text": [
      "[-0.55495691 -0.55495691 -0.24131131 -1.40760589 -3.16984606]\n",
      "[ 0.          0.55495691  0.24131133  1.40760589  3.16984606]\n"
     ]
    }
   ],
   "source": [
    "logits = tf.constant([[100, 0.5, -1],\n",
    "                      [1, 0.5, -1],\n",
    "                      [2, 0.5, -1],\n",
    "                      [-1, -2, -3],\n",
    "                      [4, 2, 1]], tf.float32)\n",
    "Y = tf.constant([[1, 0, 0],\n",
    "                 [1, 0, 0],\n",
    "                 [1, 0, 0],\n",
    "                 [0, 1, 0],\n",
    "                 [0, 0, 1]], tf.float32)\n",
    "c = tf.reduce_sum(Y * tf.log(H), axis=1)\n",
    "print(c.eval())\n",
    "\n",
    "c = tf.nn.softmax_cross_entropy_with_logits(labels=Y, logits=logits)\n",
    "print(c.eval())"
   ]
  },
  {
   "cell_type": "code",
   "execution_count": 7,
   "metadata": {},
   "outputs": [
    {
     "name": "stdout",
     "output_type": "stream",
     "text": [
      "[0 0 0 0 0]\n",
      "[0 0 0 0 0]\n"
     ]
    }
   ],
   "source": [
    "logits = tf.constant([[100, 0.5, -1],\n",
    "                      [1, 0.5, -1],\n",
    "                      [2, 0.5, -1],\n",
    "                      [-1, -2, -3],\n",
    "                      [4, 2, 1]], tf.float32)\n",
    "Y = tf.constant([[1, 0, 0],\n",
    "                 [1, 0, 0],\n",
    "                 [1, 0, 0],\n",
    "                 [0, 1, 0],\n",
    "                 [0, 0, 1]], tf.float32)\n",
    "H = tf.nn.softmax(logits)\n",
    "\n",
    "prediction = tf.argmax(H, 1)\n",
    "print(prediction.eval())\n",
    "\n",
    "prediction = tf.argmax(logits, 1)\n",
    "print(prediction.eval())"
   ]
  }
 ],
 "metadata": {
  "kernelspec": {
   "display_name": "Python 3",
   "language": "python",
   "name": "python3"
  },
  "language_info": {
   "codemirror_mode": {
    "name": "ipython",
    "version": 3
   },
   "file_extension": ".py",
   "mimetype": "text/x-python",
   "name": "python",
   "nbconvert_exporter": "python",
   "pygments_lexer": "ipython3",
   "version": "3.6.1"
  }
 },
 "nbformat": 4,
 "nbformat_minor": 2
}
