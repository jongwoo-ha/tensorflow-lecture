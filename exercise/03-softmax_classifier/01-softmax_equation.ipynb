{
 "cells": [
  {
   "cell_type": "raw",
   "metadata": {},
   "source": [
    "tf.get_variable()\n",
    "tf.random_normal_initializer()\n",
    "tf.zeros_initializer()\n",
    "tf.reduce_sum()\n",
    "tf.argmax()"
   ]
  },
  {
   "cell_type": "code",
   "execution_count": 1,
   "metadata": {
    "collapsed": true
   },
   "outputs": [],
   "source": [
    "import tensorflow as tf\n",
    "\n",
    "tf.set_random_seed(0)\n",
    "\n",
    "sess = tf.InteractiveSession()"
   ]
  },
  {
   "cell_type": "code",
   "execution_count": 2,
   "metadata": {},
   "outputs": [
    {
     "name": "stdout",
     "output_type": "stream",
     "text": [
      "[[-0.33211005  0.3556993   0.4483602 ]\n",
      " [ 0.68384182  0.85159254  0.80803454]\n",
      " [-0.02246642 -0.21761572  0.11428106]\n",
      " [ 0.91304648  0.24815297  0.20206892]]\n",
      "[ 0.10906506  0.71418476  0.11083865]\n"
     ]
    }
   ],
   "source": [
    "# https://www.tensorflow.org/programmers_guide/variables\n",
    "# https://www.tensorflow.org/api_docs/python/tf/get_variable\n",
    "# get_variable(\n",
    "#     name,\n",
    "#     shape=None,\n",
    "#     dtype=None,\n",
    "#     initializer=None,\n",
    "#     regularizer=None,\n",
    "#     trainable=True,\n",
    "#     collections=None,\n",
    "#     caching_device=None,\n",
    "#     partitioner=None,\n",
    "#     validate_shape=True,\n",
    "#     use_resource=None,\n",
    "#     custom_getter=None\n",
    "# )\n",
    "\n",
    "W = tf.get_variable('W', [4, 3])\n",
    "b = tf.get_variable('b', [3])\n",
    "\n",
    "sess.run(tf.global_variables_initializer())\n",
    "\n",
    "print(W.eval())\n",
    "print(b.eval())\n"
   ]
  },
  {
   "cell_type": "code",
   "execution_count": 3,
   "metadata": {},
   "outputs": [
    {
     "name": "stdout",
     "output_type": "stream",
     "text": [
      "[[ 1.37785816  0.23252471 -0.04414748]\n",
      " [-0.92046231  1.23291934 -0.05653581]\n",
      " [ 0.97631824 -0.66159475  0.37501836]\n",
      " [-0.8942281   0.06148557  0.30448037]]\n",
      "[ 0.  0.  0.]\n"
     ]
    }
   ],
   "source": [
    "W2 = tf.get_variable('W2', [4, 3], initializer=tf.random_normal_initializer())\n",
    "b2 = tf.get_variable('b2', [3], initializer=tf.zeros_initializer())\n",
    "\n",
    "sess.run(tf.global_variables_initializer())\n",
    "\n",
    "print(W2.eval())\n",
    "print(b2.eval())"
   ]
  },
  {
   "cell_type": "code",
   "execution_count": 4,
   "metadata": {
    "scrolled": true
   },
   "outputs": [
    {
     "name": "stdout",
     "output_type": "stream",
     "text": [
      "[[ 1.   0.5 -1. ]\n",
      " [ 1.   0.5 -1. ]\n",
      " [ 2.   0.5 -1. ]\n",
      " [-1.  -2.  -3. ]\n",
      " [ 4.   2.   1. ]]\n",
      "[[  2.71828175e+00   1.64872122e+00   3.67879450e-01]\n",
      " [  2.71828175e+00   1.64872122e+00   3.67879450e-01]\n",
      " [  7.38905621e+00   1.64872122e+00   3.67879450e-01]\n",
      " [  3.67879450e-01   1.35335281e-01   4.97870669e-02]\n",
      " [  5.45981483e+01   7.38905621e+00   2.71828175e+00]]\n"
     ]
    }
   ],
   "source": [
    "logits = tf.constant([[1, 0.5, -1],\n",
    "                      [1, 0.5, -1],\n",
    "                      [2, 0.5, -1],\n",
    "                      [-1, -2, -3],\n",
    "                      [4, 2, 1]], tf.float32)\n",
    "numerator = tf.exp(logits)\n",
    "\n",
    "print(logits.eval())\n",
    "print(numerator.eval())"
   ]
  },
  {
   "cell_type": "code",
   "execution_count": 5,
   "metadata": {},
   "outputs": [
    {
     "name": "stdout",
     "output_type": "stream",
     "text": [
      "[[  2.71828175e+00   1.64872122e+00   3.67879450e-01]\n",
      " [  2.71828175e+00   1.64872122e+00   3.67879450e-01]\n",
      " [  7.38905621e+00   1.64872122e+00   3.67879450e-01]\n",
      " [  3.67879450e-01   1.35335281e-01   4.97870669e-02]\n",
      " [  5.45981483e+01   7.38905621e+00   2.71828175e+00]]\n",
      "[[  4.73488235]\n",
      " [  4.73488235]\n",
      " [  9.40565681]\n",
      " [  0.55300176]\n",
      " [ 64.70549011]]\n"
     ]
    }
   ],
   "source": [
    "logits = tf.constant([[1, 0.5, -1],\n",
    "                      [1, 0.5, -1],\n",
    "                      [2, 0.5, -1],\n",
    "                      [-1, -2, -3],\n",
    "                      [4, 2, 1]], tf.float32)\n",
    "numerator = tf.exp(logits)\n",
    "denominator = tf.reduce_sum(tf.exp(logits), 1, keep_dims=True)\n",
    "\n",
    "print(numerator.eval())\n",
    "print(denominator.eval())"
   ]
  },
  {
   "cell_type": "code",
   "execution_count": 6,
   "metadata": {},
   "outputs": [
    {
     "name": "stdout",
     "output_type": "stream",
     "text": [
      "[[  2.71828175e+00   1.64872122e+00   3.67879450e-01]\n",
      " [  2.71828175e+00   1.64872122e+00   3.67879450e-01]\n",
      " [  7.38905621e+00   1.64872122e+00   3.67879450e-01]\n",
      " [  3.67879450e-01   1.35335281e-01   4.97870669e-02]\n",
      " [  5.45981483e+01   7.38905621e+00   2.71828175e+00]]\n",
      "[[  4.73488235]\n",
      " [  4.73488235]\n",
      " [  9.40565681]\n",
      " [  0.55300176]\n",
      " [ 64.70549011]]\n",
      "[[ 0.57409698  0.34820744  0.07769559]\n",
      " [ 0.57409698  0.34820744  0.07769559]\n",
      " [ 0.78559703  0.17529039  0.03911258]\n",
      " [ 0.665241    0.24472848  0.09003057]\n",
      " [ 0.8437947   0.1141952   0.04201007]]\n"
     ]
    }
   ],
   "source": [
    "logits = tf.constant([[1, 0.5, -1],\n",
    "                      [1, 0.5, -1],\n",
    "                      [2, 0.5, -1],\n",
    "                      [-1, -2, -3],\n",
    "                      [4, 2, 1]], tf.float32)\n",
    "numerator = tf.exp(logits)\n",
    "denominator = tf.reduce_sum(tf.exp(logits), 1, keep_dims=True)\n",
    "H = numerator / denominator\n",
    "\n",
    "print(numerator.eval())\n",
    "print(denominator.eval())\n",
    "print(H.eval())"
   ]
  },
  {
   "cell_type": "code",
   "execution_count": 7,
   "metadata": {},
   "outputs": [
    {
     "name": "stdout",
     "output_type": "stream",
     "text": [
      "[[ 0.57409698  0.34820744  0.07769559]\n",
      " [ 0.57409698  0.34820744  0.07769559]\n",
      " [ 0.78559703  0.17529039  0.03911258]\n",
      " [ 0.665241    0.24472848  0.09003057]\n",
      " [ 0.8437947   0.1141952   0.04201007]]\n",
      "[[ 1.]\n",
      " [ 1.]\n",
      " [ 1.]\n",
      " [ 1.]\n",
      " [ 1.]]\n"
     ]
    }
   ],
   "source": [
    "logits = tf.constant([[1, 0.5, -1],\n",
    "                      [1, 0.5, -1],\n",
    "                      [2, 0.5, -1],\n",
    "                      [-1, -2, -3],\n",
    "                      [4, 2, 1]], tf.float32)\n",
    "H = tf.exp(logits) / tf.reduce_sum(tf.exp(logits), 1, keep_dims=True)\n",
    "\n",
    "print(H.eval())\n",
    "print(tf.reduce_sum(H, 1, keep_dims=True).eval())"
   ]
  },
  {
   "cell_type": "code",
   "execution_count": 8,
   "metadata": {},
   "outputs": [
    {
     "name": "stdout",
     "output_type": "stream",
     "text": [
      "[[ 0.57409698  0.34820744  0.07769559]\n",
      " [ 0.57409698  0.34820744  0.07769559]\n",
      " [ 0.78559703  0.17529039  0.03911258]\n",
      " [ 0.665241    0.24472848  0.09003057]\n",
      " [ 0.8437947   0.1141952   0.04201007]]\n",
      "[0 0 0 0 0]\n"
     ]
    }
   ],
   "source": [
    "# https://www.tensorflow.org/api_docs/python/tf/argmax\n",
    "# tf.argmax(\n",
    "#     input,\n",
    "#     axis=None,\n",
    "#     name=None,\n",
    "#     dimension=None,\n",
    "#     output_type=tf.int64\n",
    "# )\n",
    "\n",
    "logits = tf.constant([[1, 0.5, -1],\n",
    "                      [1, 0.5, -1],\n",
    "                      [2, 0.5, -1],\n",
    "                      [-1, -2, -3],\n",
    "                      [4, 2, 1]], tf.float32)\n",
    "H = tf.exp(logits) / tf.reduce_sum(tf.exp(logits), 1, keep_dims=True)\n",
    "prediction = tf.argmax(H, 1)\n",
    "\n",
    "print(H.eval())\n",
    "print(prediction.eval())"
   ]
  },
  {
   "cell_type": "code",
   "execution_count": 9,
   "metadata": {},
   "outputs": [
    {
     "name": "stdout",
     "output_type": "stream",
     "text": [
      "[[ 0.57409698  0.34820744  0.07769559]\n",
      " [ 0.57409698  0.34820744  0.07769559]\n",
      " [ 0.78559703  0.17529039  0.03911258]\n",
      " [ 0.665241    0.24472848  0.09003057]\n",
      " [ 0.8437947   0.1141952   0.04201007]]\n",
      "[0 0 0 0 0]\n",
      "[0 0 0 1 2]\n",
      "0.6\n"
     ]
    }
   ],
   "source": [
    "logits = tf.constant([[1, 0.5, -1],\n",
    "                      [1, 0.5, -1],\n",
    "                      [2, 0.5, -1],\n",
    "                      [-1, -2, -3],\n",
    "                      [4, 2, 1]], tf.float32)\n",
    "Y = tf.constant([[1, 0, 0],\n",
    "                 [1, 0, 0],\n",
    "                 [1, 0, 0],\n",
    "                 [0, 1, 0],\n",
    "                 [0, 0, 1]], tf.float32)\n",
    "H = tf.exp(logits) / tf.reduce_sum(tf.exp(logits), 1, keep_dims=True)\n",
    "prediction = tf.argmax(H, 1)\n",
    "accuracy = tf.reduce_mean(tf.cast(tf.equal(prediction, tf.argmax(Y, 1)), tf.float32))\n",
    "\n",
    "print(H.eval())\n",
    "print(prediction.eval())\n",
    "print(tf.argmax(Y, 1).eval())\n",
    "print(accuracy.eval())"
   ]
  },
  {
   "cell_type": "code",
   "execution_count": 10,
   "metadata": {},
   "outputs": [
    {
     "name": "stdout",
     "output_type": "stream",
     "text": [
      "[[ 1.  0.  0.]\n",
      " [ 1.  0.  0.]\n",
      " [ 1.  0.  0.]\n",
      " [ 0.  1.  0.]\n",
      " [ 0.  0.  1.]]\n",
      "[[ 0.55495691  1.05495691  2.55495691]\n",
      " [ 0.55495691  1.05495691  2.55495691]\n",
      " [ 0.24131131  1.74131131  3.24131131]\n",
      " [ 0.40760589  1.40760589  2.40760589]\n",
      " [ 0.16984606  2.16984606  3.16984606]]\n"
     ]
    }
   ],
   "source": [
    "logits = tf.constant([[1, 0.5, -1],\n",
    "                      [1, 0.5, -1],\n",
    "                      [2, 0.5, -1],\n",
    "                      [-1, -2, -3],\n",
    "                      [4, 2, 1]], tf.float32)\n",
    "Y = tf.constant([[1, 0, 0],\n",
    "                 [1, 0, 0],\n",
    "                 [1, 0, 0],\n",
    "                 [0, 1, 0],\n",
    "                 [0, 0, 1]], tf.float32)\n",
    "H = tf.exp(logits) / tf.reduce_sum(tf.exp(logits), 1, keep_dims=True)\n",
    "\n",
    "print(Y.eval())\n",
    "print((-tf.log(H)).eval())"
   ]
  },
  {
   "cell_type": "code",
   "execution_count": 11,
   "metadata": {},
   "outputs": [
    {
     "name": "stdout",
     "output_type": "stream",
     "text": [
      "[[ 0.55495691  0.          0.        ]\n",
      " [ 0.55495691  0.          0.        ]\n",
      " [ 0.24131131  0.          0.        ]\n",
      " [ 0.          1.40760589  0.        ]\n",
      " [ 0.          0.          3.16984606]]\n"
     ]
    }
   ],
   "source": [
    "logits = tf.constant([[1, 0.5, -1],\n",
    "                      [1, 0.5, -1],\n",
    "                      [2, 0.5, -1],\n",
    "                      [-1, -2, -3],\n",
    "                      [4, 2, 1]], tf.float32)\n",
    "Y = tf.constant([[1, 0, 0],\n",
    "                 [1, 0, 0],\n",
    "                 [1, 0, 0],\n",
    "                 [0, 1, 0],\n",
    "                 [0, 0, 1]], tf.float32)\n",
    "H = tf.exp(logits) / tf.reduce_sum(tf.exp(logits), 1, keep_dims=True)\n",
    "c = - Y * tf.log(H)\n",
    "\n",
    "print(c.eval())"
   ]
  },
  {
   "cell_type": "code",
   "execution_count": 12,
   "metadata": {},
   "outputs": [
    {
     "name": "stdout",
     "output_type": "stream",
     "text": [
      "[ 0.55495691  0.55495691  0.24131131  1.40760589  3.16984606]\n"
     ]
    }
   ],
   "source": [
    "logits = tf.constant([[1, 0.5, -1],\n",
    "                      [1, 0.5, -1],\n",
    "                      [2, 0.5, -1],\n",
    "                      [-1, -2, -3],\n",
    "                      [4, 2, 1]], tf.float32)\n",
    "Y = tf.constant([[1, 0, 0],\n",
    "                 [1, 0, 0],\n",
    "                 [1, 0, 0],\n",
    "                 [0, 1, 0],\n",
    "                 [0, 0, 1]], tf.float32)\n",
    "H = tf.exp(logits) / tf.reduce_sum(tf.exp(logits), 1, keep_dims=True)\n",
    "c = tf.reduce_sum(- Y * tf.log(H), 1)\n",
    "\n",
    "print(c.eval())"
   ]
  },
  {
   "cell_type": "code",
   "execution_count": 13,
   "metadata": {},
   "outputs": [
    {
     "name": "stdout",
     "output_type": "stream",
     "text": [
      "1.18574\n"
     ]
    }
   ],
   "source": [
    "logits = tf.constant([[1, 0.5, -1],\n",
    "                      [1, 0.5, -1],\n",
    "                      [2, 0.5, -1],\n",
    "                      [-1, -2, -3],\n",
    "                      [4, 2, 1]], tf.float32)\n",
    "Y = tf.constant([[1, 0, 0],\n",
    "                 [1, 0, 0],\n",
    "                 [1, 0, 0],\n",
    "                 [0, 1, 0],\n",
    "                 [0, 0, 1]], tf.float32)\n",
    "H = tf.exp(logits) / tf.reduce_sum(tf.exp(logits), 1, keep_dims=True)\n",
    "cost = -tf.reduce_mean(tf.reduce_sum(Y * tf.log(H), axis=1))\n",
    "\n",
    "print(cost.eval())"
   ]
  },
  {
   "cell_type": "code",
   "execution_count": 14,
   "metadata": {},
   "outputs": [
    {
     "name": "stdout",
     "output_type": "stream",
     "text": [
      "0.374017\n"
     ]
    }
   ],
   "source": [
    "logits = tf.constant([[1, 0.5, -1],\n",
    "                      [1, 0.5, -1],\n",
    "                      [2, 0.5, -1],\n",
    "                      [-1, 0, -3],\n",
    "                      [1, 2, 4]], tf.float32)\n",
    "Y = tf.constant([[1, 0, 0],\n",
    "                 [1, 0, 0],\n",
    "                 [1, 0, 0],\n",
    "                 [0, 1, 0],\n",
    "                 [0, 0, 1]], tf.float32)\n",
    "H = tf.exp(logits) / tf.reduce_sum(tf.exp(logits), 1, keep_dims=True)\n",
    "cost = -tf.reduce_mean(tf.reduce_sum(Y * tf.log(H), axis=1))\n",
    "\n",
    "print(cost.eval())"
   ]
  }
 ],
 "metadata": {
  "kernelspec": {
   "display_name": "Python 3",
   "language": "python",
   "name": "python3"
  },
  "language_info": {
   "codemirror_mode": {
    "name": "ipython",
    "version": 3
   },
   "file_extension": ".py",
   "mimetype": "text/x-python",
   "name": "python",
   "nbconvert_exporter": "python",
   "pygments_lexer": "ipython3",
   "version": "3.6.1"
  }
 },
 "nbformat": 4,
 "nbformat_minor": 2
}
