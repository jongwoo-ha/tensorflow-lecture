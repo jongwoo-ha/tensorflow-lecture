{
 "cells": [
  {
   "cell_type": "code",
   "execution_count": null,
   "metadata": {
    "collapsed": true
   },
   "outputs": [],
   "source": [
    "import tensorflow as tf\n",
    "import numpy as np"
   ]
  },
  {
   "cell_type": "code",
   "execution_count": null,
   "metadata": {},
   "outputs": [],
   "source": [
    "tf.reset_default_graph()\n",
    "sess = tf.InteractiveSession()\n",
    "\n",
    "x = tf.placeholder(tf.float32)\n",
    "y = tf.placeholder(tf.float32)\n",
    "\n",
    "w = tf.Variable(-1., tf.float32)\n",
    "b = tf.Variable(-1., tf.float32)\n",
    "\n",
    "h = w * x + b\n",
    "\n",
    "cost = 1/2*tf.reduce_mean(tf.square(h - y))\n",
    "\n",
    "optimizer = tf.train.GradientDescentOptimizer(0.1)\n",
    "\n",
    "gradients = optimizer.compute_gradients(cost)\n",
    "train = optimizer.apply_gradients(gradients)\n",
    "\n",
    "sess.run(tf.global_variables_initializer())\n",
    "\n",
    "print(sess.run(gradients, {x: 0, y: 1}))"
   ]
  },
  {
   "cell_type": "code",
   "execution_count": null,
   "metadata": {},
   "outputs": [],
   "source": [
    "tf.reset_default_graph()\n",
    "sess = tf.InteractiveSession()\n",
    "\n",
    "x = tf.placeholder(tf.float32)\n",
    "y = tf.placeholder(tf.float32)\n",
    "\n",
    "w = tf.Variable(-1., tf.float32)\n",
    "b = tf.Variable(-1., tf.float32)\n",
    "\n",
    "h = w * x + b\n",
    "\n",
    "cost = 1/2*tf.reduce_mean(tf.square(h - y))\n",
    "\n",
    "optimizer = tf.train.GradientDescentOptimizer(0.1)\n",
    "\n",
    "gradients = optimizer.compute_gradients(cost)\n",
    "train = optimizer.apply_gradients(gradients)\n",
    "\n",
    "sess.run(tf.global_variables_initializer())\n",
    "\n",
    "print(sess.run(gradients, {x: [0,1,2,3,4,5], y: [1,2,3,4,5,6]}))\n",
    "\n",
    "print(np.mean([0,-4,-12,-24,-40,-60]), np.mean([-2,-4,-6,-8,-10,-12]))"
   ]
  }
 ],
 "metadata": {
  "kernelspec": {
   "display_name": "Python 3",
   "language": "python",
   "name": "python3"
  },
  "language_info": {
   "codemirror_mode": {
    "name": "ipython",
    "version": 3
   },
   "file_extension": ".py",
   "mimetype": "text/x-python",
   "name": "python",
   "nbconvert_exporter": "python",
   "pygments_lexer": "ipython3",
   "version": "3.6.1"
  }
 },
 "nbformat": 4,
 "nbformat_minor": 2
}
