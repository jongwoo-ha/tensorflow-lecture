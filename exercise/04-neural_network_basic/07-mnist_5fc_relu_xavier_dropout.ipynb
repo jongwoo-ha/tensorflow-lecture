{
 "cells": [
  {
   "cell_type": "code",
   "execution_count": 1,
   "metadata": {},
   "outputs": [],
   "source": [
    "import tensorflow as tf\n",
    "import numpy as np\n",
    "\n",
    "sess = tf.InteractiveSession()\n",
    "np.set_printoptions(precision=2)\n",
    "np.set_printoptions(suppress=True)"
   ]
  },
  {
   "cell_type": "code",
   "execution_count": 2,
   "metadata": {},
   "outputs": [
    {
     "name": "stdout",
     "output_type": "stream",
     "text": [
      "[[  1.   2.   3.   4.   5.   6.   7.   8.   9.  10.]\n",
      " [  1.   2.   3.   4.   5.   6.   7.   8.   9.  10.]]\n"
     ]
    }
   ],
   "source": [
    "logits = tf.constant([[1, 2, 3, 4, 5, 6, 7, 8, 9, 10],\n",
    "                      [1, 2, 3, 4, 5, 6, 7, 8, 9, 10]], tf.float32)\n",
    "relu = tf.nn.relu(logits)\n",
    "\n",
    "print(relu.eval())"
   ]
  },
  {
   "cell_type": "code",
   "execution_count": 3,
   "metadata": {},
   "outputs": [
    {
     "name": "stdout",
     "output_type": "stream",
     "text": [
      "[[  2.   4.   6.   0.   0.   0.  14.   0.   0.   0.]\n",
      " [  2.   0.   6.   8.  10.  12.  14.   0.   0.   0.]\n",
      " [  0.   0.   0.   8.   0.  12.   0.  16.   0.   0.]]\n",
      "[[ 26.]\n",
      " [ 52.]\n",
      " [ 36.]]\n",
      "[[4]\n",
      " [6]\n",
      " [3]]\n"
     ]
    }
   ],
   "source": [
    "a = tf.constant([[1, 2, 3, 4, 5, 6, 7, 8, 9, 10],\n",
    "                 [1, 2, 3, 4, 5, 6, 7, 8, 9, 10],\n",
    "                 [1, 2, 3, 4, 5, 6, 7, 8, 9, 10]], tf.float32)\n",
    "dropout = tf.nn.dropout(a, keep_prob=0.5)\n",
    "\n",
    "d = dropout.eval()\n",
    "print(d)\n",
    "print(tf.reduce_sum(d, 1, keep_dims=True).eval())\n",
    "print(tf.count_nonzero(d, 1, keep_dims=True).eval())"
   ]
  },
  {
   "cell_type": "code",
   "execution_count": 4,
   "metadata": {},
   "outputs": [
    {
     "name": "stdout",
     "output_type": "stream",
     "text": [
      "[[  1.43   2.86   4.29   5.71   7.14   8.57   0.     0.    12.86  14.29]\n",
      " [  1.43   2.86   4.29   0.     7.14   8.57  10.     0.    12.86  14.29]\n",
      " [  1.43   2.86   4.29   0.     7.14   8.57   0.     0.     0.    14.29]]\n",
      "[[ 57.14]\n",
      " [ 61.43]\n",
      " [ 38.57]]\n",
      "[[8]\n",
      " [8]\n",
      " [6]]\n"
     ]
    }
   ],
   "source": [
    "a = tf.constant([[1, 2, 3, 4, 5, 6, 7, 8, 9, 10],\n",
    "                 [1, 2, 3, 4, 5, 6, 7, 8, 9, 10],\n",
    "                 [1, 2, 3, 4, 5, 6, 7, 8, 9, 10]], tf.float32)\n",
    "dropout = tf.nn.dropout(a, keep_prob=0.7)\n",
    "\n",
    "d = dropout.eval()\n",
    "print(d)\n",
    "print(tf.reduce_sum(d, 1, keep_dims=True).eval())\n",
    "print(tf.count_nonzero(d, 1, keep_dims=True).eval())"
   ]
  },
  {
   "cell_type": "code",
   "execution_count": 5,
   "metadata": {},
   "outputs": [
    {
     "name": "stdout",
     "output_type": "stream",
     "text": [
      "[[  1.   2.   3.   4.   5.   6.   7.   8.   9.  10.]\n",
      " [  1.   2.   3.   4.   5.   6.   7.   8.   9.  10.]\n",
      " [  1.   2.   3.   4.   5.   6.   7.   8.   9.  10.]]\n",
      "[[ 55.]\n",
      " [ 55.]\n",
      " [ 55.]]\n",
      "[[10]\n",
      " [10]\n",
      " [10]]\n"
     ]
    }
   ],
   "source": [
    "keep_prob = tf.placeholder_with_default(1., [])\n",
    "\n",
    "a = tf.constant([[1, 2, 3, 4, 5, 6, 7, 8, 9, 10],\n",
    "                 [1, 2, 3, 4, 5, 6, 7, 8, 9, 10],\n",
    "                 [1, 2, 3, 4, 5, 6, 7, 8, 9, 10]], tf.float32)\n",
    "dropout = tf.nn.dropout(a, keep_prob=keep_prob)\n",
    "\n",
    "d = dropout.eval()\n",
    "print(d)\n",
    "print(tf.reduce_sum(d, 1, keep_dims=True).eval())\n",
    "print(tf.count_nonzero(d, 1, keep_dims=True).eval())\n",
    "\n",
    "# d = dropout.eval({keep_prob: 0.5})\n",
    "# print(d)\n",
    "# print(tf.reduce_sum(d, 1, keep_dims=True).eval())\n",
    "# print(tf.count_nonzero(d, 1, keep_dims=True).eval())"
   ]
  },
  {
   "cell_type": "code",
   "execution_count": 6,
   "metadata": {},
   "outputs": [
    {
     "name": "stdout",
     "output_type": "stream",
     "text": [
      "[[10]\n",
      " [10]\n",
      " [10]\n",
      " [10]]\n"
     ]
    }
   ],
   "source": [
    "keep_prob = tf.placeholder_with_default(1., [])\n",
    "\n",
    "WX_b = tf.constant([[1, 2, 3, 4, 5, 6, 7, 8, 9, 10]], tf.float32)\n",
    "\n",
    "L1 = tf.nn.dropout(tf.nn.relu(WX_b), keep_prob=keep_prob)\n",
    "L2 = tf.nn.dropout(tf.nn.relu(L1), keep_prob=keep_prob)\n",
    "L3 = tf.nn.dropout(tf.nn.relu(L2), keep_prob=keep_prob)\n",
    "L4 = tf.nn.dropout(tf.nn.relu(L3), keep_prob=keep_prob)\n",
    "\n",
    "# logits = tf.matmul(L4, W5) + b\n",
    "\n",
    "l1, l2, l3, l4 = sess.run([L1, L2, L3, L4])\n",
    "print(tf.count_nonzero(tf.concat([l1, l2, l3, l4], 0), 1, keep_dims=True).eval())\n",
    "\n",
    "# l1, l2, l3, l4 = sess.run([L1, L2, L3, L4], {keep_prob: 0.75})\n",
    "# print(tf.count_nonzero(tf.concat([l1, l2, l3, l4], 0), 1, keep_dims=True).eval())"
   ]
  }
 ],
 "metadata": {
  "kernelspec": {
   "display_name": "Python 3",
   "language": "python",
   "name": "python3"
  },
  "language_info": {
   "codemirror_mode": {
    "name": "ipython",
    "version": 3
   },
   "file_extension": ".py",
   "mimetype": "text/x-python",
   "name": "python",
   "nbconvert_exporter": "python",
   "pygments_lexer": "ipython3",
   "version": "3.6.1"
  }
 },
 "nbformat": 4,
 "nbformat_minor": 2
}
