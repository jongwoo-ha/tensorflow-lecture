{
 "cells": [
  {
   "cell_type": "code",
   "execution_count": 16,
   "metadata": {
    "collapsed": true
   },
   "outputs": [],
   "source": [
    "import tensorflow as tf\n",
    "\n",
    "sess = tf.InteractiveSession()"
   ]
  },
  {
   "cell_type": "code",
   "execution_count": 19,
   "metadata": {},
   "outputs": [
    {
     "name": "stdout",
     "output_type": "stream",
     "text": [
      "[[ 6.58125114  1.16554344  0.62270987  1.34631777]\n",
      " [ 6.21568108  1.58675623  1.03451169  1.86620748]\n",
      " [ 5.7463069   1.60120392  1.13967681  2.1818583 ]]\n"
     ]
    }
   ],
   "source": [
    "X = tf.placeholder(tf.float32, [None, 2])\n",
    "\n",
    "W1 = tf.Variable(tf.random_normal([2, 16]))\n",
    "W2 = tf.Variable(tf.random_normal([16, 16]))\n",
    "W3 = tf.Variable(tf.random_normal([16, 4]))\n",
    "\n",
    "b1 = tf.Variable(tf.random_normal([16]))\n",
    "b2 = tf.Variable(tf.random_normal([16]))\n",
    "b3 = tf.Variable(tf.random_normal([4]))\n",
    "\n",
    "L1 = tf.nn.sigmoid(tf.matmul(X, W1) + b1)\n",
    "L2 = tf.nn.sigmoid(tf.matmul(L1, W2) + b2)\n",
    "\n",
    "logits = tf.matmul(L2, W3) + b3\n",
    "\n",
    "sess.run(tf.global_variables_initializer())\n",
    "\n",
    "print(logits.eval({X: [[1, 2],\n",
    "                       [3, 4],\n",
    "                       [5, 6]]}))"
   ]
  }
 ],
 "metadata": {
  "kernelspec": {
   "display_name": "Python 3",
   "language": "python",
   "name": "python3"
  },
  "language_info": {
   "codemirror_mode": {
    "name": "ipython",
    "version": 3
   },
   "file_extension": ".py",
   "mimetype": "text/x-python",
   "name": "python",
   "nbconvert_exporter": "python",
   "pygments_lexer": "ipython3",
   "version": "3.6.1"
  }
 },
 "nbformat": 4,
 "nbformat_minor": 2
}
