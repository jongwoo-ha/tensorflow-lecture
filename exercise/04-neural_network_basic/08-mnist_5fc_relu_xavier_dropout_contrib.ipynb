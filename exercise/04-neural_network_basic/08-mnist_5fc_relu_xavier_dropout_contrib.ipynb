{
 "cells": [
  {
   "cell_type": "raw",
   "metadata": {},
   "source": [
    "tf.contrib.layers.fully_connected()\n",
    "tf.contrib.layers.dropout()"
   ]
  },
  {
   "cell_type": "code",
   "execution_count": 1,
   "metadata": {
    "collapsed": true
   },
   "outputs": [],
   "source": [
    "import tensorflow as tf\n",
    "import numpy as np\n",
    "from tensorflow.contrib.layers import fully_connected, dropout\n",
    "\n",
    "tf.set_random_seed(0)\n",
    "sess = tf.InteractiveSession()\n",
    "\n",
    "np.set_printoptions(precision=3)\n",
    "np.set_printoptions(suppress=True)"
   ]
  },
  {
   "cell_type": "code",
   "execution_count": 2,
   "metadata": {
    "collapsed": true
   },
   "outputs": [],
   "source": [
    "# https://www.tensorflow.org/api_docs/python/tf/contrib/layers/fully_connected\n",
    "# tf.contrib.layers.fully_connected(\n",
    "#     inputs,\n",
    "#     num_outputs,\n",
    "#     activation_fn=tf.nn.relu,\n",
    "#     normalizer_fn=None,\n",
    "#     normalizer_params=None,\n",
    "#     weights_initializer=initializers.xavier_initializer(),\n",
    "#     weights_regularizer=None,\n",
    "#     biases_initializer=tf.zeros_initializer(),\n",
    "#     biases_regularizer=None,\n",
    "#     reuse=None,\n",
    "#     variables_collections=None,\n",
    "#     outputs_collections=None,\n",
    "#     trainable=True,\n",
    "#     scope=None\n",
    "# )\n",
    "\n",
    "X = tf.placeholder(tf.float32, [None, 784])\n",
    "\n",
    "L1 = fully_connected(X, 512)\n",
    "L2 = fully_connected(L1, 512)\n",
    "L3 = fully_connected(L2, 512)\n",
    "L4 = fully_connected(L3, 512)\n",
    "\n",
    "logits = fully_connected(L4, 10, None)"
   ]
  },
  {
   "cell_type": "code",
   "execution_count": 3,
   "metadata": {
    "collapsed": true
   },
   "outputs": [],
   "source": [
    "# https://www.tensorflow.org/api_docs/python/tf/contrib/layers/dropout\n",
    "# tf.contrib.layers.dropout(\n",
    "#     inputs,\n",
    "#     keep_prob=0.5,\n",
    "#     noise_shape=None,\n",
    "#     is_training=True,\n",
    "#     outputs_collections=None,\n",
    "#     scope=None\n",
    "# )\n",
    "\n",
    "keep = 0.75\n",
    "\n",
    "X = tf.placeholder(tf.float32, [None, 784])\n",
    "\n",
    "is_training = tf.placeholder_with_default(False, [])\n",
    "\n",
    "L1 = dropout(fully_connected(X, 512), keep, is_training=is_training)\n",
    "L2 = dropout(fully_connected(L1, 512), keep, is_training=is_training)\n",
    "L3 = dropout(fully_connected(L2, 512), keep, is_training=is_training)\n",
    "L4 = dropout(fully_connected(L3, 512), keep, is_training=is_training)\n",
    "\n",
    "logits = fully_connected(L4, 10, None)"
   ]
  },
  {
   "cell_type": "code",
   "execution_count": 4,
   "metadata": {},
   "outputs": [
    {
     "name": "stdout",
     "output_type": "stream",
     "text": [
      "[-0.279 -0.279 -0.279 -0.279 -0.279 -0.279 -0.279 -0.279 -0.279 -0.279]\n",
      "[ 0.13  -1.604 -1.742  0.187  0.541 -1.785 -0.113 -1.55  -0.975  0.088]\n"
     ]
    }
   ],
   "source": [
    "x_data = np.ones([10, 784])\n",
    "\n",
    "keep = 0.75\n",
    "\n",
    "X = tf.placeholder(tf.float32, [None, 784])\n",
    "is_training = tf.placeholder_with_default(False, [])\n",
    "\n",
    "L1 = dropout(fully_connected(X, 512, None), keep, is_training=is_training)\n",
    "L2 = dropout(fully_connected(L1, 512, None), keep, is_training=is_training)\n",
    "L3 = dropout(fully_connected(L2, 512, None), keep, is_training=is_training)\n",
    "L4 = dropout(fully_connected(L3, 512, None), keep, is_training=is_training)\n",
    "\n",
    "logits = fully_connected(L4, 10, None)\n",
    "\n",
    "sess.run(tf.global_variables_initializer())\n",
    "\n",
    "print(tf.reduce_mean(logits, 1).eval({X: x_data}))\n",
    "print(tf.reduce_mean(logits, 1).eval({X: x_data, is_training: True}))"
   ]
  }
 ],
 "metadata": {
  "kernelspec": {
   "display_name": "Python 3",
   "language": "python",
   "name": "python3"
  },
  "language_info": {
   "codemirror_mode": {
    "name": "ipython",
    "version": 3
   },
   "file_extension": ".py",
   "mimetype": "text/x-python",
   "name": "python",
   "nbconvert_exporter": "python",
   "pygments_lexer": "ipython3",
   "version": "3.6.1"
  }
 },
 "nbformat": 4,
 "nbformat_minor": 2
}
