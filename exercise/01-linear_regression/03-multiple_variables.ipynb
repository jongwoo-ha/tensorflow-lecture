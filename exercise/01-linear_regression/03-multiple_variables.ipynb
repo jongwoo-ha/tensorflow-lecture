{
 "cells": [
  {
   "cell_type": "code",
   "execution_count": 1,
   "metadata": {
    "collapsed": true
   },
   "outputs": [],
   "source": [
    "import tensorflow as tf\n",
    "\n",
    "x_data = [73, 93, 89, 96, 73]\n",
    "\n",
    "x = tf.placeholder(tf.float32)\n",
    "\n",
    "w = tf.Variable(2., tf.float32)\n",
    "b = tf.Variable(0., tf.float32)\n",
    "\n",
    "h = x * w + b"
   ]
  },
  {
   "cell_type": "code",
   "execution_count": 2,
   "metadata": {},
   "outputs": [
    {
     "name": "stdout",
     "output_type": "stream",
     "text": [
      "[ 146.  186.  178.  192.  146.]\n"
     ]
    }
   ],
   "source": [
    "sess = tf.Session()\n",
    "sess.run(tf.global_variables_initializer())\n",
    "\n",
    "print(sess.run(h, {x: x_data}))"
   ]
  },
  {
   "cell_type": "code",
   "execution_count": 3,
   "metadata": {
    "collapsed": true
   },
   "outputs": [],
   "source": [
    "x1_data = [73, 93, 89, 96, 73]\n",
    "x2_data = [80, 88, 91, 98, 66]\n",
    "x3_data = [75, 93, 90, 100, 70]\n",
    "\n",
    "x1 = tf.placeholder(tf.float32)\n",
    "x2 = tf.placeholder(tf.float32)\n",
    "x3 = tf.placeholder(tf.float32)\n",
    "\n",
    "w1 = tf.Variable(.6, tf.float32)\n",
    "w2 = tf.Variable(.6, tf.float32)\n",
    "w3 = tf.Variable(.6, tf.float32)\n",
    "b = tf.Variable(0., tf.float32)\n",
    "\n",
    "h = x1*w1 + x2*w2 + x3*w3 + b"
   ]
  },
  {
   "cell_type": "code",
   "execution_count": 4,
   "metadata": {},
   "outputs": [
    {
     "name": "stdout",
     "output_type": "stream",
     "text": [
      "[ 136.80000305  164.40000916  162.          176.40000916  125.40000916]\n"
     ]
    }
   ],
   "source": [
    "sess.run(tf.global_variables_initializer())\n",
    "\n",
    "print(sess.run(h, {x1: x1_data, x2: x2_data, x3: x3_data}))"
   ]
  },
  {
   "cell_type": "code",
   "execution_count": 5,
   "metadata": {
    "collapsed": true
   },
   "outputs": [],
   "source": [
    "x1 = tf.placeholder(tf.float32)\n",
    "x2 = tf.placeholder(tf.float32)\n",
    "x3 = tf.placeholder(tf.float32)\n",
    "x4 = tf.placeholder(tf.float32)\n",
    "x5 = tf.placeholder(tf.float32)\n",
    "x6 = tf.placeholder(tf.float32)\n",
    "x7 = tf.placeholder(tf.float32)\n",
    "x8 = tf.placeholder(tf.float32)\n",
    "x9 = tf.placeholder(tf.float32)\n",
    "x10 = tf.placeholder(tf.float32)\n",
    "\n",
    "w1 = tf.Variable(.6, tf.float32)\n",
    "w2 = tf.Variable(.6, tf.float32)\n",
    "w3 = tf.Variable(.6, tf.float32)\n",
    "w4 = tf.Variable(.6, tf.float32)\n",
    "w5 = tf.Variable(.6, tf.float32)\n",
    "w6 = tf.Variable(.6, tf.float32)\n",
    "w7 = tf.Variable(.6, tf.float32)\n",
    "w8 = tf.Variable(.6, tf.float32)\n",
    "w9 = tf.Variable(.6, tf.float32)\n",
    "w10 = tf.Variable(.6, tf.float32)\n",
    "\n",
    "b = tf.Variable(0., tf.float32)\n",
    "\n",
    "h = x1*w1 + x2*w2 + x3*w3 + x4*w4 + x5*w5 + x6*w6 + x7*w7 + x8*w8 + x9*w9 + x10*w10 + b"
   ]
  }
 ],
 "metadata": {
  "kernelspec": {
   "display_name": "Python 3",
   "language": "python",
   "name": "python3"
  },
  "language_info": {
   "codemirror_mode": {
    "name": "ipython",
    "version": 3
   },
   "file_extension": ".py",
   "mimetype": "text/x-python",
   "name": "python",
   "nbconvert_exporter": "python",
   "pygments_lexer": "ipython3",
   "version": "3.6.1"
  }
 },
 "nbformat": 4,
 "nbformat_minor": 2
}
