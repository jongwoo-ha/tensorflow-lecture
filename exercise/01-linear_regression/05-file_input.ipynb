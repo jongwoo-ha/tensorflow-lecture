{
 "cells": [
  {
   "cell_type": "raw",
   "metadata": {},
   "source": [
    "numpy\n",
    "numpy.loadtxt()\n",
    "tf.abs()"
   ]
  },
  {
   "cell_type": "code",
   "execution_count": 1,
   "metadata": {
    "collapsed": true
   },
   "outputs": [],
   "source": [
    "import tensorflow as tf\n",
    "import numpy as np\n",
    "\n",
    "sess = tf.InteractiveSession()"
   ]
  },
  {
   "cell_type": "code",
   "execution_count": 2,
   "metadata": {},
   "outputs": [
    {
     "name": "stdout",
     "output_type": "stream",
     "text": [
      "[[  1.   2.   3.   4.]\n",
      " [  5.   6.   7.   8.]\n",
      " [  9.  10.  11.  12.]\n",
      " [ 13.  14.  15.  16.]\n",
      " [ 17.  18.  19.  20.]]\n",
      "(5, 4)\n",
      "float32\n"
     ]
    }
   ],
   "source": [
    "a = np.array([[1, 2, 3, 4],\n",
    "              [5, 6, 7, 8],\n",
    "              [9, 10, 11, 12],\n",
    "              [13, 14, 15, 16],\n",
    "              [17, 18, 19, 20]], np.float32)\n",
    "print(a)\n",
    "print(a.shape)\n",
    "print(a.dtype)"
   ]
  },
  {
   "cell_type": "code",
   "execution_count": 3,
   "metadata": {},
   "outputs": [
    {
     "name": "stdout",
     "output_type": "stream",
     "text": [
      "[ 1.  2.  3.  4.]\n"
     ]
    }
   ],
   "source": [
    "a = np.array([[1, 2, 3, 4],\n",
    "              [5, 6, 7, 8],\n",
    "              [9, 10, 11, 12],\n",
    "              [13, 14, 15, 16],\n",
    "              [17, 18, 19, 20]], np.float32)\n",
    "print(a[0])"
   ]
  },
  {
   "cell_type": "code",
   "execution_count": 4,
   "metadata": {},
   "outputs": [
    {
     "name": "stdout",
     "output_type": "stream",
     "text": [
      "[  9.  10.  11.  12.]\n"
     ]
    }
   ],
   "source": [
    "a = np.array([[1, 2, 3, 4],\n",
    "              [5, 6, 7, 8],\n",
    "              [9, 10, 11, 12],\n",
    "              [13, 14, 15, 16],\n",
    "              [17, 18, 19, 20]], np.float32)\n",
    "print(a[2])"
   ]
  },
  {
   "cell_type": "code",
   "execution_count": 5,
   "metadata": {},
   "outputs": [
    {
     "name": "stdout",
     "output_type": "stream",
     "text": [
      "[ 17.  18.  19.  20.]\n"
     ]
    }
   ],
   "source": [
    "a = np.array([[1, 2, 3, 4],\n",
    "              [5, 6, 7, 8],\n",
    "              [9, 10, 11, 12],\n",
    "              [13, 14, 15, 16],\n",
    "              [17, 18, 19, 20]], np.float32)\n",
    "print(a[-1])"
   ]
  },
  {
   "cell_type": "code",
   "execution_count": 6,
   "metadata": {},
   "outputs": [
    {
     "name": "stdout",
     "output_type": "stream",
     "text": [
      "6.0\n"
     ]
    }
   ],
   "source": [
    "a = np.array([[1, 2, 3, 4],\n",
    "              [5, 6, 7, 8],\n",
    "              [9, 10, 11, 12],\n",
    "              [13, 14, 15, 16],\n",
    "              [17, 18, 19, 20]], np.float32)\n",
    "print(a[1, 1])"
   ]
  },
  {
   "cell_type": "code",
   "execution_count": 7,
   "metadata": {},
   "outputs": [
    {
     "name": "stdout",
     "output_type": "stream",
     "text": [
      "16.0\n"
     ]
    }
   ],
   "source": [
    "a = np.array([[1, 2, 3, 4],\n",
    "              [5, 6, 7, 8],\n",
    "              [9, 10, 11, 12],\n",
    "              [13, 14, 15, 16],\n",
    "              [17, 18, 19, 20]], np.float32)\n",
    "print(a[3, -1])"
   ]
  },
  {
   "cell_type": "code",
   "execution_count": 8,
   "metadata": {},
   "outputs": [
    {
     "name": "stdout",
     "output_type": "stream",
     "text": [
      "[[  5.   6.   7.   8.]\n",
      " [  9.  10.  11.  12.]]\n"
     ]
    }
   ],
   "source": [
    "a = np.array([[1, 2, 3, 4],\n",
    "              [5, 6, 7, 8],\n",
    "              [9, 10, 11, 12],\n",
    "              [13, 14, 15, 16],\n",
    "              [17, 18, 19, 20]], np.float32)\n",
    "print(a[1:3])"
   ]
  },
  {
   "cell_type": "code",
   "execution_count": 9,
   "metadata": {},
   "outputs": [
    {
     "name": "stdout",
     "output_type": "stream",
     "text": [
      "[[  5.   6.   7.   8.]\n",
      " [  9.  10.  11.  12.]\n",
      " [ 13.  14.  15.  16.]\n",
      " [ 17.  18.  19.  20.]]\n"
     ]
    }
   ],
   "source": [
    "a = np.array([[1, 2, 3, 4],\n",
    "              [5, 6, 7, 8],\n",
    "              [9, 10, 11, 12],\n",
    "              [13, 14, 15, 16],\n",
    "              [17, 18, 19, 20]], np.float32)\n",
    "print(a[1:])"
   ]
  },
  {
   "cell_type": "code",
   "execution_count": 10,
   "metadata": {},
   "outputs": [
    {
     "name": "stdout",
     "output_type": "stream",
     "text": [
      "[[  1.   2.   3.   4.]\n",
      " [  9.  10.  11.  12.]\n",
      " [ 17.  18.  19.  20.]]\n"
     ]
    }
   ],
   "source": [
    "a = np.array([[1, 2, 3, 4],\n",
    "              [5, 6, 7, 8],\n",
    "              [9, 10, 11, 12],\n",
    "              [13, 14, 15, 16],\n",
    "              [17, 18, 19, 20]], np.float32)\n",
    "print(a[0::2])"
   ]
  },
  {
   "cell_type": "code",
   "execution_count": 11,
   "metadata": {},
   "outputs": [
    {
     "name": "stdout",
     "output_type": "stream",
     "text": [
      "[[ 17.  18.  19.  20.]\n",
      " [ 13.  14.  15.  16.]\n",
      " [  9.  10.  11.  12.]\n",
      " [  5.   6.   7.   8.]\n",
      " [  1.   2.   3.   4.]]\n"
     ]
    }
   ],
   "source": [
    "a = np.array([[1, 2, 3, 4],\n",
    "              [5, 6, 7, 8],\n",
    "              [9, 10, 11, 12],\n",
    "              [13, 14, 15, 16],\n",
    "              [17, 18, 19, 20]], np.float32)\n",
    "print(a[::-1])"
   ]
  },
  {
   "cell_type": "code",
   "execution_count": 12,
   "metadata": {},
   "outputs": [
    {
     "name": "stdout",
     "output_type": "stream",
     "text": [
      "[[ 1.  2.  3.  4.]]\n"
     ]
    }
   ],
   "source": [
    "a = np.array([[1, 2, 3, 4],\n",
    "              [5, 6, 7, 8],\n",
    "              [9, 10, 11, 12],\n",
    "              [13, 14, 15, 16],\n",
    "              [17, 18, 19, 20]], np.float32)\n",
    "print(a[[0]])"
   ]
  },
  {
   "cell_type": "code",
   "execution_count": 13,
   "metadata": {},
   "outputs": [
    {
     "name": "stdout",
     "output_type": "stream",
     "text": [
      "[[  1.   2.   3.   4.]\n",
      " [  5.   6.   7.   8.]\n",
      " [ 13.  14.  15.  16.]]\n"
     ]
    }
   ],
   "source": [
    "a = np.array([[1, 2, 3, 4],\n",
    "              [5, 6, 7, 8],\n",
    "              [9, 10, 11, 12],\n",
    "              [13, 14, 15, 16],\n",
    "              [17, 18, 19, 20]], np.float32)\n",
    "print(a[[0, 1, 3]])"
   ]
  },
  {
   "cell_type": "code",
   "execution_count": 14,
   "metadata": {},
   "outputs": [
    {
     "name": "stdout",
     "output_type": "stream",
     "text": [
      "[[  1.   2.   3.]\n",
      " [  5.   6.   7.]\n",
      " [  9.  10.  11.]\n",
      " [ 13.  14.  15.]\n",
      " [ 17.  18.  19.]]\n"
     ]
    }
   ],
   "source": [
    "a = np.array([[1, 2, 3, 4],\n",
    "              [5, 6, 7, 8],\n",
    "              [9, 10, 11, 12],\n",
    "              [13, 14, 15, 16],\n",
    "              [17, 18, 19, 20]], np.float32)\n",
    "print(a[:, 0:3])"
   ]
  },
  {
   "cell_type": "code",
   "execution_count": 15,
   "metadata": {},
   "outputs": [
    {
     "name": "stdout",
     "output_type": "stream",
     "text": [
      "[[ 1.  2.]\n",
      " [ 5.  6.]]\n"
     ]
    }
   ],
   "source": [
    "a = np.array([[1, 2, 3, 4],\n",
    "              [5, 6, 7, 8],\n",
    "              [9, 10, 11, 12],\n",
    "              [13, 14, 15, 16],\n",
    "              [17, 18, 19, 20]], np.float32)\n",
    "print(a[0:2, 0:2])"
   ]
  },
  {
   "cell_type": "code",
   "execution_count": 16,
   "metadata": {},
   "outputs": [
    {
     "name": "stdout",
     "output_type": "stream",
     "text": [
      "[[  1.   2.   3.]\n",
      " [  5.   6.   7.]\n",
      " [  9.  10.  11.]\n",
      " [ 13.  14.  15.]\n",
      " [ 17.  18.  19.]]\n"
     ]
    }
   ],
   "source": [
    "a = np.array([[1, 2, 3, 4],\n",
    "              [5, 6, 7, 8],\n",
    "              [9, 10, 11, 12],\n",
    "              [13, 14, 15, 16],\n",
    "              [17, 18, 19, 20]], np.float32)\n",
    "print(a[:, 0:-1])"
   ]
  },
  {
   "cell_type": "code",
   "execution_count": 17,
   "metadata": {},
   "outputs": [
    {
     "name": "stdout",
     "output_type": "stream",
     "text": [
      "[[  4.]\n",
      " [  8.]\n",
      " [ 12.]\n",
      " [ 16.]\n",
      " [ 20.]]\n"
     ]
    }
   ],
   "source": [
    "a = np.array([[1, 2, 3, 4],\n",
    "              [5, 6, 7, 8],\n",
    "              [9, 10, 11, 12],\n",
    "              [13, 14, 15, 16],\n",
    "              [17, 18, 19, 20]], np.float32)\n",
    "print(a[:, -1:])"
   ]
  },
  {
   "cell_type": "code",
   "execution_count": 18,
   "metadata": {},
   "outputs": [
    {
     "name": "stdout",
     "output_type": "stream",
     "text": [
      "[[  4.]\n",
      " [  8.]\n",
      " [ 12.]\n",
      " [ 16.]\n",
      " [ 20.]]\n"
     ]
    }
   ],
   "source": [
    "a = np.array([[1, 2, 3, 4],\n",
    "              [5, 6, 7, 8],\n",
    "              [9, 10, 11, 12],\n",
    "              [13, 14, 15, 16],\n",
    "              [17, 18, 19, 20]], np.float32)\n",
    "print(a[:, [-1]])"
   ]
  },
  {
   "cell_type": "code",
   "execution_count": 19,
   "metadata": {},
   "outputs": [
    {
     "name": "stdout",
     "output_type": "stream",
     "text": [
      "(25, 4)\n",
      "float64\n"
     ]
    }
   ],
   "source": [
    "# https://docs.scipy.org/doc/numpy/reference/generated/numpy.loadtxt.html\n",
    "# numpy.loadtxt(fname,\n",
    "#               dtype=<type 'float'>,\n",
    "#               comments='#',\n",
    "#               delimiter=None,\n",
    "#               converters=None,\n",
    "#               skiprows=0,\n",
    "#               usecols=None,\n",
    "#               unpack=False, ndmin=0)\n",
    "\n",
    "xy = np.loadtxt('../../dataset/01-test_score.csv', delimiter=',')\n",
    "print(xy.shape)\n",
    "print(xy.dtype)"
   ]
  },
  {
   "cell_type": "code",
   "execution_count": 20,
   "metadata": {},
   "outputs": [
    {
     "name": "stdout",
     "output_type": "stream",
     "text": [
      "[[  73.   80.   75.  152.]\n",
      " [  93.   88.   93.  185.]\n",
      " [  89.   91.   90.  180.]\n",
      " [  96.   98.  100.  196.]\n",
      " [  73.   66.   70.  142.]\n",
      " [  53.   46.   55.  101.]\n",
      " [  69.   74.   77.  149.]\n",
      " [  47.   56.   60.  115.]\n",
      " [  87.   79.   90.  175.]\n",
      " [  79.   70.   88.  164.]\n",
      " [  69.   70.   73.  141.]\n",
      " [  70.   65.   74.  141.]\n",
      " [  93.   95.   91.  184.]\n",
      " [  79.   80.   73.  152.]\n",
      " [  70.   73.   78.  148.]\n",
      " [  93.   89.   96.  192.]\n",
      " [  78.   75.   68.  147.]\n",
      " [  81.   90.   93.  183.]\n",
      " [  88.   92.   86.  177.]\n",
      " [  78.   83.   77.  159.]\n",
      " [  82.   86.   90.  177.]\n",
      " [  86.   82.   89.  175.]\n",
      " [  78.   83.   85.  175.]\n",
      " [  76.   83.   71.  149.]\n",
      " [  96.   93.   95.  192.]]\n",
      "(25, 4)\n",
      "float32\n"
     ]
    }
   ],
   "source": [
    "xy = np.loadtxt('../../dataset/01-test_score.csv', dtype=np.float32, delimiter=',')\n",
    "print(xy)\n",
    "print(xy.shape)\n",
    "print(xy.dtype)"
   ]
  },
  {
   "cell_type": "code",
   "execution_count": 21,
   "metadata": {},
   "outputs": [
    {
     "name": "stdout",
     "output_type": "stream",
     "text": [
      "[[  73.   80.   75.]\n",
      " [  93.   88.   93.]\n",
      " [  89.   91.   90.]\n",
      " [  96.   98.  100.]\n",
      " [  73.   66.   70.]\n",
      " [  53.   46.   55.]\n",
      " [  69.   74.   77.]\n",
      " [  47.   56.   60.]\n",
      " [  87.   79.   90.]\n",
      " [  79.   70.   88.]\n",
      " [  69.   70.   73.]\n",
      " [  70.   65.   74.]\n",
      " [  93.   95.   91.]\n",
      " [  79.   80.   73.]\n",
      " [  70.   73.   78.]\n",
      " [  93.   89.   96.]\n",
      " [  78.   75.   68.]\n",
      " [  81.   90.   93.]\n",
      " [  88.   92.   86.]\n",
      " [  78.   83.   77.]\n",
      " [  82.   86.   90.]\n",
      " [  86.   82.   89.]\n",
      " [  78.   83.   85.]\n",
      " [  76.   83.   71.]\n",
      " [  96.   93.   95.]]\n",
      "(25, 3)\n"
     ]
    }
   ],
   "source": [
    "x_data = xy[:, 0:-1]\n",
    "print(x_data)\n",
    "print(x_data.shape)"
   ]
  },
  {
   "cell_type": "code",
   "execution_count": 22,
   "metadata": {},
   "outputs": [
    {
     "name": "stdout",
     "output_type": "stream",
     "text": [
      "[[ 152.]\n",
      " [ 185.]\n",
      " [ 180.]\n",
      " [ 196.]\n",
      " [ 142.]\n",
      " [ 101.]\n",
      " [ 149.]\n",
      " [ 115.]\n",
      " [ 175.]\n",
      " [ 164.]\n",
      " [ 141.]\n",
      " [ 141.]\n",
      " [ 184.]\n",
      " [ 152.]\n",
      " [ 148.]\n",
      " [ 192.]\n",
      " [ 147.]\n",
      " [ 183.]\n",
      " [ 177.]\n",
      " [ 159.]\n",
      " [ 177.]\n",
      " [ 175.]\n",
      " [ 175.]\n",
      " [ 149.]\n",
      " [ 192.]]\n",
      "(25, 1)\n"
     ]
    }
   ],
   "source": [
    "y_data = xy[:, [-1]]\n",
    "print(y_data)\n",
    "print(y_data.shape)"
   ]
  },
  {
   "cell_type": "code",
   "execution_count": 23,
   "metadata": {},
   "outputs": [
    {
     "name": "stdout",
     "output_type": "stream",
     "text": [
      "(25, 1)\n"
     ]
    }
   ],
   "source": [
    "y_data = xy[:, -1:]\n",
    "print(y_data.shape)"
   ]
  },
  {
   "cell_type": "code",
   "execution_count": 24,
   "metadata": {},
   "outputs": [
    {
     "name": "stdout",
     "output_type": "stream",
     "text": [
      "3\n"
     ]
    }
   ],
   "source": [
    "num_features = xy.shape[1] - 1\n",
    "print(num_features)"
   ]
  },
  {
   "cell_type": "code",
   "execution_count": 25,
   "metadata": {},
   "outputs": [
    {
     "name": "stdout",
     "output_type": "stream",
     "text": [
      "[[0]\n",
      " [0]\n",
      " [0]\n",
      " [0]\n",
      " [0]]\n",
      "[[-1]\n",
      " [-2]\n",
      " [-3]\n",
      " [-4]\n",
      " [-5]]\n"
     ]
    }
   ],
   "source": [
    "Y = tf.constant([[1],\n",
    "                 [2],\n",
    "                 [3],\n",
    "                 [4],\n",
    "                 [5]])\n",
    "H1 = tf.constant([[1],\n",
    "                  [2],\n",
    "                  [3],\n",
    "                  [4],\n",
    "                  [5]])\n",
    "H2 = tf.constant([[0],\n",
    "                  [0],\n",
    "                  [0],\n",
    "                  [0],\n",
    "                  [0]])\n",
    "print((H1 - Y).eval())\n",
    "print((H2 - Y).eval())"
   ]
  },
  {
   "cell_type": "code",
   "execution_count": 26,
   "metadata": {},
   "outputs": [
    {
     "name": "stdout",
     "output_type": "stream",
     "text": [
      "[[0]\n",
      " [0]\n",
      " [0]\n",
      " [0]\n",
      " [0]]\n",
      "[[1]\n",
      " [2]\n",
      " [3]\n",
      " [4]\n",
      " [5]]\n"
     ]
    }
   ],
   "source": [
    "# https://www.tensorflow.org/api_docs/python/tf/abs\n",
    "# tf.abs(x, name=None)\n",
    "\n",
    "print(tf.abs(H1 - Y).eval())\n",
    "print(tf.abs(H2 - Y).eval())"
   ]
  },
  {
   "cell_type": "code",
   "execution_count": 27,
   "metadata": {},
   "outputs": [
    {
     "name": "stdout",
     "output_type": "stream",
     "text": [
      "0\n",
      "3\n"
     ]
    }
   ],
   "source": [
    "print(tf.reduce_mean(tf.abs(H1 - Y)).eval())\n",
    "print(tf.reduce_mean(tf.abs(H2 - Y)).eval())"
   ]
  }
 ],
 "metadata": {
  "kernelspec": {
   "display_name": "Python 3",
   "language": "python",
   "name": "python3"
  },
  "language_info": {
   "codemirror_mode": {
    "name": "ipython",
    "version": 3
   },
   "file_extension": ".py",
   "mimetype": "text/x-python",
   "name": "python",
   "nbconvert_exporter": "python",
   "pygments_lexer": "ipython3",
   "version": "3.6.1"
  }
 },
 "nbformat": 4,
 "nbformat_minor": 2
}
