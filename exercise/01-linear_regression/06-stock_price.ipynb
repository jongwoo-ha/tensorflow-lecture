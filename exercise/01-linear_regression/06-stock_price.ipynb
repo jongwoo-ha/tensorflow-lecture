{
 "cells": [
  {
   "cell_type": "raw",
   "metadata": {},
   "source": [
    "numpy.hstack()"
   ]
  },
  {
   "cell_type": "code",
   "execution_count": 1,
   "metadata": {
    "collapsed": true
   },
   "outputs": [],
   "source": [
    "import tensorflow as tf\n",
    "import numpy as np"
   ]
  },
  {
   "cell_type": "code",
   "execution_count": 2,
   "metadata": {},
   "outputs": [
    {
     "name": "stdout",
     "output_type": "stream",
     "text": [
      "1\n"
     ]
    }
   ],
   "source": [
    "# 1) sess = tf.Session()\n",
    "\n",
    "a = tf.constant(1)\n",
    "\n",
    "sess = tf.Session()\n",
    "\n",
    "print(sess.run(a))\n",
    "# print(a.eval()) # error\n",
    "\n",
    "sess.close()\n",
    "\n",
    "# print(sess.run(a)) # error"
   ]
  },
  {
   "cell_type": "code",
   "execution_count": 3,
   "metadata": {},
   "outputs": [
    {
     "name": "stdout",
     "output_type": "stream",
     "text": [
      "1\n",
      "1\n"
     ]
    }
   ],
   "source": [
    "# 2) with tf.Session() as sess:\n",
    "\n",
    "a = tf.constant(1)\n",
    "\n",
    "with tf.Session() as sess:\n",
    "    print(sess.run(a))\n",
    "    print(a.eval())"
   ]
  },
  {
   "cell_type": "code",
   "execution_count": 4,
   "metadata": {},
   "outputs": [
    {
     "name": "stdout",
     "output_type": "stream",
     "text": [
      "1\n",
      "1\n"
     ]
    }
   ],
   "source": [
    "# (3) tf.InteractiveSession()\n",
    "\n",
    "sess = tf.InteractiveSession()\n",
    "\n",
    "print(sess.run(a))\n",
    "print(a.eval())"
   ]
  },
  {
   "cell_type": "code",
   "execution_count": 5,
   "metadata": {},
   "outputs": [
    {
     "name": "stdout",
     "output_type": "stream",
     "text": [
      "(11, 5)\n"
     ]
    }
   ],
   "source": [
    "xy = np.array([[100, 105, 95, 20000, 101],\n",
    "               [101, 106, 95, 20010, 102],\n",
    "               [102, 107, 95, 20020, 103],\n",
    "               [103, 108, 95, 20030, 104],\n",
    "               [104, 109, 95, 20040, 105],\n",
    "               [105, 110, 95, 20050, 106],\n",
    "               [106, 111, 95, 20060, 107],\n",
    "               [107, 112, 95, 20070, 108],\n",
    "               [108, 113, 95, 20080, 109],\n",
    "               [109, 114, 95, 20090, 110],\n",
    "               [110, 115, 95, 20100, 111]])\n",
    "print(xy.shape)"
   ]
  },
  {
   "cell_type": "code",
   "execution_count": 6,
   "metadata": {},
   "outputs": [
    {
     "name": "stdout",
     "output_type": "stream",
     "text": [
      "(8, 5)\n",
      "(8, 1)\n",
      "[[  100   105    95 20000   101   102]\n",
      " [  101   106    95 20010   102   103]\n",
      " [  102   107    95 20020   103   104]\n",
      " [  103   108    95 20030   104   105]\n",
      " [  104   109    95 20040   105   106]\n",
      " [  105   110    95 20050   106   107]\n",
      " [  106   111    95 20060   107   108]\n",
      " [  107   112    95 20070   108   109]]\n"
     ]
    }
   ],
   "source": [
    "# https://docs.scipy.org/doc/numpy/reference/generated/numpy.hstack.html\n",
    "# numpy.hstack(tup)\n",
    "\n",
    "xy = np.array([[100, 105, 95, 20000, 101],\n",
    "               [101, 106, 95, 20010, 102],\n",
    "               [102, 107, 95, 20020, 103],\n",
    "               [103, 108, 95, 20030, 104],\n",
    "               [104, 109, 95, 20040, 105],\n",
    "               [105, 110, 95, 20050, 106],\n",
    "               [106, 111, 95, 20060, 107],\n",
    "               [107, 112, 95, 20070, 108],\n",
    "               [108, 113, 95, 20080, 109],\n",
    "               [109, 114, 95, 20090, 110],\n",
    "               [110, 115, 95, 20100, 111]])\n",
    "x_train = xy[:8]\n",
    "y_train = xy[1:8+1, [-1]]\n",
    "print(x_train.shape)\n",
    "print(y_train.shape)\n",
    "print(np.hstack((x_train, y_train)))"
   ]
  },
  {
   "cell_type": "code",
   "execution_count": 7,
   "metadata": {},
   "outputs": [
    {
     "name": "stdout",
     "output_type": "stream",
     "text": [
      "(2, 5)\n",
      "(2, 1)\n",
      "[[  108   113    95 20080   109   110]\n",
      " [  109   114    95 20090   110   111]]\n"
     ]
    }
   ],
   "source": [
    "xy = np.array([[100, 105, 95, 20000, 101],\n",
    "               [101, 106, 95, 20010, 102],\n",
    "               [102, 107, 95, 20020, 103],\n",
    "               [103, 108, 95, 20030, 104],\n",
    "               [104, 109, 95, 20040, 105],\n",
    "               [105, 110, 95, 20050, 106],\n",
    "               [106, 111, 95, 20060, 107],\n",
    "               [107, 112, 95, 20070, 108],\n",
    "               [108, 113, 95, 20080, 109],\n",
    "               [109, 114, 95, 20090, 110],\n",
    "               [110, 115, 95, 20100, 111]])\n",
    "x_test = xy[8:-1]\n",
    "y_test = xy[8+1:, [-1]]\n",
    "print(x_test.shape)\n",
    "print(y_test.shape)\n",
    "print(np.hstack((x_test, y_test)))"
   ]
  },
  {
   "cell_type": "code",
   "execution_count": 8,
   "metadata": {},
   "outputs": [
    {
     "name": "stdout",
     "output_type": "stream",
     "text": [
      "(1257, 5)\n"
     ]
    }
   ],
   "source": [
    "xy = np.loadtxt('../../dataset/02-stock_google.csv', delimiter=',')\n",
    "print(xy.shape)\n",
    "\n",
    "# print(xy.shape[0])\n",
    "# print(xy.shape[1])"
   ]
  },
  {
   "cell_type": "code",
   "execution_count": 9,
   "metadata": {},
   "outputs": [
    {
     "name": "stdout",
     "output_type": "stream",
     "text": [
      "1004\n"
     ]
    }
   ],
   "source": [
    "train_ratio = 0.8\n",
    "train_size = int((xy.shape[0]-1) * train_ratio)\n",
    "\n",
    "print(train_size)"
   ]
  },
  {
   "cell_type": "code",
   "execution_count": 10,
   "metadata": {},
   "outputs": [
    {
     "name": "stdout",
     "output_type": "stream",
     "text": [
      "(1004, 5) (1004, 1)\n",
      "(252, 5) (252, 1)\n"
     ]
    }
   ],
   "source": [
    "x_train, y_train = xy[:train_size], xy[1:train_size+1, [-1]]\n",
    "x_test, y_test = xy[train_size:-1], xy[train_size+1:, [-1]]\n",
    "\n",
    "print(x_train.shape, y_train.shape)\n",
    "print(x_test.shape, y_test.shape)"
   ]
  },
  {
   "cell_type": "code",
   "execution_count": 11,
   "metadata": {},
   "outputs": [
    {
     "name": "stdout",
     "output_type": "stream",
     "text": [
      "5\n"
     ]
    }
   ],
   "source": [
    "num_features = x_train.shape[1]\n",
    "\n",
    "print(num_features)"
   ]
  },
  {
   "cell_type": "code",
   "execution_count": 12,
   "metadata": {
    "scrolled": true
   },
   "outputs": [
    {
     "data": {
      "text/plain": [
       "6.0126972539682546"
      ]
     },
     "execution_count": 12,
     "metadata": {},
     "output_type": "execute_result"
    }
   ],
   "source": [
    "# prediction by today's close price\n",
    "\n",
    "prediction = x_test[:, [-1]]\n",
    "Y = y_test\n",
    "\n",
    "abs_diff = tf.abs(prediction - Y)\n",
    "\n",
    "tf.reduce_mean(abs_diff).eval()"
   ]
  },
  {
   "cell_type": "code",
   "execution_count": 13,
   "metadata": {
    "scrolled": true
   },
   "outputs": [
    {
     "name": "stdout",
     "output_type": "stream",
     "text": [
      "MAE: 6.01269725397\n",
      "MinDiff: 0.019958\n",
      "MaxDiff: 33.579956\n"
     ]
    }
   ],
   "source": [
    "mae, min_diff, max_diff =  tf.reduce_mean(abs_diff), tf.reduce_min(abs_diff), tf.reduce_max(abs_diff)\n",
    "\n",
    "print('MAE:', mae.eval())\n",
    "print('MinDiff:', min_diff.eval())\n",
    "print('MaxDiff:', max_diff.eval())"
   ]
  }
 ],
 "metadata": {
  "kernelspec": {
   "display_name": "Python 3",
   "language": "python",
   "name": "python3"
  },
  "language_info": {
   "codemirror_mode": {
    "name": "ipython",
    "version": 3
   },
   "file_extension": ".py",
   "mimetype": "text/x-python",
   "name": "python",
   "nbconvert_exporter": "python",
   "pygments_lexer": "ipython3",
   "version": "3.6.1"
  }
 },
 "nbformat": 4,
 "nbformat_minor": 2
}
